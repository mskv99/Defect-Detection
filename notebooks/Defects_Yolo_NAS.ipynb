{
  "cells": [
    {
      "cell_type": "markdown",
      "metadata": {
        "id": "eba28258-ed6a-4e72-b3ac-55cd19b07ca8"
      },
      "source": [
        "# YOLO NAS Finetuning on custom dataset\n"
      ],
      "id": "eba28258-ed6a-4e72-b3ac-55cd19b07ca8"
    },
    {
      "cell_type": "markdown",
      "metadata": {
        "id": "f1bb2bf6-77e7-41d0-850e-d23b1f188467"
      },
      "source": [
        "## Necessary Setup and Imports"
      ],
      "id": "f1bb2bf6-77e7-41d0-850e-d23b1f188467"
    },
    {
      "cell_type": "code",
      "execution_count": null,
      "metadata": {
        "id": "TfmbhKaGYydI"
      },
      "outputs": [],
      "source": [
        "# One time installation.\n",
        "!pip install super-gradients==3.2.0\n"
      ],
      "id": "TfmbhKaGYydI"
    },
    {
      "cell_type": "code",
      "execution_count": 2,
      "metadata": {
        "colab": {
          "base_uri": "https://localhost:8080/"
        },
        "id": "BZEkEnlhC5Xa",
        "outputId": "125464de-e08b-49a0-a02b-0c46a4cf3acd"
      },
      "outputs": [
        {
          "output_type": "stream",
          "name": "stdout",
          "text": [
            "Requirement already satisfied: imutils in /usr/local/lib/python3.10/dist-packages (0.5.4)\n"
          ]
        }
      ],
      "source": [
        "!pip install imutils"
      ],
      "id": "BZEkEnlhC5Xa"
    },
    {
      "cell_type": "code",
      "execution_count": null,
      "metadata": {
        "id": "Got_Izc20gyT"
      },
      "outputs": [],
      "source": [
        "!pip install wandb"
      ],
      "id": "Got_Izc20gyT"
    },
    {
      "cell_type": "code",
      "source": [
        "!pip install torchinfo"
      ],
      "metadata": {
        "colab": {
          "base_uri": "https://localhost:8080/"
        },
        "id": "Ml-ivcaJC4QD",
        "outputId": "35fc8e3d-c9b4-4109-b9e0-ab4480277a1e"
      },
      "id": "Ml-ivcaJC4QD",
      "execution_count": 3,
      "outputs": [
        {
          "output_type": "stream",
          "name": "stdout",
          "text": [
            "Collecting torchinfo\n",
            "  Downloading torchinfo-1.8.0-py3-none-any.whl (23 kB)\n",
            "Installing collected packages: torchinfo\n",
            "Successfully installed torchinfo-1.8.0\n"
          ]
        }
      ]
    },
    {
      "cell_type": "code",
      "execution_count": 4,
      "metadata": {
        "colab": {
          "base_uri": "https://localhost:8080/"
        },
        "id": "iTqJkWZU0ipA",
        "outputId": "224c3b76-4dad-4b8c-bee9-74f87b534783"
      },
      "outputs": [
        {
          "output_type": "stream",
          "name": "stdout",
          "text": [
            "\u001b[34m\u001b[1mwandb\u001b[0m: Logging into wandb.ai. (Learn how to deploy a W&B server locally: https://wandb.me/wandb-server)\n",
            "\u001b[34m\u001b[1mwandb\u001b[0m: You can find your API key in your browser here: https://wandb.ai/authorize\n",
            "\u001b[34m\u001b[1mwandb\u001b[0m: Paste an API key from your profile and hit enter, or press ctrl+c to quit: \n",
            "\u001b[34m\u001b[1mwandb\u001b[0m: Appending key for api.wandb.ai to your netrc file: /root/.netrc\n"
          ]
        }
      ],
      "source": [
        "!wandb login"
      ],
      "id": "iTqJkWZU0ipA"
    },
    {
      "cell_type": "code",
      "execution_count": 2,
      "metadata": {
        "id": "a103cf03-29ac-419d-b347-4004301fcf88"
      },
      "outputs": [],
      "source": [
        "from super_gradients.training import Trainer\n",
        "from super_gradients.training import dataloaders\n",
        "from super_gradients.training.dataloaders.dataloaders import (\n",
        "    coco_detection_yolo_format_train,\n",
        "    coco_detection_yolo_format_val\n",
        ")\n",
        "from super_gradients.training import models\n",
        "from super_gradients.training.losses import PPYoloELoss\n",
        "from super_gradients.training.metrics import (\n",
        "    DetectionMetrics_050,\n",
        "    DetectionMetrics_050_095,\n",
        ")\n",
        "from super_gradients.training.models.detection_models.pp_yolo_e import PPYoloEPostPredictionCallback\n",
        "from tqdm.auto import tqdm\n",
        "\n",
        "import os\n",
        "import requests\n",
        "import zipfile\n",
        "import cv2\n",
        "import matplotlib.pyplot as plt\n",
        "import glob\n",
        "import numpy as np\n",
        "import random"
      ],
      "id": "a103cf03-29ac-419d-b347-4004301fcf88"
    },
    {
      "cell_type": "code",
      "execution_count": 3,
      "metadata": {
        "id": "bFyt8hZPUVW-"
      },
      "outputs": [],
      "source": [
        "from tqdm.auto import tqdm\n",
        "\n",
        "import os\n",
        "import requests\n",
        "import zipfile\n",
        "import cv2\n",
        "import matplotlib.pyplot as plt\n",
        "import glob\n",
        "import numpy as np\n",
        "import random\n",
        "import torch\n",
        "#import wandb"
      ],
      "id": "bFyt8hZPUVW-"
    },
    {
      "cell_type": "markdown",
      "metadata": {
        "id": "Xk8XVQlelXEg"
      },
      "source": [
        "RESTART RUNTIME AFTER INSTALLATION IF RUNNING ON COLAB"
      ],
      "id": "Xk8XVQlelXEg"
    },
    {
      "cell_type": "code",
      "execution_count": 4,
      "metadata": {
        "id": "-XaQriXd06y0"
      },
      "outputs": [],
      "source": [
        "def set_random_seed(seed):\n",
        "  torch.manual_seed(seed)\n",
        "  torch.cuda.manual_seed(seed)\n",
        "  torch.backends.cudnn.deterministic = True\n",
        "  torch.backends.cudnn.benchmark = False\n",
        "  np.random.seed(seed)\n",
        "  random.seed(seed)\n",
        "\n",
        "set_random_seed(42)"
      ],
      "id": "-XaQriXd06y0"
    },
    {
      "cell_type": "code",
      "source": [
        "!nvidia-smi"
      ],
      "metadata": {
        "colab": {
          "base_uri": "https://localhost:8080/"
        },
        "id": "M_thFklMGunt",
        "outputId": "48f3a03d-f8d7-4899-8aa1-08b0fdad8f0a"
      },
      "id": "M_thFklMGunt",
      "execution_count": 9,
      "outputs": [
        {
          "output_type": "stream",
          "name": "stdout",
          "text": [
            "Thu Feb 15 17:18:07 2024       \n",
            "+---------------------------------------------------------------------------------------+\n",
            "| NVIDIA-SMI 535.104.05             Driver Version: 535.104.05   CUDA Version: 12.2     |\n",
            "|-----------------------------------------+----------------------+----------------------+\n",
            "| GPU  Name                 Persistence-M | Bus-Id        Disp.A | Volatile Uncorr. ECC |\n",
            "| Fan  Temp   Perf          Pwr:Usage/Cap |         Memory-Usage | GPU-Util  Compute M. |\n",
            "|                                         |                      |               MIG M. |\n",
            "|=========================================+======================+======================|\n",
            "|   0  Tesla T4                       Off | 00000000:00:04.0 Off |                    0 |\n",
            "| N/A   35C    P8               9W /  70W |      3MiB / 15360MiB |      0%      Default |\n",
            "|                                         |                      |                  N/A |\n",
            "+-----------------------------------------+----------------------+----------------------+\n",
            "                                                                                         \n",
            "+---------------------------------------------------------------------------------------+\n",
            "| Processes:                                                                            |\n",
            "|  GPU   GI   CI        PID   Type   Process name                            GPU Memory |\n",
            "|        ID   ID                                                             Usage      |\n",
            "|=======================================================================================|\n",
            "|  No running processes found                                                           |\n",
            "+---------------------------------------------------------------------------------------+\n"
          ]
        }
      ]
    },
    {
      "cell_type": "markdown",
      "metadata": {
        "id": "ZMMn8ZMSe5MR"
      },
      "source": [
        "# 🪡 Fine-tuning YOLONAS on custom dataset\n",
        "\n",
        "## 🏋🏽 The trainer\n",
        "\n",
        "The first thing you need to define in SuperGradients is the Trainer.\n",
        "\n",
        "The trainer is in charge of training, evaluation, saving checkpoints, etc. If you're interested in seeing the source code for the trainer, you can do so [here](https://github.com/Deci-AI/super-gradients/blob/master/src/super_gradients/training/sg_trainer/sg_trainer.py).\n",
        "\n",
        "### ✌🏼 There's two important arguments to the trainer:\n",
        "\n",
        "- `ckpt_root_dir` - this is the directory where results from all your experiments will be saved\n",
        "\n",
        "- `experiment_name` - all checkpoints, logs, and tensorboards will be saved in a directory with the name you specify here.\n",
        "\n",
        "SuperGradients supports **Data Parallel** and **Distributed Data Parallel**.\n",
        "\n",
        "That's outside of the scope for this introduction to SuperGradients. But, if you're fortunate enough to have multiple GPUs at your disposal or want learn more you can do so [here](https://github.com/Deci-AI/super-gradients/blob/0fe46cd39572db34eb83d68e343fed97b8886fe9/documentation/source/device.md#3-dp---data-parallel).\n",
        "\n",
        "In the code below, you'll instantiate the trainer with just a single GPU (since that's what Google Colab provides)"
      ],
      "id": "ZMMn8ZMSe5MR"
    },
    {
      "cell_type": "code",
      "execution_count": 15,
      "metadata": {
        "id": "5c9903fb"
      },
      "outputs": [],
      "source": [
        "CHECKPOINT_DIR = 'checkpoints'"
      ],
      "id": "5c9903fb"
    },
    {
      "cell_type": "code",
      "execution_count": 16,
      "metadata": {
        "id": "iecoEHd8xDc-"
      },
      "outputs": [],
      "source": [
        "trainer = Trainer(experiment_name='large_model_run', ckpt_root_dir=CHECKPOINT_DIR)"
      ],
      "id": "iecoEHd8xDc-"
    },
    {
      "cell_type": "markdown",
      "metadata": {
        "id": "5ca341ba-f7d8-4ba4-a0c5-d5df7c0b867d"
      },
      "source": [
        "## Download Dataset"
      ],
      "id": "5ca341ba-f7d8-4ba4-a0c5-d5df7c0b867d"
    },
    {
      "cell_type": "code",
      "execution_count": 5,
      "metadata": {
        "colab": {
          "base_uri": "https://localhost:8080/"
        },
        "id": "1d6bf69d-49f4-4f09-b1ad-d579e904db5a",
        "outputId": "6735c25e-cf79-40c7-bab1-a0e0bd4f62c1"
      },
      "outputs": [
        {
          "output_type": "stream",
          "name": "stdout",
          "text": [
            "File already present\n"
          ]
        }
      ],
      "source": [
        "# Download dataset.\n",
        "def download_file(url, save_name):\n",
        "    if not os.path.exists(save_name):\n",
        "        print(f\"Downloading file\")\n",
        "        file = requests.get(url, stream=True)\n",
        "        total_size = int(file.headers.get('content-length', 0))\n",
        "        block_size = 1024\n",
        "        progress_bar = tqdm(\n",
        "            total=total_size,\n",
        "            unit='iB',\n",
        "            unit_scale=True\n",
        "        )\n",
        "        with open(os.path.join(save_name), 'wb') as f:\n",
        "            for data in file.iter_content(block_size):\n",
        "                progress_bar.update(len(data))\n",
        "                f.write(data)\n",
        "        progress_bar.close()\n",
        "    else:\n",
        "        print('File already present')\n",
        "\n",
        "download_file(\n",
        "    'https://app.roboflow.com/ds/Gi7A06UnbM?key=fl4u4rF4Eq',\n",
        "    'defects.zip'\n",
        ")"
      ],
      "id": "1d6bf69d-49f4-4f09-b1ad-d579e904db5a"
    },
    {
      "cell_type": "code",
      "execution_count": 13,
      "metadata": {
        "colab": {
          "base_uri": "https://localhost:8080/"
        },
        "id": "367ac2f3-527e-44b8-ac75-6e3d94513811",
        "outputId": "99dc27aa-8020-482d-fda6-de06a3210ef3"
      },
      "outputs": [
        {
          "output_type": "stream",
          "name": "stdout",
          "text": [
            "Extracted all\n"
          ]
        }
      ],
      "source": [
        "# Unzip the data file\n",
        "def unzip(zip_file=None):\n",
        "    try:\n",
        "        with zipfile.ZipFile(zip_file) as z:\n",
        "            z.extractall(\"./\")\n",
        "            print(\"Extracted all\")\n",
        "    except:\n",
        "        print(\"Invalid file\")\n",
        "\n",
        "unzip('defects.zip')"
      ],
      "id": "367ac2f3-527e-44b8-ac75-6e3d94513811"
    },
    {
      "cell_type": "code",
      "execution_count": 14,
      "metadata": {
        "id": "RpOvst25TKuA"
      },
      "outputs": [],
      "source": [
        "\n",
        "!mkdir Defect_Data"
      ],
      "id": "RpOvst25TKuA"
    },
    {
      "cell_type": "code",
      "execution_count": 15,
      "metadata": {
        "id": "A2cLkNxcEEbL"
      },
      "outputs": [],
      "source": [
        "%mv /content/test /content/train /content/valid /content/Defect_Data/"
      ],
      "id": "A2cLkNxcEEbL"
    },
    {
      "cell_type": "markdown",
      "metadata": {
        "id": "eae3a30c"
      },
      "source": [
        "## Dataset Set Up"
      ],
      "id": "eae3a30c"
    },
    {
      "cell_type": "code",
      "execution_count": 6,
      "metadata": {
        "id": "2f912000"
      },
      "outputs": [],
      "source": [
        "ROOT_DIR = '/content/Defect_Data/'\n",
        "train_imgs_dir = 'train/images'\n",
        "train_labels_dir = 'train/labels'\n",
        "val_imgs_dir = 'valid/images'\n",
        "val_labels_dir = 'valid/labels'\n",
        "test_imgs_dir = 'test/images'\n",
        "test_labels_dir = 'test/labels'\n",
        "classes = ['bridge', 'gap', 'sraf']"
      ],
      "id": "2f912000"
    },
    {
      "cell_type": "markdown",
      "metadata": {
        "id": "PBss-l7kh48c"
      },
      "source": [
        "You'll need to load your dataset parameters into a dictionary, specifically defining:\n",
        "\n",
        "- path to the parent directory where your data lives\n",
        "- the child directory names for training, validation, and test (if you have testing set) images and labels\n",
        "- class names"
      ],
      "id": "PBss-l7kh48c"
    },
    {
      "cell_type": "code",
      "execution_count": 7,
      "metadata": {
        "id": "23d514c4-377e-4a78-bbae-d53103d7526e"
      },
      "outputs": [],
      "source": [
        "dataset_params = {\n",
        "    'data_dir':ROOT_DIR,\n",
        "    'train_images_dir':train_imgs_dir,\n",
        "    'train_labels_dir':train_labels_dir,\n",
        "    'val_images_dir':val_imgs_dir,\n",
        "    'val_labels_dir':val_labels_dir,\n",
        "    'test_images_dir':test_imgs_dir,\n",
        "    'test_labels_dir':test_labels_dir,\n",
        "    'classes':classes\n",
        "}"
      ],
      "id": "23d514c4-377e-4a78-bbae-d53103d7526e"
    },
    {
      "cell_type": "markdown",
      "metadata": {
        "id": "7Z8BQP9CiwUC"
      },
      "source": [
        "You pass the values for `dataset_params` into the `dataset_params` argument as shown below.\n",
        "\n",
        "You can also pass PyTorch DataLoaders arguments when instantiating your dataset. Here you'll set `batch_size=16` and `num_workers=2`.\n",
        "\n",
        "Repeat this for the validation and testing datasets, note that for training and testing data we use `coco_detection_yolo_format_val` to instantiate the dataloader.\n",
        "\n",
        "The dataloaders will print warnings when an annotation does not conform to the expected format."
      ],
      "id": "7Z8BQP9CiwUC"
    },
    {
      "cell_type": "code",
      "execution_count": 8,
      "metadata": {
        "id": "605d6412"
      },
      "outputs": [],
      "source": [
        "# Global parameters.\n",
        "EPOCHS = 50\n",
        "BATCH_SIZE = 16\n",
        "WORKERS = 2"
      ],
      "id": "605d6412"
    },
    {
      "cell_type": "code",
      "execution_count": 9,
      "metadata": {
        "colab": {
          "base_uri": "https://localhost:8080/"
        },
        "id": "3060b34d-fd02-41a1-9b9a-8506f384b9a2",
        "outputId": "25fa46dd-53f8-4ee0-c424-6c5bed8cf57d"
      },
      "outputs": [
        {
          "output_type": "stream",
          "name": "stderr",
          "text": [
            "[2024-02-15 17:55:21] INFO - detection_dataset.py - Dataset Initialization in progress. `cache_annotations=True` causes the process to take longer due to full dataset indexing.\n",
            "Indexing dataset annotations: 100%|██████████| 380/380 [00:00<00:00, 5805.79it/s]\n",
            "[2024-02-15 17:55:21] INFO - detection_dataset.py - Dataset Initialization in progress. `cache_annotations=True` causes the process to take longer due to full dataset indexing.\n",
            "Indexing dataset annotations: 100%|██████████| 83/83 [00:00<00:00, 2821.24it/s]\n",
            "[2024-02-15 17:55:21] INFO - detection_dataset.py - Dataset Initialization in progress. `cache_annotations=True` causes the process to take longer due to full dataset indexing.\n",
            "Indexing dataset annotations: 100%|██████████| 37/37 [00:00<00:00, 2907.85it/s]\n"
          ]
        }
      ],
      "source": [
        "train_data = coco_detection_yolo_format_train(\n",
        "    dataset_params={\n",
        "        'data_dir': dataset_params['data_dir'],\n",
        "        'images_dir': dataset_params['train_images_dir'],\n",
        "        'labels_dir': dataset_params['train_labels_dir'],\n",
        "        'classes': dataset_params['classes']\n",
        "    },\n",
        "    dataloader_params={\n",
        "        'batch_size':BATCH_SIZE,\n",
        "        'num_workers':WORKERS\n",
        "    }\n",
        ")\n",
        "\n",
        "val_data = coco_detection_yolo_format_val(\n",
        "    dataset_params={\n",
        "        'data_dir': dataset_params['data_dir'],\n",
        "        'images_dir': dataset_params['val_images_dir'],\n",
        "        'labels_dir': dataset_params['val_labels_dir'],\n",
        "        'classes': dataset_params['classes']\n",
        "    },\n",
        "    dataloader_params={\n",
        "        'batch_size':BATCH_SIZE,\n",
        "        'num_workers':WORKERS\n",
        "    }\n",
        ")\n",
        "\n",
        "test_data = coco_detection_yolo_format_val(\n",
        "    dataset_params={\n",
        "        'data_dir': dataset_params['data_dir'],\n",
        "        'images_dir': dataset_params['test_images_dir'],\n",
        "        'labels_dir': dataset_params['test_labels_dir'],\n",
        "        'classes': dataset_params['classes']\n",
        "    },\n",
        "    dataloader_params={\n",
        "        'batch_size': BATCH_SIZE,\n",
        "        'num_workers': WORKERS\n",
        "    }\n",
        ")"
      ],
      "id": "3060b34d-fd02-41a1-9b9a-8506f384b9a2"
    },
    {
      "cell_type": "markdown",
      "metadata": {
        "id": "0d5cfc7c"
      },
      "source": [
        "## Visualize Ground Truth Images"
      ],
      "id": "0d5cfc7c"
    },
    {
      "cell_type": "code",
      "execution_count": null,
      "metadata": {
        "id": "d75e8859"
      },
      "outputs": [],
      "source": [
        "colors = np.random.uniform(0, 255, size=(len(classes), 3))"
      ],
      "id": "d75e8859"
    },
    {
      "cell_type": "code",
      "execution_count": null,
      "metadata": {
        "id": "167e4831"
      },
      "outputs": [],
      "source": [
        "# Function to convert bounding boxes in YOLO format to xmin, ymin, xmax, ymax.\n",
        "def yolo2bbox(bboxes):\n",
        "    xmin, ymin = bboxes[0]-bboxes[2]/2, bboxes[1]-bboxes[3]/2\n",
        "    xmax, ymax = bboxes[0]+bboxes[2]/2, bboxes[1]+bboxes[3]/2\n",
        "    return xmin, ymin, xmax, ymax"
      ],
      "id": "167e4831"
    },
    {
      "cell_type": "code",
      "execution_count": null,
      "metadata": {
        "id": "f1b0ef9c"
      },
      "outputs": [],
      "source": [
        "def plot_box(image, bboxes, labels):\n",
        "    # Need the image height and width to denormalize\n",
        "    # the bounding box coordinates\n",
        "    height, width, _ = image.shape\n",
        "    lw = max(round(sum(image.shape) / 2 * 0.003), 2)  # Line width.\n",
        "    tf = max(lw - 1, 1) # Font thickness.\n",
        "    for box_num, box in enumerate(bboxes):\n",
        "        x1, y1, x2, y2 = yolo2bbox(box)\n",
        "        # denormalize the coordinates\n",
        "        xmin = int(x1*width)\n",
        "        ymin = int(y1*height)\n",
        "        xmax = int(x2*width)\n",
        "        ymax = int(y2*height)\n",
        "\n",
        "        p1, p2 = (int(xmin), int(ymin)), (int(xmax), int(ymax))\n",
        "\n",
        "        class_name = classes[int(labels[box_num])]\n",
        "\n",
        "        color=colors[classes.index(class_name)]\n",
        "\n",
        "        cv2.rectangle(\n",
        "            image,\n",
        "            p1, p2,\n",
        "            color=(26,26,139),\n",
        "            thickness=lw,\n",
        "            lineType=cv2.LINE_AA\n",
        "        )\n",
        "\n",
        "        # For filled rectangle.\n",
        "        w, h = cv2.getTextSize(\n",
        "            class_name,\n",
        "            0,\n",
        "            fontScale=lw / 3,\n",
        "            thickness=tf\n",
        "        )[0]\n",
        "\n",
        "        outside = p1[1] - h >= 3\n",
        "        p2 = p1[0] + w, p1[1] - h - 3 if outside else p1[1] + h + 3\n",
        "\n",
        "        cv2.rectangle(\n",
        "            image,\n",
        "            p1, p2,\n",
        "            color=(26,26,139),\n",
        "            thickness=-1,\n",
        "            lineType=cv2.LINE_AA\n",
        "        )\n",
        "        cv2.putText(\n",
        "            image,\n",
        "            class_name,\n",
        "            (p1[0], p1[1] - 5 if outside else p1[1] + h + 2),\n",
        "            cv2.FONT_HERSHEY_SIMPLEX,\n",
        "            fontScale=lw/3.5,\n",
        "            color=(255, 255, 255),\n",
        "            thickness=tf,\n",
        "            lineType=cv2.LINE_AA\n",
        "        )\n",
        "    return image"
      ],
      "id": "f1b0ef9c"
    },
    {
      "cell_type": "code",
      "execution_count": null,
      "metadata": {
        "id": "69f8a6de"
      },
      "outputs": [],
      "source": [
        "# Function to plot images with the bounding boxes.\n",
        "def plot(image_path, label_path, num_samples):\n",
        "    all_training_images = glob.glob(image_path+'/*')\n",
        "    all_training_labels = glob.glob(label_path+'/*')\n",
        "    all_training_images.sort()\n",
        "    all_training_labels.sort()\n",
        "\n",
        "    temp = list(zip(all_training_images, all_training_labels))\n",
        "    random.shuffle(temp)\n",
        "    all_training_images, all_training_labels = zip(*temp)\n",
        "    all_training_images, all_training_labels = list(all_training_images), list(all_training_labels)\n",
        "\n",
        "    num_images = len(all_training_images)\n",
        "\n",
        "    if num_samples == -1:\n",
        "        num_samples = num_images\n",
        "\n",
        "    plt.figure(figsize=(15, 12))\n",
        "    for i in range(num_samples):\n",
        "        image_name = all_training_images[i].split(os.path.sep)[-1]\n",
        "        image = cv2.imread(all_training_images[i])\n",
        "        with open(all_training_labels[i], 'r') as f:\n",
        "            bboxes = []\n",
        "            labels = []\n",
        "            label_lines = f.readlines()\n",
        "            for label_line in label_lines:\n",
        "                label, x_c, y_c, w, h = label_line.split(' ')\n",
        "                x_c = float(x_c)\n",
        "                y_c = float(y_c)\n",
        "                w = float(w)\n",
        "                h = float(h)\n",
        "                bboxes.append([x_c, y_c, w, h])\n",
        "                labels.append(label)\n",
        "        result_image = plot_box(image, bboxes, labels)\n",
        "        plt.subplot(2, 2, i+1) # Visualize 2x2 grid of images.\n",
        "        plt.imshow(image[:, :, ::-1])\n",
        "        plt.axis('off')\n",
        "    plt.tight_layout()\n",
        "    plt.show()"
      ],
      "id": "69f8a6de"
    },
    {
      "cell_type": "code",
      "execution_count": null,
      "metadata": {
        "colab": {
          "background_save": true
        },
        "id": "927622b1"
      },
      "outputs": [],
      "source": [
        "# Visualize a few training images.\n",
        "plot(\n",
        "    image_path=os.path.join(ROOT_DIR, test_imgs_dir),\n",
        "    label_path=os.path.join(ROOT_DIR, test_labels_dir),\n",
        "    num_samples=3,\n",
        ")"
      ],
      "id": "927622b1"
    },
    {
      "cell_type": "markdown",
      "metadata": {
        "id": "1803481d-60f8-49c2-a010-2723f3f9d9d9"
      },
      "source": [
        "## Transforms a.k.a Augmentations\n"
      ],
      "id": "1803481d-60f8-49c2-a010-2723f3f9d9d9"
    },
    {
      "cell_type": "markdown",
      "metadata": {
        "id": "OOUWOseDkjrk"
      },
      "source": [
        "Now let's inspect the dataset defined earlier. SuperGradients added `transforms` for you. You're free to experiment with these transformations as you please. You can also add in your own transformations from `torchvision.transforms` or a custom tranformaton."
      ],
      "id": "OOUWOseDkjrk"
    },
    {
      "cell_type": "code",
      "execution_count": null,
      "metadata": {
        "id": "6b5d1dc1-bac9-41ef-b5e6-b791eebd6601"
      },
      "outputs": [],
      "source": [
        "train_data.dataset.transforms"
      ],
      "id": "6b5d1dc1-bac9-41ef-b5e6-b791eebd6601"
    },
    {
      "cell_type": "markdown",
      "metadata": {
        "id": "IWU8CTpNm7qU"
      },
      "source": [
        "You can either modify transforms in the following way:\n",
        "\n",
        "\n",
        "\n",
        "```\n",
        "train_data.dataset.transforms.pop(0) #just delete the transformation from the list\n",
        "train_data.dataset.transforms[3].pad_value = 114 #change the particular value for single transformation\n",
        "\n",
        "```\n",
        "\n",
        "Another option: to redefine all the transforms as you want:\n",
        "```\n",
        "from super_gradients.training.transforms.transforms import DetectionRandomAffine, DetectionRGB2BGR, ...\n",
        "transforms = [\n",
        "DetectionRandomAffine(...)\n",
        "]\n",
        "```\n",
        "To reproduce the same transorms, just go aver the [dataset params config file](https://github.com/Deci-AI/super-gradients/blob/master/src/super_gradients/recipes/dataset_params/coco_detection_yolo_nas_dataset_params.yaml) .\n",
        "Note that some transforms are required since the model expects a very specific format (LABEL_CXCYWH padded for bbox, channel first for image)\n",
        "\n"
      ],
      "id": "IWU8CTpNm7qU"
    },
    {
      "cell_type": "code",
      "execution_count": null,
      "metadata": {
        "id": "-qwPObEmhRLj"
      },
      "outputs": [],
      "source": [
        "from super_gradients.training.transforms.transforms import DetectionHorizontalFlip"
      ],
      "id": "-qwPObEmhRLj"
    },
    {
      "cell_type": "code",
      "execution_count": 20,
      "metadata": {
        "colab": {
          "base_uri": "https://localhost:8080/"
        },
        "id": "367fe30d-3b58-41e9-a99c-43343e87e203",
        "outputId": "4b8a5013-960b-4565-f078-c2719b0d931f"
      },
      "outputs": [
        {
          "output_type": "execute_result",
          "data": {
            "text/plain": [
              "DetectionRandomAffine('additional_samples_count': 0, 'non_empty_targets': False, 'degrees': 10.0, 'translate': 0.1, 'scale': [0.1, 2], 'shear': 2.0, 'target_size': (640, 640), 'enable': True, 'filter_box_candidates': True, 'wh_thr': 2, 'ar_thr': 20, 'area_thr': 0.1, 'border_value': 114)"
            ]
          },
          "metadata": {},
          "execution_count": 20
        }
      ],
      "source": [
        "train_data.dataset.transforms.pop(1)"
      ],
      "id": "367fe30d-3b58-41e9-a99c-43343e87e203"
    },
    {
      "cell_type": "code",
      "source": [
        "train_data.dataset.transforms.pop(1)"
      ],
      "metadata": {
        "colab": {
          "base_uri": "https://localhost:8080/"
        },
        "id": "CK1AiibHx_-p",
        "outputId": "0d5f60e5-26af-4da7-8ada-622467f45f98"
      },
      "id": "CK1AiibHx_-p",
      "execution_count": 21,
      "outputs": [
        {
          "output_type": "execute_result",
          "data": {
            "text/plain": [
              "DetectionMixup('additional_samples_count': 1, 'non_empty_targets': True, 'input_dim': (640, 640), 'mixup_scale': [0.5, 1.5], 'prob': 1.0, 'enable_mixup': True, 'flip_prob': 0.5, 'border_value': 114)"
            ]
          },
          "metadata": {},
          "execution_count": 21
        }
      ]
    },
    {
      "cell_type": "code",
      "execution_count": 22,
      "metadata": {
        "id": "KUljMNTvjJ8C"
      },
      "outputs": [],
      "source": [
        "train_data.dataset.transforms[1].hgain = 0.015\n",
        "train_data.dataset.transforms[1].sgain = 0.7\n",
        "train_data.dataset.transforms[1].vgain = 0.4\n"
      ],
      "id": "KUljMNTvjJ8C"
    },
    {
      "cell_type": "code",
      "source": [
        "train_data.dataset.transforms.pop(0)"
      ],
      "metadata": {
        "colab": {
          "base_uri": "https://localhost:8080/"
        },
        "id": "r9GEu4OiyFN-",
        "outputId": "b30ca15c-56b2-4714-8344-934410d91f7e"
      },
      "id": "r9GEu4OiyFN-",
      "execution_count": 23,
      "outputs": [
        {
          "output_type": "execute_result",
          "data": {
            "text/plain": [
              "DetectionMosaic('additional_samples_count': 3, 'non_empty_targets': False, 'prob': 1.0, 'input_dim': (640, 640), 'enable_mosaic': True, 'border_value': 114)"
            ]
          },
          "metadata": {},
          "execution_count": 23
        }
      ]
    },
    {
      "cell_type": "code",
      "execution_count": 24,
      "metadata": {
        "colab": {
          "base_uri": "https://localhost:8080/"
        },
        "id": "iOPBfkkTIppm",
        "outputId": "cc31e793-d7ee-43ea-b750-b05aaf49386e"
      },
      "outputs": [
        {
          "output_type": "execute_result",
          "data": {
            "text/plain": [
              "[DetectionHSV('additional_samples_count': 0, 'non_empty_targets': False, 'prob': 1.0, 'hgain': 0.015, 'sgain': 0.7, 'vgain': 0.4, 'bgr_channels': (0, 1, 2), '_additional_channels_warned': False),\n",
              " DetectionHorizontalFlip('additional_samples_count': 0, 'non_empty_targets': False, 'prob': 0.5),\n",
              " DetectionPaddedRescale('additional_samples_count': 0, 'non_empty_targets': False, 'swap': (2, 0, 1), 'input_dim': (640, 640), 'pad_value': 114),\n",
              " DetectionTargetsFormatTransform('additional_samples_count': 0, 'non_empty_targets': False, 'input_format': OrderedDict([('bboxes', name=bboxes length=4 format=<super_gradients.training.datasets.data_formats.bbox_formats.xyxy.XYXYCoordinateFormat object at 0x78765b7bfa90>), ('labels', name=labels length=1)]), 'output_format': OrderedDict([('labels', name=labels length=1), ('bboxes', name=bboxes length=4 format=<super_gradients.training.datasets.data_formats.bbox_formats.cxcywh.CXCYWHCoordinateFormat object at 0x78765b84aa70>)]), 'min_bbox_edge_size': 1, 'input_dim': (640, 640), 'targets_format_converter': <super_gradients.training.datasets.data_formats.format_converter.ConcatenatedTensorFormatConverter object at 0x78761d5d3a00>)]"
            ]
          },
          "metadata": {},
          "execution_count": 24
        }
      ],
      "source": [
        "train_data.dataset.transforms"
      ],
      "id": "iOPBfkkTIppm"
    },
    {
      "cell_type": "markdown",
      "metadata": {
        "id": "8eTPDfl7k1JF"
      },
      "source": [
        "You can plot a batch of training data with their augmentations applied to see what they look like:"
      ],
      "id": "8eTPDfl7k1JF"
    },
    {
      "cell_type": "code",
      "execution_count": null,
      "metadata": {
        "id": "imM2lcK0Mm_S"
      },
      "outputs": [],
      "source": [
        "train_data.dataset.plot(plot_transformed_data=True)"
      ],
      "id": "imM2lcK0Mm_S"
    },
    {
      "cell_type": "markdown",
      "metadata": {
        "id": "5cfa721c-5b9d-4b10-b004-3781274bbc0f"
      },
      "source": [
        "# 🎛️ Training parameters\n",
        "\n",
        "You need to define the training parameters for your training run.\n",
        "\n",
        "Full details about the training parameters can be found [here](https://github.com/Deci-AI/super-gradients/blob/master/src/super_gradients/recipes/training_hyperparams/default_train_params.yaml).\n",
        "\n",
        "\n",
        "### 🚨 There are a few **mandatory** arguments that you must define for training params 🚨\n",
        "\n",
        "- `max_epochs` - Max number of training epochs\n",
        "\n",
        "- `loss` - the loss function you want to use\n",
        "\n",
        "- `optimizer` - Optimizer you will be using\n",
        "\n",
        "- `train_metrics_list` - Metrics to log during training\n",
        "\n",
        "- `valid_metrics_list` - Metrics to log during training\n",
        "\n",
        "- `metric_to_watch` - metric which the model checkpoint will be saved according to\n",
        "\n",
        "You can choose from a variety of `optimizer`'s such as: Adam, AdamW, SGD, Lion, or RMSProps. If you choose to change the defualt parameters of these optimizrs you pass them into `optimizer_params`.\n",
        "\n",
        "\n",
        "### 🧑🏾‍🔬 Integrations with experiment monitoring tools\n",
        "\n",
        "SuperGradients has native integrations with Tensorboard, Weights and Biases, ClearML, and DagsHub.\n",
        "\n",
        "If your favorite monitoring tool is not supported by SuperGradients, you can simply implement a class inheriting from BaseSGLogger that you will then pass to the training parameters.\n",
        "\n",
        "If you're interested in monitoring experiments, you can learn more [in the docs](https://github.com/Deci-AI/super-gradients/blob/0fe46cd39572db34eb83d68e343fed97b8886fe9/documentation/source/experiment_monitoring.md).\n",
        "\n",
        "\n",
        "### 🪄 SuperGradients offers a number of training tricks right out of the box, such as:\n",
        "\n",
        "- Exponential moving average\n",
        "- Zero weight decay on bias and batch normalizatiom\n",
        "- Weight averaging\n",
        "- Batch accumulation\n",
        "- Precise BatchNorm\n",
        "\n",
        "You can read more details about these training tricks [here](https://heartbeat.comet.ml/a-better-way-to-train-your-neural-networks-813b60a5bd6a).\n",
        "\n",
        "If you're interested in building a using a custom metric with SuperGradients you can learn how [here](https://github.com/Deci-AI/super-gradients/blob/master/documentation/source/Metrics.md).\n",
        "\n",
        "Note you will have to set number of classes in two places below: `PPYoloELoss` and `DetectionMetrics_050`.\n",
        "\n",
        "You probably noticed that we make use of a post prediction callback, for details on how phase callbacks work in SuperGradients [check out our documentation](https://github.com/Deci-AI/super-gradients/blob/master/documentation/source/PhaseCallbacks.md)."
      ],
      "id": "5cfa721c-5b9d-4b10-b004-3781274bbc0f"
    },
    {
      "cell_type": "code",
      "execution_count": 25,
      "metadata": {
        "id": "e7b2eb6c",
        "colab": {
          "base_uri": "https://localhost:8080/"
        },
        "outputId": "ced834f5-9c55-46ea-f367-76cf0d9bfe43"
      },
      "outputs": [
        {
          "output_type": "stream",
          "name": "stderr",
          "text": [
            "[2024-02-12 19:49:13] WARNING - detection_metrics.py - Parameter 'include_classwise_ap' is set to True, but no class names are provided. We will generate dummy class names, but we recommend to provide class names explicitly tohave meaningful names in reported metrics.\n"
          ]
        }
      ],
      "source": [
        "train_params = {\n",
        "    'silent_mode': False,\n",
        "    \"average_best_models\":True,\n",
        "    \"warmup_mode\": \"linear_epoch_step\",\n",
        "    \"warmup_initial_lr\": 1e-6,\n",
        "    \"lr_warmup_epochs\": 3,\n",
        "    \"initial_lr\": 5e-4,\n",
        "    \"lr_mode\": \"cosine\",\n",
        "    \"cosine_final_lr_ratio\": 0.1,\n",
        "    \"optimizer\": \"SGD\",\n",
        "    \"optimizer_params\": {\"weight_decay\": 0.0005, \"momentum\": 0.937},\n",
        "    \"zero_weight_decay_on_bias_and_bn\": True,\n",
        "    \"ema\": False,\n",
        "    \"max_epochs\": EPOCHS,\n",
        "    \"mixed_precision\": True,\n",
        "    \"loss\": PPYoloELoss(\n",
        "        use_static_assigner=False,\n",
        "        num_classes=len(dataset_params['classes']),\n",
        "        reg_max=16,\n",
        "    ),\n",
        "    \"seed\": 42,\n",
        "\n",
        "    \"valid_metrics_list\": [\n",
        "        DetectionMetrics_050(\n",
        "            score_thres=0.1,\n",
        "            top_k_predictions=300,\n",
        "            num_cls=len(dataset_params['classes']),\n",
        "            normalize_targets=True,\n",
        "            include_classwise_ap=True,\n",
        "            post_prediction_callback=PPYoloEPostPredictionCallback(\n",
        "                score_threshold=0.01,\n",
        "                nms_top_k=1000,\n",
        "                max_predictions=300,\n",
        "                nms_threshold=0.7\n",
        "            )\n",
        "        ),\n",
        "\n",
        "    ],\n",
        "    \"metric_to_watch\": 'mAP@0.50',\n",
        "\n",
        "\n",
        "    #define weights and biases logging\n",
        "    \"sg_logger\": 'wandb_sg_logger',\n",
        "    \"sg_logger_params\":\n",
        "    {\n",
        "        \"project_name\": \"Yolo-NAS\",\n",
        "        \"save_checkpoints_remote\": True,\n",
        "        \"save_tensorboard_remote\":True,\n",
        "        'save_logs_remote':True,\n",
        "        'entity':'ml_team_mskv'\n",
        "\n",
        "    }\n",
        "}"
      ],
      "id": "e7b2eb6c"
    },
    {
      "cell_type": "markdown",
      "metadata": {
        "id": "veUZHtkUj9XE"
      },
      "source": [
        "Below is how to instantiate the model for finetuning. Note you need to add the num_classes argument here.\n",
        "Note, for this tutorial you're using `yolo_nas_s`, but SuperGradients has two other flavors of YOLONAS available to you: `yolo_nas_m` and `yolo_nas_l`.\n",
        "\n"
      ],
      "id": "veUZHtkUj9XE"
    },
    {
      "cell_type": "code",
      "execution_count": 11,
      "metadata": {
        "colab": {
          "base_uri": "https://localhost:8080/"
        },
        "id": "zTqqMgXDKBW4",
        "outputId": "46239a95-aee6-494c-b458-575c61c64ea4"
      },
      "outputs": [
        {
          "output_type": "stream",
          "name": "stderr",
          "text": [
            "[2024-02-15 09:20:52] INFO - checkpoint_utils.py - License Notification: YOLO-NAS pre-trained weights are subjected to the specific license terms and conditions detailed in \n",
            "https://github.com/Deci-AI/super-gradients/blob/master/LICENSE.YOLONAS.md\n",
            "By downloading the pre-trained weight files you agree to comply with these terms.\n",
            "Downloading: \"https://sghub.deci.ai/models/yolo_nas_l_coco.pth\" to /root/.cache/torch/hub/checkpoints/yolo_nas_l_coco.pth\n",
            "100%|██████████| 256M/256M [00:07<00:00, 35.1MB/s]\n",
            "[2024-02-15 09:21:00] INFO - checkpoint_utils.py - Successfully loaded pretrained weights for architecture yolo_nas_l\n"
          ]
        }
      ],
      "source": [
        "model_large = models.get('yolo_nas_l',\n",
        "                   num_classes=len(dataset_params['classes']),\n",
        "                  pretrained_weights=\"coco\"\n",
        "                  )\n"
      ],
      "id": "zTqqMgXDKBW4"
    },
    {
      "cell_type": "code",
      "source": [
        "from torchinfo import summary\n",
        "summary(model=model_large,\n",
        "        input_size=(16, 3, 640, 640),\n",
        "        col_names=[\"input_size\", \"output_size\", \"num_params\", \"trainable\"],\n",
        "        col_width=20,\n",
        "        row_settings=[\"var_names\"]\n",
        ")"
      ],
      "metadata": {
        "colab": {
          "base_uri": "https://localhost:8080/"
        },
        "id": "ODGeFATVDCie",
        "outputId": "d7c49418-574e-4c33-cc08-de7f63d9c313"
      },
      "id": "ODGeFATVDCie",
      "execution_count": 13,
      "outputs": [
        {
          "output_type": "execute_result",
          "data": {
            "text/plain": [
              "=================================================================================================================================================\n",
              "Layer (type (var_name))                                           Input Shape          Output Shape         Param #              Trainable\n",
              "=================================================================================================================================================\n",
              "YoloNAS_L (YoloNAS_L)                                             [16, 3, 640, 640]    [16, 8400, 4]        --                   True\n",
              "├─NStageBackbone (backbone)                                       [16, 3, 640, 640]    [16, 96, 160, 160]   --                   True\n",
              "│    └─YoloNASStem (stem)                                         [16, 3, 640, 640]    [16, 48, 320, 320]   --                   True\n",
              "│    │    └─QARepVGGBlock (conv)                                  [16, 3, 640, 640]    [16, 48, 320, 320]   3,024                True\n",
              "│    └─YoloNASStage (stage1)                                      [16, 48, 320, 320]   [16, 96, 160, 160]   --                   True\n",
              "│    │    └─QARepVGGBlock (downsample)                            [16, 48, 320, 320]   [16, 96, 160, 160]   88,128               True\n",
              "│    │    └─YoloNASCSPLayer (blocks)                              [16, 96, 160, 160]   [16, 96, 160, 160]   758,594              True\n",
              "│    └─YoloNASStage (stage2)                                      [16, 96, 160, 160]   [16, 192, 80, 80]    --                   True\n",
              "│    │    └─QARepVGGBlock (downsample)                            [16, 96, 160, 160]   [16, 192, 80, 80]    351,360              True\n",
              "│    │    └─YoloNASCSPLayer (blocks)                              [16, 192, 80, 80]    [16, 192, 80, 80]    2,045,315            True\n",
              "│    └─YoloNASStage (stage3)                                      [16, 192, 80, 80]    [16, 384, 40, 40]    --                   True\n",
              "│    │    └─QARepVGGBlock (downsample)                            [16, 192, 80, 80]    [16, 384, 40, 40]    1,403,136            True\n",
              "│    │    └─YoloNASCSPLayer (blocks)                              [16, 384, 40, 40]    [16, 384, 40, 40]    13,353,733           True\n",
              "│    └─YoloNASStage (stage4)                                      [16, 384, 40, 40]    [16, 768, 20, 20]    --                   True\n",
              "│    │    └─QARepVGGBlock (downsample)                            [16, 384, 40, 40]    [16, 768, 20, 20]    5,607,936            True\n",
              "│    │    └─YoloNASCSPLayer (blocks)                              [16, 768, 20, 20]    [16, 768, 20, 20]    22,298,114           True\n",
              "│    └─SPP (context_module)                                       [16, 768, 20, 20]    [16, 768, 20, 20]    --                   True\n",
              "│    │    └─Conv (cv1)                                            [16, 768, 20, 20]    [16, 384, 20, 20]    295,680              True\n",
              "│    │    └─ModuleList (m)                                        --                   --                   --                   --\n",
              "│    │    └─Conv (cv2)                                            [16, 1536, 20, 20]   [16, 768, 20, 20]    1,181,184            True\n",
              "├─YoloNASPANNeckWithC2 (neck)                                     [16, 96, 160, 160]   [16, 96, 80, 80]     --                   True\n",
              "│    └─YoloNASUpStage (neck1)                                     [16, 768, 20, 20]    [16, 192, 20, 20]    --                   True\n",
              "│    │    └─Conv (reduce_skip1)                                   [16, 384, 40, 40]    [16, 192, 40, 40]    74,112               True\n",
              "│    │    └─Conv (reduce_skip2)                                   [16, 192, 80, 80]    [16, 192, 80, 80]    37,248               True\n",
              "│    │    └─Conv (downsample)                                     [16, 192, 80, 80]    [16, 192, 40, 40]    332,160              True\n",
              "│    │    └─Conv (conv)                                           [16, 768, 20, 20]    [16, 192, 20, 20]    147,840              True\n",
              "│    │    └─ConvTranspose2d (upsample)                            [16, 192, 20, 20]    [16, 192, 40, 40]    147,648              True\n",
              "│    │    └─Conv (reduce_after_concat)                            [16, 576, 40, 40]    [16, 192, 40, 40]    110,976              True\n",
              "│    │    └─YoloNASCSPLayer (blocks)                              [16, 192, 40, 40]    [16, 192, 40, 40]    2,595,716            True\n",
              "│    └─YoloNASUpStage (neck2)                                     [16, 192, 40, 40]    [16, 96, 40, 40]     --                   True\n",
              "│    │    └─Conv (reduce_skip1)                                   [16, 192, 80, 80]    [16, 96, 80, 80]     18,624               True\n",
              "│    │    └─Conv (reduce_skip2)                                   [16, 96, 160, 160]   [16, 96, 160, 160]   9,408                True\n",
              "│    │    └─Conv (downsample)                                     [16, 96, 160, 160]   [16, 96, 80, 80]     83,136               True\n",
              "│    │    └─Conv (conv)                                           [16, 192, 40, 40]    [16, 96, 40, 40]     18,624               True\n",
              "│    │    └─ConvTranspose2d (upsample)                            [16, 96, 40, 40]     [16, 96, 80, 80]     36,960               True\n",
              "│    │    └─Conv (reduce_after_concat)                            [16, 288, 80, 80]    [16, 96, 80, 80]     27,840               True\n",
              "│    │    └─YoloNASCSPLayer (blocks)                              [16, 96, 80, 80]     [16, 96, 80, 80]     2,546,372            True\n",
              "│    └─YoloNASDownStage (neck3)                                   [16, 96, 80, 80]     [16, 192, 40, 40]    --                   True\n",
              "│    │    └─Conv (conv)                                           [16, 96, 80, 80]     [16, 96, 40, 40]     83,136               True\n",
              "│    │    └─YoloNASCSPLayer (blocks)                              [16, 192, 40, 40]    [16, 192, 40, 40]    1,280,900            True\n",
              "│    └─YoloNASDownStage (neck4)                                   [16, 192, 40, 40]    [16, 384, 20, 20]    --                   True\n",
              "│    │    └─Conv (conv)                                           [16, 192, 40, 40]    [16, 192, 20, 20]    332,160              True\n",
              "│    │    └─YoloNASCSPLayer (blocks)                              [16, 384, 20, 20]    [16, 384, 20, 20]    5,117,700            True\n",
              "├─NDFLHeads (heads)                                               [16, 96, 80, 80]     [16, 8400, 4]        --                   True\n",
              "│    └─YoloNASDFLHead (head1)                                     [16, 96, 80, 80]     [16, 68, 80, 80]     --                   True\n",
              "│    │    └─ConvBNReLU (stem)                                     [16, 96, 80, 80]     [16, 128, 80, 80]    12,544               True\n",
              "│    │    └─Sequential (cls_convs)                                [16, 128, 80, 80]    [16, 128, 80, 80]    147,712              True\n",
              "│    │    └─Identity (cls_dropout_rate)                           [16, 128, 80, 80]    [16, 128, 80, 80]    --                   --\n",
              "│    │    └─Conv2d (cls_pred)                                     [16, 128, 80, 80]    [16, 3, 80, 80]      387                  True\n",
              "│    │    └─Sequential (reg_convs)                                [16, 128, 80, 80]    [16, 128, 80, 80]    147,712              True\n",
              "│    │    └─Identity (reg_dropout_rate)                           [16, 128, 80, 80]    [16, 128, 80, 80]    --                   --\n",
              "│    │    └─Conv2d (reg_pred)                                     [16, 128, 80, 80]    [16, 68, 80, 80]     8,772                True\n",
              "│    └─YoloNASDFLHead (head2)                                     [16, 192, 40, 40]    [16, 68, 40, 40]     --                   True\n",
              "│    │    └─ConvBNReLU (stem)                                     [16, 192, 40, 40]    [16, 256, 40, 40]    49,664               True\n",
              "│    │    └─Sequential (cls_convs)                                [16, 256, 40, 40]    [16, 256, 40, 40]    590,336              True\n",
              "│    │    └─Identity (cls_dropout_rate)                           [16, 256, 40, 40]    [16, 256, 40, 40]    --                   --\n",
              "│    │    └─Conv2d (cls_pred)                                     [16, 256, 40, 40]    [16, 3, 40, 40]      771                  True\n",
              "│    │    └─Sequential (reg_convs)                                [16, 256, 40, 40]    [16, 256, 40, 40]    590,336              True\n",
              "│    │    └─Identity (reg_dropout_rate)                           [16, 256, 40, 40]    [16, 256, 40, 40]    --                   --\n",
              "│    │    └─Conv2d (reg_pred)                                     [16, 256, 40, 40]    [16, 68, 40, 40]     17,476               True\n",
              "│    └─YoloNASDFLHead (head3)                                     [16, 384, 20, 20]    [16, 68, 20, 20]     --                   True\n",
              "│    │    └─ConvBNReLU (stem)                                     [16, 384, 20, 20]    [16, 512, 20, 20]    197,632              True\n",
              "│    │    └─Sequential (cls_convs)                                [16, 512, 20, 20]    [16, 512, 20, 20]    2,360,320            True\n",
              "│    │    └─Identity (cls_dropout_rate)                           [16, 512, 20, 20]    [16, 512, 20, 20]    --                   --\n",
              "│    │    └─Conv2d (cls_pred)                                     [16, 512, 20, 20]    [16, 3, 20, 20]      1,539                True\n",
              "│    │    └─Sequential (reg_convs)                                [16, 512, 20, 20]    [16, 512, 20, 20]    2,360,320            True\n",
              "│    │    └─Identity (reg_dropout_rate)                           [16, 512, 20, 20]    [16, 512, 20, 20]    --                   --\n",
              "│    │    └─Conv2d (reg_pred)                                     [16, 512, 20, 20]    [16, 68, 20, 20]     34,884               True\n",
              "=================================================================================================================================================\n",
              "Total params: 66,907,169\n",
              "Trainable params: 66,907,169\n",
              "Non-trainable params: 0\n",
              "Total mult-adds (T): 1.04\n",
              "=================================================================================================================================================\n",
              "Input size (MB): 78.64\n",
              "Forward/backward pass size (MB): 27155.81\n",
              "Params size (MB): 177.84\n",
              "Estimated Total Size (MB): 27412.30\n",
              "================================================================================================================================================="
            ]
          },
          "metadata": {},
          "execution_count": 13
        }
      ]
    },
    {
      "cell_type": "markdown",
      "metadata": {
        "id": "zBb1hEoWgQwD"
      },
      "source": [
        "# 🦾 Training the model\n",
        "\n",
        "You've covered a lot of ground so far:\n",
        "\n",
        "✅ Instantiated the trainer\n",
        "\n",
        "✅ Defined your dataset parameters and dataloaders\n",
        "\n",
        "✅ Instantiated a model\n",
        "\n",
        "✅ Set up your training parameters\n",
        "\n",
        "### ⏳ Now, its time to train a model\n",
        "\n",
        "Training a model using a SuperGradients is done using the `trainer`.\n",
        "\n",
        "It's as easy as...\n"
      ],
      "id": "zBb1hEoWgQwD"
    },
    {
      "cell_type": "code",
      "execution_count": null,
      "metadata": {
        "id": "MRPKdoM8yGdI"
      },
      "outputs": [],
      "source": [
        "trainer.train(model = model_large,\n",
        "              training_params = train_params,\n",
        "              train_loader = train_data,\n",
        "              valid_loader = val_data)"
      ],
      "id": "MRPKdoM8yGdI"
    },
    {
      "cell_type": "markdown",
      "metadata": {
        "id": "fHrlucrNzD6i"
      },
      "source": [
        "# Evaluate the best model on the test set\n"
      ],
      "id": "fHrlucrNzD6i"
    },
    {
      "cell_type": "markdown",
      "metadata": {
        "id": "mkJkSYf2l5X1"
      },
      "source": [
        "Now that training is complete, you need to get the best trained model.\n",
        "\n",
        "You used checkpoint averaging so the following code will use weights averaged across training runs.\n",
        "\n",
        "If you want to use the best weights, or weights from the last epoch you'd use one of the following in the code below:\n",
        "\n",
        "- best weights: `checkpoint_path = checkpoints/my_first_yolonas_run/ckpt_best.pth`\n",
        "\n",
        "- last weights: `checkpoint_path = checkpoints/my_first_yolonas_run/ckpt_latest.pth`"
      ],
      "id": "mkJkSYf2l5X1"
    },
    {
      "cell_type": "code",
      "execution_count": 10,
      "metadata": {
        "id": "b8bLZ4oLzJ_p",
        "colab": {
          "base_uri": "https://localhost:8080/"
        },
        "outputId": "0fcf3798-71fa-44e5-9c42-9cfe3e5e6676"
      },
      "outputs": [
        {
          "output_type": "stream",
          "name": "stderr",
          "text": [
            "[2024-02-15 17:56:21] INFO - checkpoint_utils.py - Successfully loaded model weights from /content/drive/MyDrive/models/yolo_nas_s.pth checkpoint.\n"
          ]
        }
      ],
      "source": [
        "best_model = models.get('yolo_nas_l',\n",
        "                        num_classes=len(dataset_params['classes']),\n",
        "                        checkpoint_path=\"checkpoints/large_model_run/ckpt_best.pth\")"
      ],
      "id": "b8bLZ4oLzJ_p"
    },
    {
      "cell_type": "code",
      "execution_count": 17,
      "metadata": {
        "id": "caoLgd1ozi4n",
        "colab": {
          "base_uri": "https://localhost:8080/"
        },
        "outputId": "d773cd0b-0cad-4e8b-a706-7983b8f69860"
      },
      "outputs": [
        {
          "output_type": "stream",
          "name": "stderr",
          "text": [
            "Testing: 100%|██████████| 5/5 [00:04<00:00,  1.18it/s]\n"
          ]
        }
      ],
      "source": [
        "mAP_50 = trainer.test(model=best_model,\n",
        "            test_loader=val_data,\n",
        "            test_metrics_list=DetectionMetrics_050(score_thres=0.1,\n",
        "                                                   top_k_predictions=300,\n",
        "                                                   num_cls=len(dataset_params['classes']),\n",
        "                                                   normalize_targets=True,\n",
        "                                                   include_classwise_ap=True,\n",
        "                                                   class_names = classes,\n",
        "                                                   post_prediction_callback=PPYoloEPostPredictionCallback(score_threshold=0.01,\n",
        "                                                                                                          nms_top_k=1000,\n",
        "                                                                                                          max_predictions=300,\n",
        "                                                                                                          nms_threshold=0.7)\n",
        "                                                  ))"
      ],
      "id": "caoLgd1ozi4n"
    },
    {
      "cell_type": "code",
      "execution_count": 18,
      "metadata": {
        "id": "kkAD9n-CchMb",
        "colab": {
          "base_uri": "https://localhost:8080/"
        },
        "outputId": "432efe31-0d2f-4685-9ae0-9f3bcf83da90"
      },
      "outputs": [
        {
          "output_type": "stream",
          "name": "stderr",
          "text": [
            "Testing: 100%|██████████| 5/5 [00:03<00:00,  1.80it/s]"
          ]
        }
      ],
      "source": [
        "mAP_50_95 = trainer.test(model=best_model,\n",
        "            test_loader=val_data,\n",
        "            test_metrics_list=DetectionMetrics_050_095(score_thres=0.1,\n",
        "                                                   top_k_predictions=300,\n",
        "                                                   num_cls=len(dataset_params['classes']),\n",
        "                                                   normalize_targets=True,\n",
        "                                                   include_classwise_ap=True,\n",
        "                                                   class_names = classes,\n",
        "                                                   post_prediction_callback=PPYoloEPostPredictionCallback(score_threshold=0.01,\n",
        "                                                                                                          nms_top_k=1000,\n",
        "                                                                                                          max_predictions=300,\n",
        "                                                                                                          nms_threshold=0.7)\n",
        "                                                  ))"
      ],
      "id": "kkAD9n-CchMb"
    },
    {
      "cell_type": "code",
      "execution_count": null,
      "metadata": {
        "id": "FSRRORZEpIM3"
      },
      "outputs": [],
      "source": [
        "import locale\n",
        "locale.getpreferredencoding = lambda: \"UTF-8\""
      ],
      "id": "FSRRORZEpIM3"
    },
    {
      "cell_type": "code",
      "source": [
        "%cp /content/yolo_nas_l.pth /content/drive/MyDrive/models/"
      ],
      "metadata": {
        "id": "B2mZbRzfBiV1"
      },
      "id": "B2mZbRzfBiV1",
      "execution_count": 37,
      "outputs": []
    },
    {
      "cell_type": "code",
      "execution_count": 18,
      "metadata": {
        "id": "pMt4Tln3ckpD"
      },
      "outputs": [],
      "source": [
        "import pandas as pd\n",
        "\n",
        "\n",
        "results = pd.DataFrame({\n",
        "  'defect_type': ['sraf', 'bridge', 'gap', 'All'],\n",
        "  'mAP_50': [mAP_50['AP@0.50_sraf'], mAP_50['AP@0.50_bridge'], mAP_50['AP@0.50_gap'], mAP_50['mAP@0.50']  ],\n",
        "  'mAP_50_95': [mAP_50_95['AP@0.50:0.95_sraf'], mAP_50_95['AP@0.50:0.95_bridge'], mAP_50_95['AP@0.50:0.95_gap'],mAP_50_95['mAP@0.50:0.95'] ],\n",
        "  'total_precision_50': [mAP_50['Precision@0.50']] * 4,\n",
        "  'total_recall_50': [mAP_50['Recall@0.50']] * 4,\n",
        "  'total_F1_score_50' : [mAP_50['F1@0.50']] * 4\n",
        "})\n",
        "results.to_csv('/content/drive/MyDrive/metrics/yolo_nas_l_datav6_val.csv')"
      ],
      "id": "pMt4Tln3ckpD"
    },
    {
      "cell_type": "markdown",
      "metadata": {
        "id": "UiVVzAUPmKhz"
      },
      "source": [
        "# Make predictions with trained model"
      ],
      "id": "UiVVzAUPmKhz"
    },
    {
      "cell_type": "code",
      "execution_count": null,
      "metadata": {
        "id": "8AstgGEtmORN"
      },
      "outputs": [],
      "source": [
        "best_model.predict('path/to/image', conf=0.25).show()"
      ],
      "id": "8AstgGEtmORN"
    },
    {
      "cell_type": "markdown",
      "source": [
        "Now let's measure the FPS for the model:"
      ],
      "metadata": {
        "id": "13vDxkmjyQbu"
      },
      "id": "13vDxkmjyQbu"
    },
    {
      "cell_type": "code",
      "source": [
        "import time\n",
        "start_time = time.time()\n",
        "best_model.predict('/content/Defect_Data/test/images/', conf = 0.5)\n",
        "end_time = time.time()\n",
        "\n",
        "#total_fps = 1 / (end_time - start_time)\n",
        "total_frames = len(os.listdir('/content/Defect_Data/test/images'))\n",
        "\n",
        "average_fps =  total_frames / (end_time - start_time)\n",
        "latency = (end_time - start_time) / total_frames\n",
        "print(f'FPS: {average_fps:.3f} - denotes the number of images per second that can be processed by the model')\n",
        "print(f'Latency:{latency:.3f} - denotes the amount of time in seconds taken to process one image ')"
      ],
      "metadata": {
        "id": "4c4QgjRqyMz6"
      },
      "id": "4c4QgjRqyMz6",
      "execution_count": null,
      "outputs": []
    },
    {
      "cell_type": "markdown",
      "metadata": {
        "id": "ASQBqJnJesD0"
      },
      "source": [
        "# Calculating standard deviation for validation set"
      ],
      "id": "ASQBqJnJesD0"
    },
    {
      "cell_type": "code",
      "execution_count": 38,
      "metadata": {
        "id": "HrhSOPzPey5a"
      },
      "outputs": [],
      "source": [
        "os.makedirs('/content/valid_folds/', exist_ok = True)"
      ],
      "id": "HrhSOPzPey5a"
    },
    {
      "cell_type": "code",
      "execution_count": 39,
      "metadata": {
        "id": "D9g3YOM2f72-"
      },
      "outputs": [],
      "source": [
        "import shutil\n",
        "\n",
        "file_types = ['images', 'labels']\n",
        "\n",
        "def distribute_files(images_dir, labels_dir ,increment):\n",
        "  cnt = 1\n",
        "  img_files = sorted(os.listdir(images_dir))\n",
        "  labels_files = sorted(os.listdir(labels_dir))\n",
        "  for i in range(0, len(img_files), increment):\n",
        "    fold_dir = '/content/valid_folds/' + f'fold_{cnt}'\n",
        "    os.makedirs(fold_dir, exist_ok = True)\n",
        "\n",
        "    image_type_dir = fold_dir +'/'+ file_types[0]\n",
        "    os.makedirs(image_type_dir,  exist_ok = True)\n",
        "\n",
        "    label_type_dir = fold_dir +'/'+ file_types[1]\n",
        "    os.makedirs(label_type_dir,  exist_ok = True)\n",
        "\n",
        "      #перемещам изображения\n",
        "    for file in img_files[i:i + increment]:\n",
        "      file_path = os.path.join(images_dir, file)\n",
        "      shutil.copy(file_path, image_type_dir)\n",
        "\n",
        "    for file in labels_files[i:i + increment]:\n",
        "      file_path = os.path.join(labels_dir, file)\n",
        "      shutil.copy(file_path, label_type_dir )\n",
        "    cnt += 1\n"
      ],
      "id": "D9g3YOM2f72-"
    },
    {
      "cell_type": "code",
      "execution_count": 40,
      "metadata": {
        "id": "vAq_skVwf-GX",
        "colab": {
          "base_uri": "https://localhost:8080/"
        },
        "outputId": "1a5aae09-f1ba-4cb7-c988-8f9dca3dc168"
      },
      "outputs": [
        {
          "output_type": "execute_result",
          "data": {
            "text/plain": [
              "9"
            ]
          },
          "metadata": {},
          "execution_count": 40
        }
      ],
      "source": [
        "fold_number = 9\n",
        "increment = len(os.listdir('/content/Defect_Data/valid/images')) // fold_number\n",
        "increment"
      ],
      "id": "vAq_skVwf-GX"
    },
    {
      "cell_type": "code",
      "execution_count": 41,
      "metadata": {
        "id": "L-DKRRHYgAFH"
      },
      "outputs": [],
      "source": [
        "images_dir = '/content/Defect_Data/valid/images'\n",
        "labels_dir = '/content/Defect_Data/valid/labels'\n",
        "\n",
        "\n",
        "distribute_files(images_dir, labels_dir ,increment)"
      ],
      "id": "L-DKRRHYgAFH"
    },
    {
      "cell_type": "code",
      "execution_count": 42,
      "metadata": {
        "id": "1BgRadIqgEmU"
      },
      "outputs": [],
      "source": [
        "kfold_base_path='/content/valid_folds'"
      ],
      "id": "1BgRadIqgEmU"
    },
    {
      "cell_type": "code",
      "source": [
        "CHECKPOINT_DIR = 'std_checkpoints'\n",
        "trainer = Trainer(experiment_name='calculate_std', ckpt_root_dir=CHECKPOINT_DIR)"
      ],
      "metadata": {
        "id": "sMCjAtXtdl7F"
      },
      "id": "sMCjAtXtdl7F",
      "execution_count": 43,
      "outputs": []
    },
    {
      "cell_type": "code",
      "source": [
        "from google.colab import drive\n",
        "drive.mount('/content/drive')"
      ],
      "metadata": {
        "id": "q--wPIkseBDS"
      },
      "id": "q--wPIkseBDS",
      "execution_count": 21,
      "outputs": []
    },
    {
      "cell_type": "code",
      "source": [
        "mAP_50_list = []"
      ],
      "metadata": {
        "id": "SfmagD6LfT2W"
      },
      "id": "SfmagD6LfT2W",
      "execution_count": 44,
      "outputs": []
    },
    {
      "cell_type": "code",
      "execution_count": 45,
      "metadata": {
        "id": "TuFD6SLUgMfL",
        "colab": {
          "base_uri": "https://localhost:8080/"
        },
        "outputId": "7a6a9eee-d169-426c-cc42-2af9003f667f"
      },
      "outputs": [
        {
          "output_type": "stream",
          "name": "stderr",
          "text": [
            "[2024-02-13 11:03:59] INFO - checkpoint_utils.py - Successfully loaded model weights from /content/yolo_nas_l.pth checkpoint.\n",
            "[2024-02-13 11:03:59] INFO - detection_dataset.py - Dataset Initialization in progress. `cache_annotations=True` causes the process to take longer due to full dataset indexing.\n",
            "Indexing dataset annotations: 100%|██████████| 9/9 [00:00<00:00, 2174.97it/s]\n",
            "[2024-02-13 11:03:59] WARNING - detection_metrics.py - Parameter 'include_classwise_ap' is set to True, but no class names are provided. We will generate dummy class names, but we recommend to provide class names explicitly tohave meaningful names in reported metrics.\n",
            "Testing: 100%|██████████| 1/1 [00:26<00:00, 26.49s/it]\n",
            "[2024-02-13 11:04:26] INFO - detection_dataset.py - Dataset Initialization in progress. `cache_annotations=True` causes the process to take longer due to full dataset indexing.\n",
            "Indexing dataset annotations: 100%|██████████| 9/9 [00:00<00:00, 1266.14it/s]\n",
            "[2024-02-13 11:04:26] WARNING - detection_metrics.py - Parameter 'include_classwise_ap' is set to True, but no class names are provided. We will generate dummy class names, but we recommend to provide class names explicitly tohave meaningful names in reported metrics.\n",
            "Testing: 100%|██████████| 1/1 [00:29<00:00, 29.14s/it]\n",
            "[2024-02-13 11:04:55] INFO - detection_dataset.py - Dataset Initialization in progress. `cache_annotations=True` causes the process to take longer due to full dataset indexing.\n",
            "Indexing dataset annotations: 100%|██████████| 9/9 [00:00<00:00, 2901.52it/s]\n",
            "[2024-02-13 11:04:55] WARNING - detection_metrics.py - Parameter 'include_classwise_ap' is set to True, but no class names are provided. We will generate dummy class names, but we recommend to provide class names explicitly tohave meaningful names in reported metrics.\n",
            "Testing: 100%|██████████| 1/1 [00:27<00:00, 27.71s/it]\n",
            "[2024-02-13 11:05:23] INFO - detection_dataset.py - Dataset Initialization in progress. `cache_annotations=True` causes the process to take longer due to full dataset indexing.\n",
            "Indexing dataset annotations: 100%|██████████| 9/9 [00:00<00:00, 2583.41it/s]\n",
            "[2024-02-13 11:05:23] WARNING - detection_metrics.py - Parameter 'include_classwise_ap' is set to True, but no class names are provided. We will generate dummy class names, but we recommend to provide class names explicitly tohave meaningful names in reported metrics.\n",
            "Testing: 100%|██████████| 1/1 [00:14<00:00, 14.35s/it]\n",
            "[2024-02-13 11:05:38] INFO - detection_dataset.py - Dataset Initialization in progress. `cache_annotations=True` causes the process to take longer due to full dataset indexing.\n",
            "Indexing dataset annotations: 100%|██████████| 9/9 [00:00<00:00, 1929.60it/s]\n",
            "[2024-02-13 11:05:38] WARNING - detection_metrics.py - Parameter 'include_classwise_ap' is set to True, but no class names are provided. We will generate dummy class names, but we recommend to provide class names explicitly tohave meaningful names in reported metrics.\n",
            "Testing: 100%|██████████| 1/1 [00:08<00:00,  8.39s/it]\n",
            "[2024-02-13 11:05:46] INFO - detection_dataset.py - Dataset Initialization in progress. `cache_annotations=True` causes the process to take longer due to full dataset indexing.\n",
            "Indexing dataset annotations: 100%|██████████| 9/9 [00:00<00:00, 2691.53it/s]\n",
            "[2024-02-13 11:05:46] WARNING - detection_metrics.py - Parameter 'include_classwise_ap' is set to True, but no class names are provided. We will generate dummy class names, but we recommend to provide class names explicitly tohave meaningful names in reported metrics.\n",
            "Testing: 100%|██████████| 1/1 [00:25<00:00, 25.75s/it]\n",
            "[2024-02-13 11:06:12] INFO - detection_dataset.py - Dataset Initialization in progress. `cache_annotations=True` causes the process to take longer due to full dataset indexing.\n",
            "Indexing dataset annotations: 100%|██████████| 9/9 [00:00<00:00, 1848.71it/s]\n",
            "[2024-02-13 11:06:12] WARNING - detection_metrics.py - Parameter 'include_classwise_ap' is set to True, but no class names are provided. We will generate dummy class names, but we recommend to provide class names explicitly tohave meaningful names in reported metrics.\n",
            "Testing: 100%|██████████| 1/1 [00:24<00:00, 24.82s/it]\n",
            "[2024-02-13 11:06:37] INFO - detection_dataset.py - Dataset Initialization in progress. `cache_annotations=True` causes the process to take longer due to full dataset indexing.\n",
            "Indexing dataset annotations: 100%|██████████| 9/9 [00:00<00:00, 2710.67it/s]\n",
            "[2024-02-13 11:06:37] WARNING - detection_metrics.py - Parameter 'include_classwise_ap' is set to True, but no class names are provided. We will generate dummy class names, but we recommend to provide class names explicitly tohave meaningful names in reported metrics.\n",
            "Testing: 100%|██████████| 1/1 [00:18<00:00, 18.45s/it]\n",
            "[2024-02-13 11:06:56] INFO - detection_dataset.py - Dataset Initialization in progress. `cache_annotations=True` causes the process to take longer due to full dataset indexing.\n",
            "Indexing dataset annotations: 100%|██████████| 9/9 [00:00<00:00, 1601.35it/s]\n",
            "[2024-02-13 11:06:56] WARNING - detection_metrics.py - Parameter 'include_classwise_ap' is set to True, but no class names are provided. We will generate dummy class names, but we recommend to provide class names explicitly tohave meaningful names in reported metrics.\n",
            "Testing: 100%|██████████| 1/1 [00:28<00:00, 28.04s/it]\n",
            "[2024-02-13 11:07:24] INFO - detection_dataset.py - Dataset Initialization in progress. `cache_annotations=True` causes the process to take longer due to full dataset indexing.\n",
            "Indexing dataset annotations: 100%|██████████| 2/2 [00:00<00:00, 1882.96it/s]\n",
            "[2024-02-13 11:07:24] WARNING - detection_metrics.py - Parameter 'include_classwise_ap' is set to True, but no class names are provided. We will generate dummy class names, but we recommend to provide class names explicitly tohave meaningful names in reported metrics.\n",
            "Testing:   0%|          | 0/1 [00:00<?, ?it/s]"
          ]
        }
      ],
      "source": [
        "model = models.get('yolo_nas_l',\n",
        "                        num_classes=len(dataset_params['classes']),\n",
        "                        checkpoint_path=\"/content/yolo_nas_l.pth\")\n",
        "\n",
        "for i in range(1, fold_number + 2):\n",
        "\n",
        "  fold_path = kfold_base_path + f'/fold_{i}'\n",
        "  fold_img_path = fold_path + '/images'\n",
        "  fold_label_path = fold_path + '/labels'\n",
        "\n",
        "  #creating valid fold loader\n",
        "  val_data = coco_detection_yolo_format_val(\n",
        "    dataset_params={\n",
        "        'data_dir': fold_path,\n",
        "        'images_dir': fold_img_path,\n",
        "        'labels_dir': fold_label_path,\n",
        "        'classes': dataset_params['classes']\n",
        "    },\n",
        "    dataloader_params={\n",
        "        'batch_size':BATCH_SIZE,\n",
        "        'num_workers':WORKERS\n",
        "    })\n",
        "\n",
        "\n",
        "  fold_metrics = trainer.test(model=model,\n",
        "            test_loader=val_data,\n",
        "            test_metrics_list=DetectionMetrics_050(score_thres=0.1,\n",
        "                                                   top_k_predictions=300,\n",
        "                                                   num_cls=len(dataset_params['classes']),\n",
        "                                                   normalize_targets=True,\n",
        "                                                   include_classwise_ap=True,\n",
        "                                                   post_prediction_callback=PPYoloEPostPredictionCallback(score_threshold=0.01,\n",
        "                                                                                                          nms_top_k=1000,\n",
        "                                                                                                          max_predictions=300,\n",
        "                                                                                                          nms_threshold=0.7)\n",
        "                                                  ))\n",
        "  mAP_50_list.append(fold_metrics)"
      ],
      "id": "TuFD6SLUgMfL"
    },
    {
      "cell_type": "code",
      "source": [
        "mAP_50_list[0]"
      ],
      "metadata": {
        "colab": {
          "base_uri": "https://localhost:8080/"
        },
        "id": "bo6F0OPMls7Z",
        "outputId": "a6d6ad18-782c-44a3-bc3d-0d9f8dff50bf"
      },
      "id": "bo6F0OPMls7Z",
      "execution_count": 46,
      "outputs": [
        {
          "output_type": "execute_result",
          "data": {
            "text/plain": [
              "{'Precision@0.50': 0.25827813148498535,\n",
              " 'Recall@0.50': 1.0,\n",
              " 'mAP@0.50': 0.9400995373725891,\n",
              " 'F1@0.50': 0.410526305437088,\n",
              " 'AP@0.50_class_0': 0.0,\n",
              " 'AP@0.50_class_1': 0.0,\n",
              " 'AP@0.50_class_2': 0.9400995373725891}"
            ]
          },
          "metadata": {},
          "execution_count": 46
        }
      ]
    },
    {
      "cell_type": "code",
      "source": [
        "mAP_50 = [mAP_50_list[i]['mAP@0.50'] for i in range(len(mAP_50_list)) ]"
      ],
      "metadata": {
        "id": "x267C2etnfB_"
      },
      "id": "x267C2etnfB_",
      "execution_count": 47,
      "outputs": []
    },
    {
      "cell_type": "code",
      "source": [
        "mAP_50"
      ],
      "metadata": {
        "colab": {
          "base_uri": "https://localhost:8080/"
        },
        "id": "8kxM_mBTq3S_",
        "outputId": "d34af564-89bc-48be-e05a-0857929ac0da"
      },
      "id": "8kxM_mBTq3S_",
      "execution_count": 48,
      "outputs": [
        {
          "output_type": "execute_result",
          "data": {
            "text/plain": [
              "[0.9400995373725891,\n",
              " 0.967634916305542,\n",
              " 0.9679874181747437,\n",
              " 0.9880145788192749,\n",
              " 0.9489717483520508,\n",
              " 0.9809118509292603,\n",
              " 0.9943423271179199,\n",
              " 0.904363751411438,\n",
              " 0.7163119316101074,\n",
              " 0.9434230327606201]"
            ]
          },
          "metadata": {},
          "execution_count": 48
        }
      ]
    },
    {
      "cell_type": "code",
      "source": [
        "mAP_50_95_list = []"
      ],
      "metadata": {
        "id": "YRfTi_BCn_8A"
      },
      "id": "YRfTi_BCn_8A",
      "execution_count": 49,
      "outputs": []
    },
    {
      "cell_type": "code",
      "source": [
        "for i in range(1, fold_number + 2):\n",
        "\n",
        "  fold_path = kfold_base_path + f'/fold_{i}'\n",
        "  fold_img_path = fold_path + '/images'\n",
        "  fold_label_path = fold_path + '/labels'\n",
        "\n",
        "  #creating valid fold loader\n",
        "  val_data = coco_detection_yolo_format_val(\n",
        "    dataset_params={\n",
        "        'data_dir': fold_path,\n",
        "        'images_dir': fold_img_path,\n",
        "        'labels_dir': fold_label_path,\n",
        "        'classes': dataset_params['classes']\n",
        "    },\n",
        "    dataloader_params={\n",
        "        'batch_size':BATCH_SIZE,\n",
        "        'num_workers':WORKERS\n",
        "    })\n",
        "\n",
        "\n",
        "  fold_metrics = trainer.test(model=model,\n",
        "            test_loader=val_data,\n",
        "            test_metrics_list=DetectionMetrics_050_095(score_thres=0.1,\n",
        "                                                   top_k_predictions=300,\n",
        "                                                   num_cls=len(dataset_params['classes']),\n",
        "                                                   normalize_targets=True,\n",
        "                                                   include_classwise_ap=True,\n",
        "                                                   post_prediction_callback=PPYoloEPostPredictionCallback(score_threshold=0.01,\n",
        "                                                                                                          nms_top_k=1000,\n",
        "                                                                                                          max_predictions=300,\n",
        "                                                                                                          nms_threshold=0.7)\n",
        "                                                  ))\n",
        "  mAP_50_95_list.append(fold_metrics)\n"
      ],
      "metadata": {
        "colab": {
          "base_uri": "https://localhost:8080/"
        },
        "id": "fjRVJhQCn9Za",
        "outputId": "10969be7-b6cb-4c56-c2f9-a2c2abd7a802"
      },
      "id": "fjRVJhQCn9Za",
      "execution_count": 50,
      "outputs": [
        {
          "output_type": "stream",
          "name": "stderr",
          "text": [
            "[2024-02-13 11:11:02] INFO - detection_dataset.py - Dataset Initialization in progress. `cache_annotations=True` causes the process to take longer due to full dataset indexing.\n",
            "Indexing dataset annotations: 100%|██████████| 9/9 [00:00<00:00, 2246.28it/s]\n",
            "[2024-02-13 11:11:02] WARNING - detection_metrics.py - Parameter 'include_classwise_ap' is set to True, but no class names are provided. We will generate dummy class names, but we recommend to provide class names explicitly tohave meaningful names in reported metrics.\n",
            "Testing: 100%|██████████| 1/1 [00:27<00:00, 27.78s/it]\n",
            "[2024-02-13 11:11:30] INFO - detection_dataset.py - Dataset Initialization in progress. `cache_annotations=True` causes the process to take longer due to full dataset indexing.\n",
            "Indexing dataset annotations: 100%|██████████| 9/9 [00:00<00:00, 1915.79it/s]\n",
            "[2024-02-13 11:11:30] WARNING - detection_metrics.py - Parameter 'include_classwise_ap' is set to True, but no class names are provided. We will generate dummy class names, but we recommend to provide class names explicitly tohave meaningful names in reported metrics.\n",
            "Testing: 100%|██████████| 1/1 [00:27<00:00, 27.96s/it]\n",
            "[2024-02-13 11:11:58] INFO - detection_dataset.py - Dataset Initialization in progress. `cache_annotations=True` causes the process to take longer due to full dataset indexing.\n",
            "Indexing dataset annotations: 100%|██████████| 9/9 [00:00<00:00, 1842.75it/s]\n",
            "[2024-02-13 11:11:58] WARNING - detection_metrics.py - Parameter 'include_classwise_ap' is set to True, but no class names are provided. We will generate dummy class names, but we recommend to provide class names explicitly tohave meaningful names in reported metrics.\n",
            "Testing: 100%|██████████| 1/1 [00:27<00:00, 27.81s/it]\n",
            "[2024-02-13 11:12:26] INFO - detection_dataset.py - Dataset Initialization in progress. `cache_annotations=True` causes the process to take longer due to full dataset indexing.\n",
            "Indexing dataset annotations: 100%|██████████| 9/9 [00:00<00:00, 1806.76it/s]\n",
            "[2024-02-13 11:12:26] WARNING - detection_metrics.py - Parameter 'include_classwise_ap' is set to True, but no class names are provided. We will generate dummy class names, but we recommend to provide class names explicitly tohave meaningful names in reported metrics.\n",
            "Testing: 100%|██████████| 1/1 [00:15<00:00, 15.01s/it]\n",
            "[2024-02-13 11:12:41] INFO - detection_dataset.py - Dataset Initialization in progress. `cache_annotations=True` causes the process to take longer due to full dataset indexing.\n",
            "Indexing dataset annotations: 100%|██████████| 9/9 [00:00<00:00, 4087.57it/s]\n",
            "[2024-02-13 11:12:41] WARNING - detection_metrics.py - Parameter 'include_classwise_ap' is set to True, but no class names are provided. We will generate dummy class names, but we recommend to provide class names explicitly tohave meaningful names in reported metrics.\n",
            "Testing: 100%|██████████| 1/1 [00:09<00:00,  9.19s/it]\n",
            "[2024-02-13 11:12:50] INFO - detection_dataset.py - Dataset Initialization in progress. `cache_annotations=True` causes the process to take longer due to full dataset indexing.\n",
            "Indexing dataset annotations: 100%|██████████| 9/9 [00:00<00:00, 1985.94it/s]\n",
            "[2024-02-13 11:12:50] WARNING - detection_metrics.py - Parameter 'include_classwise_ap' is set to True, but no class names are provided. We will generate dummy class names, but we recommend to provide class names explicitly tohave meaningful names in reported metrics.\n",
            "Testing: 100%|██████████| 1/1 [00:25<00:00, 25.46s/it]\n",
            "[2024-02-13 11:13:16] INFO - detection_dataset.py - Dataset Initialization in progress. `cache_annotations=True` causes the process to take longer due to full dataset indexing.\n",
            "Indexing dataset annotations: 100%|██████████| 9/9 [00:00<00:00, 1948.72it/s]\n",
            "[2024-02-13 11:13:16] WARNING - detection_metrics.py - Parameter 'include_classwise_ap' is set to True, but no class names are provided. We will generate dummy class names, but we recommend to provide class names explicitly tohave meaningful names in reported metrics.\n",
            "Testing: 100%|██████████| 1/1 [00:25<00:00, 25.46s/it]\n",
            "[2024-02-13 11:13:42] INFO - detection_dataset.py - Dataset Initialization in progress. `cache_annotations=True` causes the process to take longer due to full dataset indexing.\n",
            "Indexing dataset annotations: 100%|██████████| 9/9 [00:00<00:00, 2011.55it/s]\n",
            "[2024-02-13 11:13:42] WARNING - detection_metrics.py - Parameter 'include_classwise_ap' is set to True, but no class names are provided. We will generate dummy class names, but we recommend to provide class names explicitly tohave meaningful names in reported metrics.\n",
            "Testing: 100%|██████████| 1/1 [00:18<00:00, 18.38s/it]\n",
            "[2024-02-13 11:14:00] INFO - detection_dataset.py - Dataset Initialization in progress. `cache_annotations=True` causes the process to take longer due to full dataset indexing.\n",
            "Indexing dataset annotations: 100%|██████████| 9/9 [00:00<00:00, 2407.60it/s]\n",
            "[2024-02-13 11:14:00] WARNING - detection_metrics.py - Parameter 'include_classwise_ap' is set to True, but no class names are provided. We will generate dummy class names, but we recommend to provide class names explicitly tohave meaningful names in reported metrics.\n",
            "Testing: 100%|██████████| 1/1 [00:28<00:00, 28.36s/it]\n",
            "[2024-02-13 11:14:29] INFO - detection_dataset.py - Dataset Initialization in progress. `cache_annotations=True` causes the process to take longer due to full dataset indexing.\n",
            "Indexing dataset annotations: 100%|██████████| 2/2 [00:00<00:00, 1528.54it/s]\n",
            "[2024-02-13 11:14:29] WARNING - detection_metrics.py - Parameter 'include_classwise_ap' is set to True, but no class names are provided. We will generate dummy class names, but we recommend to provide class names explicitly tohave meaningful names in reported metrics.\n",
            "Testing:   0%|          | 0/1 [00:00<?, ?it/s]"
          ]
        }
      ]
    },
    {
      "cell_type": "code",
      "source": [
        "mAP_50_95_list[0]"
      ],
      "metadata": {
        "colab": {
          "base_uri": "https://localhost:8080/"
        },
        "id": "4T2aQbd4rb-3",
        "outputId": "068a9cae-60a9-4f2c-8b6c-648ac6761cf2"
      },
      "id": "4T2aQbd4rb-3",
      "execution_count": 51,
      "outputs": [
        {
          "output_type": "execute_result",
          "data": {
            "text/plain": [
              "{'Precision@0.50:0.95': 0.19006621837615967,\n",
              " 'Recall@0.50:0.95': 0.735897421836853,\n",
              " 'mAP@0.50:0.95': 0.6306675672531128,\n",
              " 'F1@0.50:0.95': 0.30210527777671814,\n",
              " 'AP@0.50:0.95_class_0': 0.0,\n",
              " 'AP@0.50:0.95_class_1': 0.0,\n",
              " 'AP@0.50:0.95_class_2': 0.6306675672531128}"
            ]
          },
          "metadata": {},
          "execution_count": 51
        }
      ]
    },
    {
      "cell_type": "code",
      "source": [
        "mAP_50_95 = [mAP_50_95_list[i]['mAP@0.50:0.95'] for i in range(len(mAP_50_95_list)) ]\n"
      ],
      "metadata": {
        "id": "tGEPcgu3lyj0"
      },
      "id": "tGEPcgu3lyj0",
      "execution_count": 52,
      "outputs": []
    },
    {
      "cell_type": "code",
      "source": [
        "mAP_50_95"
      ],
      "metadata": {
        "colab": {
          "base_uri": "https://localhost:8080/"
        },
        "id": "No_RFqmpr6MV",
        "outputId": "acd7d487-85ee-4395-bbcf-87e7bcaf9a43"
      },
      "id": "No_RFqmpr6MV",
      "execution_count": 35,
      "outputs": [
        {
          "output_type": "execute_result",
          "data": {
            "text/plain": [
              "[0.641392707824707,\n",
              " 0.6968408823013306,\n",
              " 0.655582070350647,\n",
              " 0.6799197793006897,\n",
              " 0.6076796054840088,\n",
              " 0.5262832045555115,\n",
              " 0.5274755358695984,\n",
              " 0.5319560170173645,\n",
              " 0.38948750495910645,\n",
              " 0.6557756066322327]"
            ]
          },
          "metadata": {},
          "execution_count": 35
        }
      ]
    },
    {
      "cell_type": "code",
      "source": [
        "import pandas as pd\n",
        "\n",
        "\n",
        "yolo_nas_l_folds = pd.DataFrame({\n",
        "    'mAP_50' : mAP_50 ,\n",
        "    'mAP_50_95': mAP_50_95,\n",
        "})\n",
        "\n",
        "yolo_nas_l_folds.to_csv('/content/drive/MyDrive/metrics/yolo_nas_l_folds.csv')"
      ],
      "metadata": {
        "id": "ypIUvlgyr7-P"
      },
      "id": "ypIUvlgyr7-P",
      "execution_count": 53,
      "outputs": []
    },
    {
      "cell_type": "code",
      "source": [
        "fold_metrics"
      ],
      "metadata": {
        "colab": {
          "base_uri": "https://localhost:8080/"
        },
        "id": "CSO7xH7-vcIf",
        "outputId": "45ac2496-b299-43de-cfe7-a480cc332ef5"
      },
      "id": "CSO7xH7-vcIf",
      "execution_count": 41,
      "outputs": [
        {
          "output_type": "execute_result",
          "data": {
            "text/plain": [
              "{'Precision@0.50:0.95': 0.11000001430511475,\n",
              " 'Recall@0.50:0.95': 0.6599999666213989,\n",
              " 'mAP@0.50:0.95': 0.6557756066322327,\n",
              " 'F1@0.50:0.95': 0.18857142329216003,\n",
              " 'AP@0.50:0.95_bridge': 0.0,\n",
              " 'AP@0.50:0.95_gap': 0.6557756066322327,\n",
              " 'AP@0.50:0.95_sraf': 0.0}"
            ]
          },
          "metadata": {},
          "execution_count": 41
        }
      ]
    },
    {
      "cell_type": "markdown",
      "source": [
        "# Environment information"
      ],
      "metadata": {
        "id": "IJ54e9jBnEYz"
      },
      "id": "IJ54e9jBnEYz"
    },
    {
      "cell_type": "code",
      "source": [
        "!wget https://raw.githubusercontent.com/pytorch/pytorch/main/torch/utils/collect_env.py"
      ],
      "metadata": {
        "id": "xb80oJKjnbTV"
      },
      "id": "xb80oJKjnbTV",
      "execution_count": null,
      "outputs": []
    },
    {
      "cell_type": "code",
      "source": [
        "!python collect_env.py"
      ],
      "metadata": {
        "id": "3rLhuPlCncCy"
      },
      "id": "3rLhuPlCncCy",
      "execution_count": null,
      "outputs": []
    }
  ],
  "metadata": {
    "accelerator": "GPU",
    "colab": {
      "gpuType": "T4",
      "provenance": [],
      "collapsed_sections": [
        "IJ54e9jBnEYz"
      ]
    },
    "kernelspec": {
      "display_name": "Python 3",
      "name": "python3"
    },
    "language_info": {
      "codemirror_mode": {
        "name": "ipython",
        "version": 3
      },
      "file_extension": ".py",
      "mimetype": "text/x-python",
      "name": "python",
      "nbconvert_exporter": "python",
      "pygments_lexer": "ipython3",
      "version": "3.9.16"
    }
  },
  "nbformat": 4,
  "nbformat_minor": 5
}