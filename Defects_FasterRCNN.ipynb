{
  "cells": [
    {
      "cell_type": "markdown",
      "metadata": {
        "id": "s6r0FlB9dErZ"
      },
      "source": [
        "# Downloading repositories and data"
      ]
    },
    {
      "cell_type": "code",
      "execution_count": null,
      "metadata": {
        "id": "eN8pyc31Gswu"
      },
      "outputs": [],
      "source": [
        "!git clone https://github.com/mskv99/Defect-Detection.git"
      ]
    },
    {
      "cell_type": "code",
      "execution_count": null,
      "metadata": {
        "id": "KHzm6MYZJG6k"
      },
      "outputs": [],
      "source": [
        "%cd /content/Defect-Detection/NetDirectory/\n",
        "!pwd"
      ]
    },
    {
      "cell_type": "code",
      "execution_count": null,
      "metadata": {
        "collapsed": true,
        "id": "5nHT4svSTMSr"
      },
      "outputs": [],
      "source": [
        "#first version of dataset\n",
        "#!curl -L \"https://app.roboflow.com/ds/UKv4tybmhd?key=cS4UxrytMH\" > roboflow.zip; unzip roboflow.zip -d custom_data; rm roboflow.zip\n",
        "\n",
        "#second version of dataset\n",
        "\n",
        "!curl -L \"https://app.roboflow.com/ds/EKzbJNgSDg?key=xJdZLnl59h\" > roboflow.zip; unzip roboflow.zip -d custom_data; rm roboflow.zip"
      ]
    },
    {
      "cell_type": "code",
      "execution_count": null,
      "metadata": {
        "id": "LbNEKnqLTQp7"
      },
      "outputs": [],
      "source": [
        "!pip install wandb\n"
      ]
    },
    {
      "cell_type": "code",
      "execution_count": null,
      "metadata": {
        "id": "QS47OuZaTXi7"
      },
      "outputs": [],
      "source": [
        "!pip install torchmetrics\n"
      ]
    },
    {
      "cell_type": "code",
      "source": [
        "!pip install torchinfo"
      ],
      "metadata": {
        "colab": {
          "base_uri": "https://localhost:8080/"
        },
        "id": "h_3YJ7Vw9aH8",
        "outputId": "883ef701-a9fd-49af-dd0b-73ed5e89f0fd"
      },
      "execution_count": 6,
      "outputs": [
        {
          "output_type": "stream",
          "name": "stdout",
          "text": [
            "Collecting torchinfo\n",
            "  Downloading torchinfo-1.8.0-py3-none-any.whl (23 kB)\n",
            "Installing collected packages: torchinfo\n",
            "Successfully installed torchinfo-1.8.0\n"
          ]
        }
      ]
    },
    {
      "cell_type": "code",
      "execution_count": 7,
      "metadata": {
        "id": "SLLuEtfFTadc",
        "colab": {
          "base_uri": "https://localhost:8080/"
        },
        "outputId": "77377c7f-3d60-4c30-aa94-1ead40ea5649"
      },
      "outputs": [
        {
          "output_type": "stream",
          "name": "stdout",
          "text": [
            "\u001b[34m\u001b[1mwandb\u001b[0m: Logging into wandb.ai. (Learn how to deploy a W&B server locally: https://wandb.me/wandb-server)\n",
            "\u001b[34m\u001b[1mwandb\u001b[0m: You can find your API key in your browser here: https://wandb.ai/authorize\n",
            "\u001b[34m\u001b[1mwandb\u001b[0m: Paste an API key from your profile and hit enter, or press ctrl+c to quit: \n",
            "\u001b[34m\u001b[1mwandb\u001b[0m: Appending key for api.wandb.ai to your netrc file: /root/.netrc\n"
          ]
        }
      ],
      "source": [
        "!wandb login\n",
        "\n",
        "#api key for weights and biases: 7f7117ef2660f827c823ba03863048fe0eea4801"
      ]
    },
    {
      "cell_type": "code",
      "execution_count": 8,
      "metadata": {
        "id": "Mit61ZsSTjqs",
        "colab": {
          "base_uri": "https://localhost:8080/",
          "height": 137
        },
        "outputId": "6d0fbf63-1b77-4690-d155-cd13c8a2b29b"
      },
      "outputs": [
        {
          "output_type": "stream",
          "name": "stderr",
          "text": [
            "\u001b[34m\u001b[1mwandb\u001b[0m: Currently logged in as: \u001b[33mandrew_mskv\u001b[0m (\u001b[33mml_team_mskv\u001b[0m). Use \u001b[1m`wandb login --relogin`\u001b[0m to force relogin\n"
          ]
        },
        {
          "output_type": "display_data",
          "data": {
            "text/plain": [
              "<IPython.core.display.HTML object>"
            ],
            "text/html": [
              "Tracking run with wandb version 0.15.11"
            ]
          },
          "metadata": {}
        },
        {
          "output_type": "display_data",
          "data": {
            "text/plain": [
              "<IPython.core.display.HTML object>"
            ],
            "text/html": [
              "Run data is saved locally in <code>/content/Defect-Detection/NetDirectory/wandb/run-20230930_170912-y8zia1re</code>"
            ]
          },
          "metadata": {}
        },
        {
          "output_type": "display_data",
          "data": {
            "text/plain": [
              "<IPython.core.display.HTML object>"
            ],
            "text/html": [
              "Syncing run <strong><a href='https://wandb.ai/ml_team_mskv/FasterRCNN/runs/y8zia1re' target=\"_blank\">iconic-plant-110</a></strong> to <a href='https://wandb.ai/ml_team_mskv/FasterRCNN' target=\"_blank\">Weights & Biases</a> (<a href='https://wandb.me/run' target=\"_blank\">docs</a>)<br/>"
            ]
          },
          "metadata": {}
        },
        {
          "output_type": "display_data",
          "data": {
            "text/plain": [
              "<IPython.core.display.HTML object>"
            ],
            "text/html": [
              " View project at <a href='https://wandb.ai/ml_team_mskv/FasterRCNN' target=\"_blank\">https://wandb.ai/ml_team_mskv/FasterRCNN</a>"
            ]
          },
          "metadata": {}
        },
        {
          "output_type": "display_data",
          "data": {
            "text/plain": [
              "<IPython.core.display.HTML object>"
            ],
            "text/html": [
              " View run at <a href='https://wandb.ai/ml_team_mskv/FasterRCNN/runs/y8zia1re' target=\"_blank\">https://wandb.ai/ml_team_mskv/FasterRCNN/runs/y8zia1re</a>"
            ]
          },
          "metadata": {}
        },
        {
          "output_type": "execute_result",
          "data": {
            "text/html": [
              "<button onClick=\"this.nextSibling.style.display='block';this.style.display='none';\">Display W&B run</button><iframe src='https://wandb.ai/ml_team_mskv/FasterRCNN/runs/y8zia1re?jupyter=true' style='border:none;width:100%;height:420px;display:none;'></iframe>"
            ],
            "text/plain": [
              "<wandb.sdk.wandb_run.Run at 0x787892aa0ca0>"
            ]
          },
          "metadata": {},
          "execution_count": 8
        }
      ],
      "source": [
        "import wandb\n",
        "\n",
        "# start a new wandb run to track this script\n",
        "wandb.init(\n",
        "    # set the wandb project where this run will be logged\n",
        "    project=\"FasterRCNN\",\n",
        "\n",
        "    # track hyperparameters and run metadata\n",
        "    config={\n",
        "    \"learning_rate\": 0.009474,\n",
        "    \"architecture\": \"ResNet101\",\n",
        "    \"dataset\": \"Defect_dataset_v2\",\n",
        "    \"epochs\": 50,\n",
        "    \"optimizer\" : \"SGD\",\n",
        "    \"batch_size\" : \"3\",\n",
        "    \"augmentations\" : 'blur',\n",
        "    \"scheduler\" : 'step_lr_10_ep_gamma_0.1'\n",
        "    }\n",
        ")\n",
        "\n"
      ]
    },
    {
      "cell_type": "code",
      "source": [
        "import torch\n",
        "import albumentations as A\n",
        "from albumentations.pytorch import ToTensorV2\n",
        "import cv2\n",
        "import numpy as np\n",
        "import os\n",
        "import glob as glob\n",
        "from google.colab.patches import cv2_imshow\n",
        "\n",
        "from xml.etree import ElementTree as et\n",
        "import random\n",
        "from torch.utils.data import Dataset, DataLoader\n",
        "\n",
        "from custom_utils import (\n",
        "    Averager,\n",
        "    SaveBestModel,\n",
        "    save_model,\n",
        "    save_loss_plot,\n",
        "    save_mAP\n",
        ")\n",
        "from tqdm.auto import tqdm\n",
        "\n",
        "from torchmetrics.detection.mean_ap import MeanAveragePrecision\n",
        "from torch.optim.lr_scheduler import StepLR\n",
        "\n",
        "import matplotlib.pyplot as plt\n",
        "import time\n",
        "import os\n",
        "\n",
        "\n",
        "def set_random_seed(seed):\n",
        "  torch.manual_seed(seed)\n",
        "  torch.cuda.manual_seed(seed)\n",
        "  torch.backends.cudnn.deterministic = True\n",
        "  torch.backends.cudnn.benchmark = False\n",
        "  np.random.seed(seed)\n",
        "  random.seed(seed)\n",
        "\n",
        "set_random_seed(42)"
      ],
      "metadata": {
        "id": "bsVwrbVIms37"
      },
      "execution_count": 9,
      "outputs": []
    },
    {
      "cell_type": "markdown",
      "metadata": {
        "id": "_dgtA4VKdSQB"
      },
      "source": [
        "# Creating dataset class and applying transforms\n"
      ]
    },
    {
      "cell_type": "code",
      "execution_count": 10,
      "metadata": {
        "id": "GQrM3wD2UJBu"
      },
      "outputs": [],
      "source": [
        "BATCH_SIZE = 3 # Increase / decrease according to GPU memeory.\n",
        "RESIZE_TO = 640 # Resize the image for training and transforms.\n",
        "NUM_EPOCHS = 50 # Number of epochs to train for.\n",
        "NUM_WORKERS = 2 # Number of parallel workers for data loading.\n",
        "LEARNING_RATE = 0.009474\n",
        "STEP = 10\n",
        "DEVICE = torch.device('cuda') if torch.cuda.is_available() else torch.device('cpu')\n",
        "\n",
        "# Training images and XML files directory.\n",
        "TRAIN_DIR = '/content/Defect-Detection/NetDirectory/custom_data/train'\n",
        "# Validation images and XML files directory.\n",
        "VALID_DIR = '/content/Defect-Detection/NetDirectory/custom_data/valid'\n",
        "\n",
        "CLASSES = [\n",
        "    '__background__', 'bridge', 'collapse', 'gap', 'sraf'\n",
        "]\n",
        "\n",
        "NUM_CLASSES = len(CLASSES)\n",
        "\n",
        "# Whether to visualize images after crearing the data loaders.\n",
        "VISUALIZE_TRANSFORMED_IMAGES = False\n",
        "\n",
        "# Location to save model and plots.\n",
        "OUT_DIR = '/content/Defect-Detection/NetDirectory/outputs'\n",
        "\n"
      ]
    },
    {
      "cell_type": "code",
      "execution_count": 11,
      "metadata": {
        "id": "Bt00uiNncWgJ"
      },
      "outputs": [],
      "source": [
        "def collate_fn(batch):\n",
        "    \"\"\"\n",
        "    To handle the data loading as different images may have different number\n",
        "    of objects and to handle varying size tensors as well.\n",
        "    \"\"\"\n",
        "    return tuple(zip(*batch))\n",
        "\n",
        "# Define the training tranforms.\n",
        "def get_train_transform():\n",
        "    return A.Compose([\n",
        "        A.OneOf([\n",
        "            A.Blur(blur_limit=3, p=0.5),\n",
        "            A.MotionBlur(blur_limit=3, p=0.5),\n",
        "            A.MedianBlur(blur_limit=3, p=0.5),\n",
        "        ], p=0.5),\n",
        "        A.ToGray(p=0.1),\n",
        "        ToTensorV2(p=1.0),\n",
        "    ], bbox_params={\n",
        "        'format': 'pascal_voc',\n",
        "        'label_fields': ['labels']\n",
        "    })\n",
        "\n",
        "# Define the validation transforms.\n",
        "def get_valid_transform():\n",
        "    return A.Compose([\n",
        "        ToTensorV2(p=1.0),\n",
        "    ], bbox_params={\n",
        "        'format': 'pascal_voc',\n",
        "        'label_fields': ['labels']\n",
        "    })\n",
        "\n",
        "def log_bounding_boxes(image, v_boxes, v_labels, v_scores):\n",
        "  all_boxes = []\n",
        "  for b_i, box in enumerate(v_boxes):\n",
        "    # get coordiantes and labels\n",
        "    box_data = {\"position\" : {\n",
        "              \"minX\" : box.xmin,\n",
        "              \"maxX\" : box.xmax,\n",
        "              \"minY\" : box.ymin,\n",
        "              \"maxY\" : box.ymax},\n",
        "              \"class_id\" : display_ids[v_labels[(b_i).numpy().astype(np.int32)]],\n",
        "              # optionally caption each box with its class and score\n",
        "              \"box_caption\" : \"%s (%.3f)\" % (v_labels[b_i], v_scores[b_i]),\n",
        "              \"domain\" : \"pixel\",\n",
        "              \"scores\" : { \"score\" : v_scores[b_i] }}\n",
        "    all_boxes.append(box_data)\n",
        "    #log to wandb: image, predictions and dictionary of class labels for each class id\n",
        "    #box_image = wandb.Image(image, boxes = {\"predictions\": {\"box_data\"} })\n",
        "    box_image = wandb.Image(image, boxes = {\"predictions\": {\"box_data\": all_boxes, \"class_labels\" : class_id_to_label}})\n",
        "    wandb.log({\"bounding_boxes\": box_image})\n"
      ]
    },
    {
      "cell_type": "code",
      "execution_count": 12,
      "metadata": {
        "id": "2r7BBTBlVRR9",
        "colab": {
          "base_uri": "https://localhost:8080/"
        },
        "outputId": "9e2dcb08-6d1a-430e-988e-31c2604c1cf6"
      },
      "outputs": [
        {
          "output_type": "stream",
          "name": "stdout",
          "text": [
            "Number of training images: 250\n"
          ]
        }
      ],
      "source": [
        "\n",
        "# The dataset class.\n",
        "class CustomDataset(Dataset):\n",
        "    def __init__(self, dir_path, width, height, classes, transforms=None):\n",
        "        self.transforms = transforms\n",
        "        self.dir_path = dir_path\n",
        "        self.height = height\n",
        "        self.width = width\n",
        "        self.classes = classes\n",
        "        self.image_file_types = ['*.jpg', '*.jpeg', '*.png', '*.ppm', '*.JPG']\n",
        "        self.all_image_paths = []\n",
        "\n",
        "        # Get all the image paths in sorted order.\n",
        "        for file_type in self.image_file_types:\n",
        "            self.all_image_paths.extend(glob.glob(os.path.join(self.dir_path, file_type)))\n",
        "        self.all_images = [image_path.split(os.path.sep)[-1] for image_path in self.all_image_paths]\n",
        "        self.all_images = sorted(self.all_images)\n",
        "\n",
        "    def __getitem__(self, idx):\n",
        "        # Capture the image name and the full image path.\n",
        "        image_name = self.all_images[idx]\n",
        "\n",
        "        image_path = os.path.join(self.dir_path, image_name)\n",
        "\n",
        "        # Read and preprocess the image.\n",
        "        image = cv2.imread(image_path)\n",
        "        image = cv2.cvtColor(image, cv2.COLOR_BGR2RGB).astype(np.float32)\n",
        "        image_resized = cv2.resize(image, (self.width, self.height))\n",
        "        #image_resized /= 255.0\n",
        "\n",
        "        # Capture the corresponding XML file for getting the annotations.\n",
        "        annot_filename = os.path.splitext(image_name)[0] + '.xml'\n",
        "        annot_file_path = os.path.join(self.dir_path, annot_filename)\n",
        "\n",
        "        boxes = []\n",
        "        labels = []\n",
        "        tree = et.parse(annot_file_path)\n",
        "        root = tree.getroot()\n",
        "\n",
        "        # Original image width and height.\n",
        "        image_width = image.shape[1]\n",
        "        image_height = image.shape[0]\n",
        "\n",
        "        # Box coordinates for xml files are extracted\n",
        "        # and corrected for image size given.\n",
        "        for member in root.findall('object'):\n",
        "            # Get label and map the `classes`.\n",
        "            labels.append(self.classes.index(member.find('name').text))\n",
        "\n",
        "            # Left corner x-coordinates.\n",
        "            xmin = int(member.find('bndbox').find('xmin').text)\n",
        "            # Right corner x-coordinates.\n",
        "            xmax = int(member.find('bndbox').find('xmax').text)\n",
        "            # Left corner y-coordinates.\n",
        "            ymin = int(member.find('bndbox').find('ymin').text)\n",
        "            # Right corner y-coordinates.\n",
        "            ymax = int(member.find('bndbox').find('ymax').text)\n",
        "\n",
        "            # Resize the bounding boxes according\n",
        "            # to resized image `width`, `height`.\n",
        "            xmin_final = (xmin/image_width)*self.width\n",
        "            xmax_final = (xmax/image_width)*self.width\n",
        "            ymin_final = (ymin/image_height)*self.height\n",
        "            ymax_final = (ymax/image_height)*self.height\n",
        "\n",
        "            # Check that all coordinates are within the image.\n",
        "            if xmax_final > self.width:\n",
        "                xmax_final = self.width\n",
        "            if ymax_final > self.height:\n",
        "                ymax_final = self.height\n",
        "\n",
        "            boxes.append([xmin_final, ymin_final, xmax_final, ymax_final])\n",
        "\n",
        "        # Bounding box to tensor.\n",
        "        boxes = torch.as_tensor(boxes, dtype=torch.float32)\n",
        "        # Area of the bounding boxes.\n",
        "        area = (boxes[:, 3] - boxes[:, 1]) * (boxes[:, 2] - boxes[:, 0]) if len(boxes) > 0 \\\n",
        "            else torch.as_tensor(boxes, dtype=torch.float32)\n",
        "        # No crowd instances.\n",
        "        iscrowd = torch.zeros((boxes.shape[0],), dtype=torch.int64)\n",
        "        # Labels to tensor.\n",
        "        labels = torch.as_tensor(labels, dtype=torch.int64)\n",
        "\n",
        "        # Prepare the final `target` dictionary.\n",
        "        target = {}\n",
        "        target[\"boxes\"] = boxes\n",
        "        target[\"labels\"] = labels\n",
        "        target[\"area\"] = area\n",
        "        target[\"iscrowd\"] = iscrowd\n",
        "        image_id = torch.tensor([idx])\n",
        "        target[\"image_id\"] = image_id\n",
        "\n",
        "        # Apply the image transforms.\n",
        "        if self.transforms:\n",
        "            sample = self.transforms(image = image_resized,\n",
        "                                     bboxes = target['boxes'],\n",
        "                                     labels = labels)\n",
        "            image_resized = sample['image']\n",
        "            target['boxes'] = torch.Tensor(sample['bboxes'])\n",
        "\n",
        "        if np.isnan((target['boxes']).numpy()).any() or target['boxes'].shape == torch.Size([0]):\n",
        "            target['boxes'] = torch.zeros((0, 4), dtype=torch.int64)\n",
        "        return image_resized, target\n",
        "\n",
        "    def __len__(self):\n",
        "        return len(self.all_images)\n",
        "\n",
        "# Prepare the final datasets and data loaders.\n",
        "def create_train_dataset(DIR):\n",
        "    train_dataset = CustomDataset(\n",
        "        DIR, RESIZE_TO, RESIZE_TO, CLASSES, get_train_transform()\n",
        "    )\n",
        "    return train_dataset\n",
        "def create_valid_dataset(DIR):\n",
        "    valid_dataset = CustomDataset(\n",
        "        DIR, RESIZE_TO, RESIZE_TO, CLASSES, get_valid_transform()\n",
        "    )\n",
        "    return valid_dataset\n",
        "def create_train_loader(train_dataset, num_workers=0, B_SIZE = BATCH_SIZE):\n",
        "    train_loader = DataLoader(\n",
        "        train_dataset,\n",
        "        batch_size = B_SIZE,\n",
        "        shuffle=True,\n",
        "        num_workers = num_workers,\n",
        "        collate_fn=collate_fn,\n",
        "        drop_last=True\n",
        "    )\n",
        "    return train_loader\n",
        "def create_valid_loader(valid_dataset, num_workers=0, B_SIZE = BATCH_SIZE):\n",
        "    valid_loader = DataLoader(\n",
        "        valid_dataset,\n",
        "        batch_size = B_SIZE,\n",
        "        shuffle=False,\n",
        "        num_workers=num_workers,\n",
        "        collate_fn=collate_fn,\n",
        "        drop_last=True\n",
        "    )\n",
        "    return valid_loader\n",
        "\n",
        "\n",
        "\n",
        "\n",
        "\n",
        "# sanity check of the Dataset pipeline with sample visualization\n",
        "dataset = CustomDataset(\n",
        "    TRAIN_DIR, RESIZE_TO, RESIZE_TO,CLASSES, transforms = None\n",
        ")\n",
        "print(f\"Number of training images: {len(dataset)}\")\n",
        "\n",
        "\n",
        "\n",
        "#colors = np.random.randint(0,255, size=(len(CLASSES), 3))\n",
        "colors = np.random.uniform(0, 255, size=(len(CLASSES), 3))\n",
        "\n",
        "def visualize_sample(image, target):\n",
        "\n",
        "    pred_classes = [CLASSES[i] for i in target['labels']]\n",
        "    for box_num in range(len(target['boxes'])):\n",
        "        image = cv2.cvtColor(image, cv2.COLOR_RGB2BGR)\n",
        "        box = target['boxes'][box_num]\n",
        "        #label = CLASSES[target['labels'][box_num]]\n",
        "        class_name = pred_classes[box_num]\n",
        "        COLOR = colors[CLASSES.index(class_name)]\n",
        "\n",
        "\n",
        "        cv2.rectangle(\n",
        "            image,\n",
        "            (int(box[0]), int(box[1])), (int(box[2]), int(box[3])),\n",
        "            color = COLOR[::-1],\n",
        "            thickness = 2\n",
        "        )\n",
        "        cv2.putText(\n",
        "            image,\n",
        "            class_name,\n",
        "            (int(box[0]), int(box[1]-5)),\n",
        "            cv2.FONT_HERSHEY_SIMPLEX,\n",
        "            0.7,\n",
        "            color = COLOR[::-1],\n",
        "            thickness = 2\n",
        "        )\n",
        "        #print(colors[CLASSES.index(label)])\n",
        "    cv2_imshow(image)\n",
        "    print('\\n','\\n')"
      ]
    },
    {
      "cell_type": "code",
      "execution_count": 13,
      "metadata": {
        "id": "ju-8J7gyy_Gq"
      },
      "outputs": [],
      "source": [
        "def show_tranformed_image(train_loader, device, classes, colors):\n",
        "    \"\"\"\n",
        "    This function shows the transformed images from the `train_loader`.\n",
        "    Helps to check whether the tranformed images along with the corresponding\n",
        "    labels are correct or not.\n",
        "    \"\"\"\n",
        "    if len(train_loader) > 0:\n",
        "        for i in range(5):\n",
        "            images, targets = next(iter(train_loader))\n",
        "            images = list(image.to(device) for image in images)\n",
        "            targets = [{k: v.to(device) for k, v in t.items()} for t in targets]\n",
        "            boxes = targets[i]['boxes'].cpu().numpy().astype(np.int32)\n",
        "            labels = targets[i]['labels'].cpu().numpy().astype(np.int32)\n",
        "            # Get all the predicited class names.\n",
        "            pred_classes = [classes[i] for i in targets[i]['labels'].cpu().numpy()]\n",
        "            sample = images[i].permute(1, 2, 0).cpu().numpy()\n",
        "            sample = cv2.cvtColor(sample, cv2.COLOR_RGB2BGR)\n",
        "\n",
        "            lw = max(round(sum(sample.shape) / 2 * 0.003), 2)  # Line width.\n",
        "            tf = max(lw - 1, 1) # Font thickness.\n",
        "\n",
        "            for box_num, box in enumerate(boxes):\n",
        "                p1, p2 = (int(box[0]), int(box[1])), (int(box[2]), int(box[3]))\n",
        "                class_name = pred_classes[box_num]\n",
        "                color = colors[classes.index(class_name)]\n",
        "                cv2.rectangle(\n",
        "                    sample,\n",
        "                    p1,\n",
        "                    p2,\n",
        "                    color,\n",
        "                    2,\n",
        "                    cv2.LINE_AA\n",
        "                )\n",
        "                w, h = cv2.getTextSize(\n",
        "                    class_name,\n",
        "                    0,\n",
        "                    fontScale=lw / 3,\n",
        "                    thickness=tf\n",
        "                )[0]  # text width, height\n",
        "                outside = p1[1] - h >= 3\n",
        "                p2 = p1[0] + w, p1[1] - h - 3 if outside else p1[1] + h + 3\n",
        "                cv2.putText(\n",
        "                    sample,\n",
        "                    class_name,\n",
        "                    (p1[0], p1[1] - 5 if outside else p1[1] + h + 2),\n",
        "                    cv2.FONT_HERSHEY_SIMPLEX,\n",
        "                    0.8,\n",
        "                    color,\n",
        "                    2,\n",
        "                    cv2.LINE_AA\n",
        "                )\n",
        "            cv2_imshow(sample)\n"
      ]
    },
    {
      "cell_type": "code",
      "execution_count": null,
      "metadata": {
        "collapsed": true,
        "id": "6SLqfskFVkLx"
      },
      "outputs": [],
      "source": [
        "random_numb = random.sample(range(0,len(dataset)), 5)\n",
        "print(random_numb)\n",
        "\n",
        "for _,j in enumerate(random_numb):\n",
        "  image, target = dataset[j]\n",
        "  visualize_sample(image, target)"
      ]
    },
    {
      "cell_type": "code",
      "execution_count": 14,
      "metadata": {
        "id": "DEYsryXRYxH3"
      },
      "outputs": [],
      "source": [
        "train_dataset = create_train_dataset(TRAIN_DIR)\n",
        "train_loader = create_train_loader(train_dataset, NUM_WORKERS)\n",
        "\n",
        "valid_dataset = create_valid_dataset(VALID_DIR)\n",
        "valid_loader = create_valid_loader(valid_dataset, NUM_WORKERS)\n"
      ]
    },
    {
      "cell_type": "code",
      "execution_count": null,
      "metadata": {
        "collapsed": true,
        "id": "ncOIQhDhY0Ml"
      },
      "outputs": [],
      "source": [
        "show_tranformed_image(train_loader, DEVICE, CLASSES, colors)\n"
      ]
    },
    {
      "cell_type": "markdown",
      "metadata": {
        "id": "8L_XO0lFdgBv"
      },
      "source": [
        "# Creating a model and defining optimizer\n"
      ]
    },
    {
      "cell_type": "code",
      "source": [
        "import sys\n",
        "\n",
        "sys.path.append('/content/Defect-Detection/NetDirectory/models/faster_rcnn')\n",
        "\n",
        "import fasterrcnn_resnet101\n",
        "from fasterrcnn_resnet101 import create_model\n",
        "\n",
        "#createting fasterrcnn_resnet101 model\n",
        "model = create_model(num_classes = NUM_CLASSES, pretrained = True, coco_model = True)\n",
        "model = model.to(DEVICE)\n",
        "print(model)\n",
        "# Total parameters and trainable parameters.\n",
        "total_params = sum(p.numel() for p in model.parameters())\n",
        "print(f\"{total_params:,} total parameters.\")\n",
        "total_trainable_params = sum(\n",
        "    p.numel() for p in model.parameters() if p.requires_grad)\n",
        "print(f\"{total_trainable_params:,} training parameters.\")\n",
        "params = [p for p in model.parameters() if p.requires_grad]\n",
        "optimizer = torch.optim.SGD(params, lr = LEARNING_RATE, momentum=0.9, nesterov=True)\n",
        "#optimizer = torch.optim.Adam(params, lr=0.00001, weight_decay=0.0005)\n",
        "scheduler = StepLR(\n",
        "    optimizer=optimizer, step_size = STEP, gamma=0.1, verbose=True\n",
        ")"
      ],
      "metadata": {
        "id": "qEQFrXXo1DC6"
      },
      "execution_count": null,
      "outputs": []
    },
    {
      "cell_type": "markdown",
      "metadata": {
        "id": "U7BglIYVLZpL"
      },
      "source": [
        "# Training and validation"
      ]
    },
    {
      "cell_type": "code",
      "execution_count": 18,
      "metadata": {
        "id": "j1MDXdOSd66q"
      },
      "outputs": [],
      "source": [
        "\n",
        "plt.style.use('ggplot')\n",
        "\n",
        "# Function for running training iterations.\n",
        "def train(train_data_loader, model):\n",
        "    print('Training')\n",
        "    model.train()\n",
        "\n",
        "     # initialize tqdm progress bar\n",
        "    prog_bar = tqdm(train_data_loader, total=len(train_data_loader))\n",
        "    cumm_loss = 0\n",
        "\n",
        "    for i, data in enumerate(prog_bar):\n",
        "        optimizer.zero_grad()\n",
        "        images, targets = data\n",
        "\n",
        "        images = list(image.to(DEVICE) for image in images)\n",
        "        targets = [{k: v.to(DEVICE) for k, v in t.items()} for t in targets]\n",
        "        loss_dict = model(images, targets)\n",
        "\n",
        "        losses = sum(loss for loss in loss_dict.values())\n",
        "        loss_value = losses.item()\n",
        "        cumm_loss += loss_value\n",
        "        #train_loss_hist.send(loss_value)\n",
        "\n",
        "        losses.backward()\n",
        "        optimizer.step()\n",
        "\n",
        "        # update the loss value beside the progress bar for each iteration\n",
        "        prog_bar.set_description(desc=f\"Loss: {loss_value:.4f}\")\n",
        "    return cumm_loss / len(train_data_loader)\n",
        "\n",
        "# Function for running validation iterations.\n",
        "def validate(valid_data_loader, model):\n",
        "    print('Validating')\n",
        "    model.eval()\n",
        "\n",
        "    # Initialize tqdm progress bar.\n",
        "    prog_bar = tqdm(valid_data_loader, total=len(valid_data_loader))\n",
        "    target = []\n",
        "    preds = []\n",
        "    for i, data in enumerate(prog_bar):\n",
        "        images, targets = data\n",
        "\n",
        "        images = list(image.to(DEVICE) for image in images)\n",
        "        targets = [{k: v.to(DEVICE) for k, v in t.items()} for t in targets]\n",
        "\n",
        "        with torch.no_grad():\n",
        "            outputs = model(images, targets)\n",
        "\n",
        "        #losses = sum(loss for loss in outputs.values())\n",
        "        #val_loss_value = losses.item()\n",
        "\n",
        "        #val_loss_hist.send(val_loss_value)\n",
        "\n",
        "\n",
        "        # For mAP calculation using Torchmetrics.\n",
        "        #####################################\n",
        "        for i, image in enumerate(images):\n",
        "            true_dict = dict()\n",
        "            preds_dict = dict()\n",
        "            true_dict['boxes'] = targets[i]['boxes'].detach().cpu()\n",
        "            true_dict['labels'] = targets[i]['labels'].detach().cpu()\n",
        "            preds_dict['boxes'] = outputs[i]['boxes'].detach().cpu()\n",
        "            preds_dict['scores'] = outputs[i]['scores'].detach().cpu()\n",
        "            preds_dict['labels'] = outputs[i]['labels'].detach().cpu()\n",
        "            preds.append(preds_dict)\n",
        "            target.append(true_dict)\n",
        "\n",
        "            # log first six images from each batch\n",
        "            # if i < 6:\n",
        "            #   log_bounding_boxes(image, preds_dict['boxes'], preds_dict['labels'],\n",
        "            #                      preds_dict['scores'] )\n",
        "        #####################################\n",
        "\n",
        "\n",
        "\n",
        "    metric.reset()\n",
        "    metric.update(preds, target)\n",
        "    metric_summary = metric.compute()\n",
        "    return metric_summary\n"
      ]
    },
    {
      "cell_type": "code",
      "execution_count": 21,
      "metadata": {
        "id": "EhXH4Fvz8j5A",
        "colab": {
          "base_uri": "https://localhost:8080/"
        },
        "outputId": "708e3378-607d-4398-8be5-7b7c7e109d4d"
      },
      "outputs": [
        {
          "output_type": "stream",
          "name": "stdout",
          "text": [
            "Number of training samples: 250\n",
            "Number of validation samples: 68\n",
            "\n"
          ]
        }
      ],
      "source": [
        "os.makedirs('outputs', exist_ok=True)\n",
        "\n",
        "\n",
        "print(f\"Number of training samples: {len(train_dataset)}\")\n",
        "print(f\"Number of validation samples: {len(valid_dataset)}\\n\")\n"
      ]
    },
    {
      "cell_type": "code",
      "execution_count": null,
      "metadata": {
        "id": "oEmhf6VDe9oo"
      },
      "outputs": [],
      "source": [
        "# To monitor training loss\n",
        "#train_loss_hist = Averager()\n",
        "\n",
        "\n",
        "# To store training loss and mAP values.\n",
        "train_loss_list = []\n",
        "#val_loss_list = []\n",
        "map_50_list = []\n",
        "map_list = []\n",
        "\n",
        "# Mame to save the trained model with.\n",
        "SAVE_PATH = '/content/Defect-Detection/NetDirectory/outputs/best_model.pth'\n",
        "\n",
        "\n",
        "# To save best model.\n",
        "save_best_model = SaveBestModel()\n",
        "\n",
        "metric = MeanAveragePrecision(class_metrics=True)\n",
        "\n",
        "# Training loop.\n",
        "for epoch in range(NUM_EPOCHS):\n",
        "    print(f\"\\nEPOCH {epoch+1} of {NUM_EPOCHS}\")\n",
        "\n",
        "    # Reset the training loss histories for the current epoch.\n",
        "    #train_loss_hist.reset()\n",
        "\n",
        "    # Start timer and carry out training and validation.\n",
        "    start = time.time()\n",
        "    train_loss = train(train_loader, model)\n",
        "    metric_summary = validate(valid_loader, model)\n",
        "\n",
        "    print(f\"Epoch #{epoch+1} train loss: {train_loss:.3f}\")\n",
        "\n",
        "    print(f\"Epoch #{epoch+1} mAP: {metric_summary['map']}\")\n",
        "    end = time.time()\n",
        "    print(f\"Took {((end - start) / 60):.3f} minutes for epoch {epoch}\")\n",
        "\n",
        "    train_loss_list.append(train_loss)\n",
        "    map_50_list.append(metric_summary['map_50'])\n",
        "    map_list.append(metric_summary['map'])\n",
        "\n",
        "    wandb.log({'epoch': epoch,\n",
        "               'train_loss': round(train_loss, 2),\n",
        "               'map_50': metric_summary['map_50'],\n",
        "               'map': metric_summary['map']}\n",
        "      )\n",
        "\n",
        "\n",
        "    # save the best model till now.\n",
        "    save_best_model(\n",
        "        model, float(metric_summary['map']), epoch, 'outputs'\n",
        "    )\n",
        "    # Save the current epoch model.\n",
        "    save_model(epoch, model, optimizer)\n",
        "\n",
        "    # Save loss plot.\n",
        "    save_loss_plot(OUT_DIR, train_loss_list)\n",
        "\n",
        "    # Save mAP plot.\n",
        "    save_mAP(OUT_DIR, map_50_list, map_list)\n",
        "    scheduler.step()\n",
        "\n",
        "model_artifact = wandb.Artifact('FasterRCNN', type = 'model',\n",
        "                            description = 'FasterRCNN model with resnet_fpn backbone; blur augmentations'\n",
        "                            )\n",
        "model_artifact.add_file(SAVE_PATH)\n",
        "\n",
        "wandb.log_artifact(model_artifact)"
      ]
    },
    {
      "cell_type": "code",
      "execution_count": 23,
      "metadata": {
        "id": "sxZ-zgyCasIP",
        "colab": {
          "base_uri": "https://localhost:8080/",
          "height": 1000
        },
        "outputId": "8a309749-b3eb-4db7-d6a8-38b069dd1394"
      },
      "outputs": [
        {
          "output_type": "display_data",
          "data": {
            "text/plain": [
              "<PIL.Image.Image image mode=RGB size=1000x700>"
            ],
            "image/png": "[encoded data removed]"
          },
          "metadata": {}
        },
        {
          "output_type": "display_data",
          "data": {
            "text/plain": [
              "<PIL.Image.Image image mode=RGB size=1000x700>"
            ],
            "image/png": "[encoded data removed]"
          },
          "metadata": {}
        }
      ],
      "source": [
        "map_img = cv2.imread('/content/Defect-Detection/NetDirectory/outputs/map.png')\n",
        "loss_img = cv2.imread('/content/Defect-Detection/NetDirectory/outputs/train_loss.png')\n",
        "cv2_imshow(map_img)\n",
        "cv2_imshow(loss_img)"
      ]
    },
    {
      "cell_type": "markdown",
      "metadata": {
        "id": "QubuO4bqVM_t"
      },
      "source": [
        "# Evaluating the model\n"
      ]
    },
    {
      "cell_type": "code",
      "execution_count": 24,
      "metadata": {
        "id": "4qVsIvkdUvZi",
        "colab": {
          "base_uri": "https://localhost:8080/",
          "height": 100,
          "referenced_widgets": [
            "d2a1807f1d3748a3aec81405c9f8e980",
            "56d19596b7b742cb9e5977b02bfe9955",
            "124a92480e274a27a00553bd03aa34ea",
            "bad7cf432f944f5c8913f0bc75119233",
            "a5d54541a3a34b07a05ebe57d8958259",
            "7d293513797a4538b6a3302dba5aa924",
            "7772ee655c444498aef088464a8903ac",
            "16354c5638524ea98b2d85ec62859196",
            "2ac1af24636c4115b0638d0987c538e2",
            "471c62defd2c45108131adbaf56e7bfb",
            "4c858f08628941c0ad48612239b466af"
          ]
        },
        "outputId": "e70815b4-4d16-499c-ea8b-85daa9195cce"
      },
      "outputs": [
        {
          "output_type": "stream",
          "name": "stdout",
          "text": [
            "Validating\n"
          ]
        },
        {
          "output_type": "display_data",
          "data": {
            "text/plain": [
              "  0%|          | 0/22 [00:00<?, ?it/s]"
            ],
            "application/vnd.jupyter.widget-view+json": {
              "version_major": 2,
              "version_minor": 0,
              "model_id": "d2a1807f1d3748a3aec81405c9f8e980"
            }
          },
          "metadata": {}
        },
        {
          "output_type": "stream",
          "name": "stdout",
          "text": [
            "mAP_50: 68.722\n",
            "mAP_50_95: 68.722\n"
          ]
        }
      ],
      "source": [
        "#checkpoint = torch.load('outputs/best_model.pth', map_location=DEVICE)\n",
        "\n",
        "checkpoint = torch.load('/content/Defect-Detection/NetDirectory/outputs/best_model.pth', map_location=DEVICE)\n",
        "model.load_state_dict(checkpoint['model_state_dict'])\n",
        "model.to(DEVICE).eval()\n",
        "\n",
        "metric = MeanAveragePrecision(class_metrics=True, iou_thresholds=[0.5])\n",
        "metric_summary = validate(valid_loader, model)\n",
        "\n",
        "print(f\"mAP_50: {metric_summary['map_50']*100:.3f}\")\n",
        "print(f\"mAP_50_95: {metric_summary['map']*100:.3f}\")\n"
      ]
    },
    {
      "cell_type": "code",
      "execution_count": 34,
      "metadata": {
        "id": "LuIFq20Ny-6f",
        "colab": {
          "base_uri": "https://localhost:8080/",
          "height": 494,
          "referenced_widgets": [
            "c07c8748e8144d87bb3f8b023646dd10",
            "beea673fbdc74cffbea2419c9df502fb",
            "d1577e44ca49489cace38584767215ca",
            "35e3f5982f0d4d24b45b559dc955110a",
            "f966578cf4754e0fa53a8ff6f8de6211",
            "04d18e99cc7f42819986e386fcac2aca",
            "c750340a9f4e4fd0adcaa4e1488a2463",
            "daea77a8eac54aba900f57313e10240b",
            "8a4ea804173540569249082550176e9a",
            "b3a2b7eb1d484d74bb8be915bcae7675",
            "e0f502a3f7974282879d268360a4cb4f"
          ]
        },
        "outputId": "6df4412b-6d82-4391-cc8b-28844dda107f"
      },
      "outputs": [
        {
          "output_type": "stream",
          "name": "stdout",
          "text": [
            "Validating\n"
          ]
        },
        {
          "output_type": "display_data",
          "data": {
            "text/plain": [
              "  0%|          | 0/22 [00:00<?, ?it/s]"
            ],
            "application/vnd.jupyter.widget-view+json": {
              "version_major": 2,
              "version_minor": 0,
              "model_id": "c07c8748e8144d87bb3f8b023646dd10"
            }
          },
          "metadata": {}
        },
        {
          "output_type": "stream",
          "name": "stdout",
          "text": [
            "\n",
            "\n",
            "{'map': tensor(0.6872), 'map_50': tensor(0.6872), 'map_75': tensor(-1.), 'map_small': tensor(-1.), 'map_medium': tensor(0.4393), 'map_large': tensor(0.6511), 'mar_1': tensor(0.1671), 'mar_10': tensor(0.7796), 'mar_100': tensor(0.8974), 'mar_small': tensor(-1.), 'mar_medium': tensor(0.7026), 'mar_large': tensor(0.7752), 'map_per_class': tensor([0.9811, 0.3157, 0.5400, 0.9122]), 'mar_100_per_class': tensor([1.0000, 0.7222, 0.9355, 0.9320]), 'classes': tensor([1, 2, 3, 4], dtype=torch.int32)}\n",
            "\n",
            "\n",
            "Classes: ['__background__', 'bridge', 'collapse', 'gap', 'sraf']\n",
            "\n",
            "\n",
            "AP / AR per class\n",
            "-------------------------------------------------------------------------\n",
            "|    | Class                | AP                  | AR                  |\n",
            "-------------------------------------------------------------------------\n",
            "|1   | bridge               | 0.981               | 1.000               |\n",
            "|2   | collapse             | 0.316               | 0.722               |\n",
            "|3   | gap                  | 0.540               | 0.935               |\n",
            "|4   | sraf                 | 0.912               | 0.932               |\n",
            "-------------------------------------------------------------------------\n",
            "|Avg                        | 0.687               | 0.897               |\n",
            "      Class     AP     AR\n",
            "0    Bridge  0.981  1.000\n",
            "1  COLLAPSE  0.316  0.722\n",
            "2       GAP  0.540  0.935\n",
            "3      SRAF  0.912  0.932\n",
            "4       AVG  0.687  0.897\n"
          ]
        }
      ],
      "source": [
        "import pandas as pd\n",
        "\n",
        "def per_class_stat(valid_loader, model):\n",
        "\n",
        "  stats = validate(valid_loader, model)\n",
        "  print('\\n')\n",
        "  print(stats)\n",
        "\n",
        "  print('\\n')\n",
        "  print(f\"Classes: {CLASSES}\")\n",
        "  print('\\n')\n",
        "  print('AP / AR per class')\n",
        "  empty_string = ''\n",
        "  if len(CLASSES) > 2:\n",
        "      num_hyphens = 73\n",
        "      print('-'*num_hyphens)\n",
        "      print(f\"|    | Class{empty_string:<16}| AP{empty_string:<18}| AR{empty_string:<18}|\")\n",
        "      print('-'*num_hyphens)\n",
        "      class_counter = 0\n",
        "      for i in range(0, len(CLASSES)-1, 1):\n",
        "          class_counter += 1\n",
        "          print(f\"|{class_counter:<3} | {CLASSES[i+1]:<20} | {np.array(stats['map_per_class'][i]):.3f}{empty_string:<15}| {np.array(stats['mar_100_per_class'][i]):.3f}{empty_string:<15}|\")\n",
        "      print('-'*num_hyphens)\n",
        "      print(f\"|Avg{empty_string:<23} | {np.array(stats['map']):.3f}{empty_string:<15}| {np.array(stats['mar_100']):.3f}{empty_string:<15}|\")\n",
        "  else:\n",
        "      num_hyphens = 62\n",
        "      print('-'*num_hyphens)\n",
        "      print(f\"|Class{empty_string:<10} | AP{empty_string:<18}| AR{empty_string:<18}|\")\n",
        "      print('-'*num_hyphens)\n",
        "      print(f\"|{CLASSES[1]:<15} | {np.array(stats['map']):.3f}{empty_string:<15}| {np.array(stats['mar_100']):.3f}{empty_string:<15}|\")\n",
        "      print('-'*num_hyphens)\n",
        "      print(f\"|Avg{empty_string:<12} | {np.array(stats['map']):.3f}{empty_string:<15}| {np.array(stats['mar_100']):.3f}{empty_string:<15}|\")\n",
        "\n",
        "  return stats\n",
        "\n",
        "stats = per_class_stat(valid_loader, model)\n",
        "\n",
        "results_table = pd.DataFrame({\n",
        "    'Class': ['Bridge', 'COLLAPSE','GAP','SRAF'],\n",
        "    'AP':[np.round(np.array(stats['map_per_class'][i]),3) for i in range(len(CLASSES)-1)],\n",
        "    'AR':[np.round(np.array(stats['mar_100_per_class'][i]),3) for i in range(len(CLASSES)-1)]\n",
        "})\n",
        "\n",
        "results_table.loc[len(results_table.index)] = ['AVG', np.round(np.array(stats['map']),3 ), np.round(np.array(stats['mar_100']),3 )  ]\n",
        "\n",
        "print(results_table)\n",
        "results_table.to_csv('outputs/results.csv')"
      ]
    },
    {
      "cell_type": "code",
      "source": [
        "\n",
        "# Read our CSV into a new DataFrame\n",
        "\n",
        "# Convert the DataFrame into a W&B Table\n",
        "result_table = wandb.Table(dataframe=results_table)\n",
        "\n",
        "# Add the table to an Artifact to increase the row\n",
        "# limit to 200000 and make it easier to reuse\n",
        "table_artifact = wandb.Artifact(\"results_artifact\", type=\"results\")\n",
        "table_artifact.add(result_table, \"results_table\")\n",
        "\n",
        "# log the raw csv file within an artifact to preserve our data\n",
        "table_artifact.add_file(\"outputs/results.csv\")\n",
        "\n",
        "# Start a W&B run to log data\n",
        "\n",
        "wandb.log({\"results\": results_table})\n",
        "\n",
        "# and Log as an Artifact to increase the available row limit!\n",
        "wandb.log_artifact(table_artifact)\n",
        "\n",
        "# Finish the run (useful in notebooks)\n",
        "wandb.finish()"
      ],
      "metadata": {
        "id": "WeSp-7FoBKhS"
      },
      "execution_count": null,
      "outputs": []
    },
    {
      "cell_type": "markdown",
      "metadata": {
        "id": "WP6tz1jmW2lk"
      },
      "source": [
        "# Model inference on test data\n"
      ]
    },
    {
      "cell_type": "code",
      "execution_count": null,
      "metadata": {
        "id": "ppp1ic5TWqgQ"
      },
      "outputs": [],
      "source": [
        "os.makedirs('inference_outputs/images', exist_ok=True)\n",
        "\n",
        "COLORS = np.random.uniform(0, 255, size=(len(CLASSES), 3))\n",
        "\n",
        "DIR_TEST = '/content/Defect-Detection/NetDirectory/custom_data/test'\n",
        "test_images = glob.glob(f\"{DIR_TEST}/*.jpg\")\n",
        "print(f\"Test instances: {len(test_images)}\")\n",
        "\n",
        "TRESHOLD_VALUE = 0.5\n",
        "\n",
        "\n",
        "\n",
        "frame_count = 0 # To count total frames.\n",
        "total_fps = 0 # To get the final frames per second.\n",
        "\n",
        "for i in range(len(test_images)):\n",
        "    # Get the image file name for saving output later on.\n",
        "    image_name = test_images[i].split(os.path.sep)[-1].split('.')[0]\n",
        "    image = cv2.imread(test_images[i])\n",
        "    orig_image = image.copy()\n",
        "\n",
        "    print(image.shape)\n",
        "    # BGR to RGB.\n",
        "    image = cv2.cvtColor(image, cv2.COLOR_BGR2RGB).astype(np.float32)\n",
        "    # Make the pixel range between 0 and 1.\n",
        "    #image /= 255.0\n",
        "    # Bring color channels to front (H, W, C) => (C, H, W).\n",
        "    image_input = np.transpose(image, (2, 0, 1)).astype(np.float32)\n",
        "    # Convert to tensor.\n",
        "    image_input = torch.tensor(image_input, dtype=torch.float).cuda()\n",
        "    # Add batch dimension.\n",
        "    image_input = torch.unsqueeze(image_input, 0)\n",
        "    start_time = time.time()\n",
        "    # Predictions\n",
        "    with torch.no_grad():\n",
        "        outputs = model(image_input.to(DEVICE))\n",
        "    end_time = time.time()\n",
        "\n",
        "    # Get the current fps.\n",
        "    fps = 1 / (end_time - start_time)\n",
        "    # Total FPS till current frame.\n",
        "    total_fps += fps\n",
        "    frame_count += 1\n",
        "\n",
        "    # Load all detection to CPU for further operations.\n",
        "    outputs = [{k: v.to('cpu') for k, v in t.items()} for t in outputs]\n",
        "    # Carry further only if there are detected boxes.\n",
        "    if len(outputs[0]['boxes']) != 0:\n",
        "        boxes = outputs[0]['boxes'].data.numpy()\n",
        "        scores = outputs[0]['scores'].data.numpy()\n",
        "        # Filter out boxes according to `detection_threshold`.\n",
        "        boxes = boxes[scores >= TRESHOLD_VALUE].astype(np.int32)\n",
        "        draw_boxes = boxes.copy()\n",
        "        # Get all the predicited class names.\n",
        "        pred_classes = [CLASSES[i] for i in outputs[0]['labels'].cpu().numpy()]\n",
        "\n",
        "        # Draw the bounding boxes and write the class name on top of it.\n",
        "        for j, box in enumerate(draw_boxes):\n",
        "            class_name = pred_classes[j]\n",
        "            color = COLORS[CLASSES.index(class_name)]\n",
        "            # Recale boxes.\n",
        "            xmin = int((box[0] / image.shape[1]) * orig_image.shape[1])\n",
        "            ymin = int((box[1] / image.shape[0]) * orig_image.shape[0])\n",
        "            xmax = int((box[2] / image.shape[1]) * orig_image.shape[1])\n",
        "            ymax = int((box[3] / image.shape[0]) * orig_image.shape[0])\n",
        "            cv2.rectangle(orig_image,\n",
        "                        (xmin, ymin),\n",
        "                        (xmax, ymax),\n",
        "                        color[::-1],\n",
        "                        3)\n",
        "            cv2.putText(orig_image,\n",
        "                        class_name,\n",
        "                        (xmin, ymin-5),\n",
        "                        cv2.FONT_HERSHEY_SIMPLEX,\n",
        "                        0.8,\n",
        "                        color[::-1],\n",
        "                        2,\n",
        "                        lineType=cv2.LINE_AA)\n",
        "\n",
        "        cv2_imshow(orig_image)\n",
        "        cv2.imwrite(f\"inference_outputs/images/{image_name}.jpg\", orig_image)\n",
        "    print(f\"Image {i+1} done...\")\n",
        "    print('-'*50)\n",
        "\n",
        "print('TEST PREDICTIONS COMPLETE')\n",
        "# Calculate and print the average FPS.\n",
        "avg_fps = total_fps / frame_count\n",
        "print(f\"Average FPS: {avg_fps:.3f}\")\n"
      ]
    },
    {
      "cell_type": "code",
      "source": [
        "!zip -r /content/FasterRCNN_inference_images.zip /content/Defect-Detection/NetDirectory/inference_outputs/images"
      ],
      "metadata": {
        "id": "lgmlQHlOznaH"
      },
      "execution_count": null,
      "outputs": []
    },
    {
      "cell_type": "code",
      "source": [
        "from google.colab import files\n",
        "files.download('/content/FasterRCNN_inference_images.zip')"
      ],
      "metadata": {
        "id": "JzjkEMYoz-3o",
        "colab": {
          "base_uri": "https://localhost:8080/",
          "height": 17
        },
        "outputId": "39eb1a9d-9929-4f71-ada7-e7e16ae0f32d"
      },
      "execution_count": 37,
      "outputs": [
        {
          "output_type": "display_data",
          "data": {
            "text/plain": [
              "<IPython.core.display.Javascript object>"
            ],
            "application/javascript": [
              "\n",
              "    async function download(id, filename, size) {\n",
              "      if (!google.colab.kernel.accessAllowed) {\n",
              "        return;\n",
              "      }\n",
              "      const div = document.createElement('div');\n",
              "      const label = document.createElement('label');\n",
              "      label.textContent = `Downloading \"${filename}\": `;\n",
              "      div.appendChild(label);\n",
              "      const progress = document.createElement('progress');\n",
              "      progress.max = size;\n",
              "      div.appendChild(progress);\n",
              "      document.body.appendChild(div);\n",
              "\n",
              "      const buffers = [];\n",
              "      let downloaded = 0;\n",
              "\n",
              "      const channel = await google.colab.kernel.comms.open(id);\n",
              "      // Send a message to notify the kernel that we're ready.\n",
              "      channel.send({})\n",
              "\n",
              "      for await (const message of channel.messages) {\n",
              "        // Send a message to notify the kernel that we're ready.\n",
              "        channel.send({})\n",
              "        if (message.buffers) {\n",
              "          for (const buffer of message.buffers) {\n",
              "            buffers.push(buffer);\n",
              "            downloaded += buffer.byteLength;\n",
              "            progress.value = downloaded;\n",
              "          }\n",
              "        }\n",
              "      }\n",
              "      const blob = new Blob(buffers, {type: 'application/binary'});\n",
              "      const a = document.createElement('a');\n",
              "      a.href = window.URL.createObjectURL(blob);\n",
              "      a.download = filename;\n",
              "      div.appendChild(a);\n",
              "      a.click();\n",
              "      div.remove();\n",
              "    }\n",
              "  "
            ]
          },
          "metadata": {}
        },
        {
          "output_type": "display_data",
          "data": {
            "text/plain": [
              "<IPython.core.display.Javascript object>"
            ],
            "application/javascript": [
              "download(\"download_8d1a6a1c-82b3-49ad-85ab-4321d665da16\", \"FasterRCNN_inference_images.zip\", 7605768)"
            ]
          },
          "metadata": {}
        }
      ]
    },
    {
      "cell_type": "markdown",
      "metadata": {
        "id": "E37LRL12Cn6i"
      },
      "source": [
        "# Tuning hyperparameters for second dataset"
      ]
    },
    {
      "cell_type": "code",
      "execution_count": null,
      "metadata": {
        "id": "2HCmu6fFDMKD"
      },
      "outputs": [],
      "source": [
        "import wandb\n",
        "\n",
        "sweep_config = {\n",
        "    'method': 'random',\n",
        "    'metric': {\n",
        "        'name': 'train_loss',\n",
        "        'goal': 'minimize'\n",
        "    },\n",
        "    'parameters': {\n",
        "        'batch_size' : {\n",
        "            'values' : [6,7, 8, 9, 10]\n",
        "\n",
        "        'optimizer' : {\n",
        "            'values' : ['SGD','Adam']\n",
        "        },\n",
        "        'learning_rate': {'distribution': 'uniform',\n",
        "                          'max': 0.01,\n",
        "                          'min': 0.00001},\n",
        "        'epochs' : {'value': 5}\n",
        "    },\n",
        "    'description' : 'tuning hyperparameters for first dataset'\n",
        "}\n"
      ]
    },
    {
      "cell_type": "code",
      "execution_count": null,
      "metadata": {
        "id": "Y8kqZiGpgXiS"
      },
      "outputs": [],
      "source": [
        "import pprint\n",
        "\n",
        "pprint.pprint(sweep_config)\n",
        "os.makedirs('outputs', exist_ok=True)"
      ]
    },
    {
      "cell_type": "code",
      "execution_count": null,
      "metadata": {
        "id": "4h39999JgePx"
      },
      "outputs": [],
      "source": [
        "sweep_id = wandb.sweep(sweep_config, project = 'FasterRCNN')"
      ]
    },
    {
      "cell_type": "code",
      "execution_count": null,
      "metadata": {
        "id": "04u5aaPerRf-"
      },
      "outputs": [],
      "source": [
        "from custom_utils import (\n",
        "    Averager,\n",
        "    SaveBestModel,\n",
        "    save_model,\n",
        "    save_loss_plot,\n",
        "    save_mAP\n",
        ")\n",
        "from tqdm.auto import tqdm\n",
        "\n",
        "from torchmetrics.detection.mean_ap import MeanAveragePrecision\n",
        "from torch.optim.lr_scheduler import StepLR\n",
        "\n",
        "import torch\n",
        "import matplotlib.pyplot as plt\n",
        "import time\n",
        "import os\n",
        "\n",
        "\n",
        "\n",
        "\n",
        "def train(train_data_loader, model, optimizer):\n",
        "    print('Training')\n",
        "    model.train()\n",
        "\n",
        "\n",
        "     # initialize tqdm progress bar\n",
        "    prog_bar = tqdm(train_data_loader, total=len(train_data_loader))\n",
        "    cumm_loss = 0\n",
        "\n",
        "    for i, data in enumerate(prog_bar):\n",
        "        optimizer.zero_grad()\n",
        "        images, targets = data\n",
        "\n",
        "        images = list(image.to(DEVICE) for image in images)\n",
        "        targets = [{k: v.to(DEVICE) for k, v in t.items()} for t in targets]\n",
        "        loss_dict = model(images, targets)\n",
        "\n",
        "        losses = sum(loss for loss in loss_dict.values())\n",
        "        loss_value = losses.item()\n",
        "        cumm_loss += loss_value\n",
        "\n",
        "        losses.backward()\n",
        "        optimizer.step()\n",
        "\n",
        "        # update the loss value beside the progress bar for each iteration\n",
        "        prog_bar.set_description(desc=f\"Loss: {loss_value:.4f}\")\n",
        "\n",
        "    return cumm_loss/len(train_data_loader)\n",
        "\n",
        "    #return loss_value"
      ]
    },
    {
      "cell_type": "code",
      "execution_count": null,
      "metadata": {
        "id": "z7kg2CEngqIC"
      },
      "outputs": [],
      "source": [
        "seed = 42\n",
        "torch.manual_seed(seed)\n",
        "torch.cuda.manual_seed(seed)\n",
        "torch.cuda.manual_seed_all(seed)\n",
        "train_loss_hist = Averager()\n",
        "\n",
        "def tune_param(config=None):\n",
        "  #global train_loss_hist\n",
        "  wandb.init(project = 'FasterRCNN', config = config)\n",
        "  config = wandb.config\n",
        "  train_dataset = create_train_dataset(TRAIN_DIR)\n",
        "  train_loader = create_train_loader(train_dataset, num_workers = 2, B_SIZE = config.batch_size)\n",
        "\n",
        "  model = create_model(num_classes = NUM_CLASSES)\n",
        "  model = model.to(DEVICE)\n",
        "  params = [p for p in model.parameters() if p.requires_grad]\n",
        "\n",
        "  # optimizer = torch.optim.SGD(params, lr=config.learning_rate)\n",
        "  # print(optimizer)\n",
        "\n",
        "  if config.optimizer == 'SGD':\n",
        "    optimizer = torch.optim.SGD(params, lr = config.learning_rate, momentum = 0.9)\n",
        "  elif config.optimizer == 'Adam':\n",
        "    optimizer = torch.optim.Adam(params, lr = config.learning_rate)\n",
        "  wandb.watch(model, log= 'all')\n",
        "\n",
        "\n",
        "  for epoch in range(config.epochs):\n",
        "      print(f\"\\nEPOCH {epoch+1} of {config.epochs}\")\n",
        "\n",
        "      # Reset the training loss histories for the current epoch.\n",
        "      #train_loss_hist.reset()\n",
        "\n",
        "      # Start timer and carry out training and validation.\n",
        "      start = time.time()\n",
        "      train_loss_epoch = train(train_loader, model, optimizer = optimizer)\n",
        "      print(f\"Epoch #{epoch+1} train loss: {train_loss_epoch:.3f}\")\n",
        "\n",
        "      end = time.time()\n",
        "      print(f\"Took {((end - start) / 60):.3f} minutes for epoch {epoch+1}\")\n",
        "\n",
        "\n",
        "      wandb.log({'epoch': epoch,\n",
        "                'train_loss': round(train_loss_epoch, 2)\n",
        "                })\n",
        "\n",
        "  wandb.finish()\n"
      ]
    },
    {
      "cell_type": "code",
      "execution_count": null,
      "metadata": {
        "id": "TTLiDyFwkwf5"
      },
      "outputs": [],
      "source": [
        "wandb.agent(sweep_id, function = tune_param, count = 5)"
      ]
    },
    {
      "cell_type": "code",
      "execution_count": null,
      "metadata": {
        "id": "3dKbXPXb0ElQ"
      },
      "outputs": [],
      "source": [
        "wandb.finish()"
      ]
    },
    {
      "cell_type": "code",
      "source": [
        "print('writing a simple message to test pushing from google colab')"
      ],
      "metadata": {
        "id": "tf6gOXh2qdCv"
      },
      "execution_count": null,
      "outputs": []
    }
  ],
  "metadata": {
    "colab": {
      "collapsed_sections": [
        "E37LRL12Cn6i"
      ],
      "provenance": [],
      "gpuType": "T4"
    },
    "kernelspec": {
      "display_name": "Python 3",
      "name": "python3"
    },
    "language_info": {
      "name": "python"
    },
    "accelerator": "GPU",
    "widgets": {
      "application/vnd.jupyter.widget-state+json": {
        "d2a1807f1d3748a3aec81405c9f8e980": {
          "model_module": "@jupyter-widgets/controls",
          "model_name": "HBoxModel",
          "model_module_version": "1.5.0",
          "state": {
            "_dom_classes": [],
            "_model_module": "@jupyter-widgets/controls",
            "_model_module_version": "1.5.0",
            "_model_name": "HBoxModel",
            "_view_count": null,
            "_view_module": "@jupyter-widgets/controls",
            "_view_module_version": "1.5.0",
            "_view_name": "HBoxView",
            "box_style": "",
            "children": [
              "IPY_MODEL_56d19596b7b742cb9e5977b02bfe9955",
              "IPY_MODEL_124a92480e274a27a00553bd03aa34ea",
              "IPY_MODEL_bad7cf432f944f5c8913f0bc75119233"
            ],
            "layout": "IPY_MODEL_a5d54541a3a34b07a05ebe57d8958259"
          }
        },
        "56d19596b7b742cb9e5977b02bfe9955": {
          "model_module": "@jupyter-widgets/controls",
          "model_name": "HTMLModel",
          "model_module_version": "1.5.0",
          "state": {
            "_dom_classes": [],
            "_model_module": "@jupyter-widgets/controls",
            "_model_module_version": "1.5.0",
            "_model_name": "HTMLModel",
            "_view_count": null,
            "_view_module": "@jupyter-widgets/controls",
            "_view_module_version": "1.5.0",
            "_view_name": "HTMLView",
            "description": "",
            "description_tooltip": null,
            "layout": "IPY_MODEL_7d293513797a4538b6a3302dba5aa924",
            "placeholder": "​",
            "style": "IPY_MODEL_7772ee655c444498aef088464a8903ac",
            "value": "100%"
          }
        },
        "124a92480e274a27a00553bd03aa34ea": {
          "model_module": "@jupyter-widgets/controls",
          "model_name": "FloatProgressModel",
          "model_module_version": "1.5.0",
          "state": {
            "_dom_classes": [],
            "_model_module": "@jupyter-widgets/controls",
            "_model_module_version": "1.5.0",
            "_model_name": "FloatProgressModel",
            "_view_count": null,
            "_view_module": "@jupyter-widgets/controls",
            "_view_module_version": "1.5.0",
            "_view_name": "ProgressView",
            "bar_style": "success",
            "description": "",
            "description_tooltip": null,
            "layout": "IPY_MODEL_16354c5638524ea98b2d85ec62859196",
            "max": 22,
            "min": 0,
            "orientation": "horizontal",
            "style": "IPY_MODEL_2ac1af24636c4115b0638d0987c538e2",
            "value": 22
          }
        },
        "bad7cf432f944f5c8913f0bc75119233": {
          "model_module": "@jupyter-widgets/controls",
          "model_name": "HTMLModel",
          "model_module_version": "1.5.0",
          "state": {
            "_dom_classes": [],
            "_model_module": "@jupyter-widgets/controls",
            "_model_module_version": "1.5.0",
            "_model_name": "HTMLModel",
            "_view_count": null,
            "_view_module": "@jupyter-widgets/controls",
            "_view_module_version": "1.5.0",
            "_view_name": "HTMLView",
            "description": "",
            "description_tooltip": null,
            "layout": "IPY_MODEL_471c62defd2c45108131adbaf56e7bfb",
            "placeholder": "​",
            "style": "IPY_MODEL_4c858f08628941c0ad48612239b466af",
            "value": " 22/22 [00:09&lt;00:00,  2.33it/s]"
          }
        },
        "a5d54541a3a34b07a05ebe57d8958259": {
          "model_module": "@jupyter-widgets/base",
          "model_name": "LayoutModel",
          "model_module_version": "1.2.0",
          "state": {
            "_model_module": "@jupyter-widgets/base",
            "_model_module_version": "1.2.0",
            "_model_name": "LayoutModel",
            "_view_count": null,
            "_view_module": "@jupyter-widgets/base",
            "_view_module_version": "1.2.0",
            "_view_name": "LayoutView",
            "align_content": null,
            "align_items": null,
            "align_self": null,
            "border": null,
            "bottom": null,
            "display": null,
            "flex": null,
            "flex_flow": null,
            "grid_area": null,
            "grid_auto_columns": null,
            "grid_auto_flow": null,
            "grid_auto_rows": null,
            "grid_column": null,
            "grid_gap": null,
            "grid_row": null,
            "grid_template_areas": null,
            "grid_template_columns": null,
            "grid_template_rows": null,
            "height": null,
            "justify_content": null,
            "justify_items": null,
            "left": null,
            "margin": null,
            "max_height": null,
            "max_width": null,
            "min_height": null,
            "min_width": null,
            "object_fit": null,
            "object_position": null,
            "order": null,
            "overflow": null,
            "overflow_x": null,
            "overflow_y": null,
            "padding": null,
            "right": null,
            "top": null,
            "visibility": null,
            "width": null
          }
        },
        "7d293513797a4538b6a3302dba5aa924": {
          "model_module": "@jupyter-widgets/base",
          "model_name": "LayoutModel",
          "model_module_version": "1.2.0",
          "state": {
            "_model_module": "@jupyter-widgets/base",
            "_model_module_version": "1.2.0",
            "_model_name": "LayoutModel",
            "_view_count": null,
            "_view_module": "@jupyter-widgets/base",
            "_view_module_version": "1.2.0",
            "_view_name": "LayoutView",
            "align_content": null,
            "align_items": null,
            "align_self": null,
            "border": null,
            "bottom": null,
            "display": null,
            "flex": null,
            "flex_flow": null,
            "grid_area": null,
            "grid_auto_columns": null,
            "grid_auto_flow": null,
            "grid_auto_rows": null,
            "grid_column": null,
            "grid_gap": null,
            "grid_row": null,
            "grid_template_areas": null,
            "grid_template_columns": null,
            "grid_template_rows": null,
            "height": null,
            "justify_content": null,
            "justify_items": null,
            "left": null,
            "margin": null,
            "max_height": null,
            "max_width": null,
            "min_height": null,
            "min_width": null,
            "object_fit": null,
            "object_position": null,
            "order": null,
            "overflow": null,
            "overflow_x": null,
            "overflow_y": null,
            "padding": null,
            "right": null,
            "top": null,
            "visibility": null,
            "width": null
          }
        },
        "7772ee655c444498aef088464a8903ac": {
          "model_module": "@jupyter-widgets/controls",
          "model_name": "DescriptionStyleModel",
          "model_module_version": "1.5.0",
          "state": {
            "_model_module": "@jupyter-widgets/controls",
            "_model_module_version": "1.5.0",
            "_model_name": "DescriptionStyleModel",
            "_view_count": null,
            "_view_module": "@jupyter-widgets/base",
            "_view_module_version": "1.2.0",
            "_view_name": "StyleView",
            "description_width": ""
          }
        },
        "16354c5638524ea98b2d85ec62859196": {
          "model_module": "@jupyter-widgets/base",
          "model_name": "LayoutModel",
          "model_module_version": "1.2.0",
          "state": {
            "_model_module": "@jupyter-widgets/base",
            "_model_module_version": "1.2.0",
            "_model_name": "LayoutModel",
            "_view_count": null,
            "_view_module": "@jupyter-widgets/base",
            "_view_module_version": "1.2.0",
            "_view_name": "LayoutView",
            "align_content": null,
            "align_items": null,
            "align_self": null,
            "border": null,
            "bottom": null,
            "display": null,
            "flex": null,
            "flex_flow": null,
            "grid_area": null,
            "grid_auto_columns": null,
            "grid_auto_flow": null,
            "grid_auto_rows": null,
            "grid_column": null,
            "grid_gap": null,
            "grid_row": null,
            "grid_template_areas": null,
            "grid_template_columns": null,
            "grid_template_rows": null,
            "height": null,
            "justify_content": null,
            "justify_items": null,
            "left": null,
            "margin": null,
            "max_height": null,
            "max_width": null,
            "min_height": null,
            "min_width": null,
            "object_fit": null,
            "object_position": null,
            "order": null,
            "overflow": null,
            "overflow_x": null,
            "overflow_y": null,
            "padding": null,
            "right": null,
            "top": null,
            "visibility": null,
            "width": null
          }
        },
        "2ac1af24636c4115b0638d0987c538e2": {
          "model_module": "@jupyter-widgets/controls",
          "model_name": "ProgressStyleModel",
          "model_module_version": "1.5.0",
          "state": {
            "_model_module": "@jupyter-widgets/controls",
            "_model_module_version": "1.5.0",
            "_model_name": "ProgressStyleModel",
            "_view_count": null,
            "_view_module": "@jupyter-widgets/base",
            "_view_module_version": "1.2.0",
            "_view_name": "StyleView",
            "bar_color": null,
            "description_width": ""
          }
        },
        "471c62defd2c45108131adbaf56e7bfb": {
          "model_module": "@jupyter-widgets/base",
          "model_name": "LayoutModel",
          "model_module_version": "1.2.0",
          "state": {
            "_model_module": "@jupyter-widgets/base",
            "_model_module_version": "1.2.0",
            "_model_name": "LayoutModel",
            "_view_count": null,
            "_view_module": "@jupyter-widgets/base",
            "_view_module_version": "1.2.0",
            "_view_name": "LayoutView",
            "align_content": null,
            "align_items": null,
            "align_self": null,
            "border": null,
            "bottom": null,
            "display": null,
            "flex": null,
            "flex_flow": null,
            "grid_area": null,
            "grid_auto_columns": null,
            "grid_auto_flow": null,
            "grid_auto_rows": null,
            "grid_column": null,
            "grid_gap": null,
            "grid_row": null,
            "grid_template_areas": null,
            "grid_template_columns": null,
            "grid_template_rows": null,
            "height": null,
            "justify_content": null,
            "justify_items": null,
            "left": null,
            "margin": null,
            "max_height": null,
            "max_width": null,
            "min_height": null,
            "min_width": null,
            "object_fit": null,
            "object_position": null,
            "order": null,
            "overflow": null,
            "overflow_x": null,
            "overflow_y": null,
            "padding": null,
            "right": null,
            "top": null,
            "visibility": null,
            "width": null
          }
        },
        "4c858f08628941c0ad48612239b466af": {
          "model_module": "@jupyter-widgets/controls",
          "model_name": "DescriptionStyleModel",
          "model_module_version": "1.5.0",
          "state": {
            "_model_module": "@jupyter-widgets/controls",
            "_model_module_version": "1.5.0",
            "_model_name": "DescriptionStyleModel",
            "_view_count": null,
            "_view_module": "@jupyter-widgets/base",
            "_view_module_version": "1.2.0",
            "_view_name": "StyleView",
            "description_width": ""
          }
        },
        "c07c8748e8144d87bb3f8b023646dd10": {
          "model_module": "@jupyter-widgets/controls",
          "model_name": "HBoxModel",
          "model_module_version": "1.5.0",
          "state": {
            "_dom_classes": [],
            "_model_module": "@jupyter-widgets/controls",
            "_model_module_version": "1.5.0",
            "_model_name": "HBoxModel",
            "_view_count": null,
            "_view_module": "@jupyter-widgets/controls",
            "_view_module_version": "1.5.0",
            "_view_name": "HBoxView",
            "box_style": "",
            "children": [
              "IPY_MODEL_beea673fbdc74cffbea2419c9df502fb",
              "IPY_MODEL_d1577e44ca49489cace38584767215ca",
              "IPY_MODEL_35e3f5982f0d4d24b45b559dc955110a"
            ],
            "layout": "IPY_MODEL_f966578cf4754e0fa53a8ff6f8de6211"
          }
        },
        "beea673fbdc74cffbea2419c9df502fb": {
          "model_module": "@jupyter-widgets/controls",
          "model_name": "HTMLModel",
          "model_module_version": "1.5.0",
          "state": {
            "_dom_classes": [],
            "_model_module": "@jupyter-widgets/controls",
            "_model_module_version": "1.5.0",
            "_model_name": "HTMLModel",
            "_view_count": null,
            "_view_module": "@jupyter-widgets/controls",
            "_view_module_version": "1.5.0",
            "_view_name": "HTMLView",
            "description": "",
            "description_tooltip": null,
            "layout": "IPY_MODEL_04d18e99cc7f42819986e386fcac2aca",
            "placeholder": "​",
            "style": "IPY_MODEL_c750340a9f4e4fd0adcaa4e1488a2463",
            "value": "100%"
          }
        },
        "d1577e44ca49489cace38584767215ca": {
          "model_module": "@jupyter-widgets/controls",
          "model_name": "FloatProgressModel",
          "model_module_version": "1.5.0",
          "state": {
            "_dom_classes": [],
            "_model_module": "@jupyter-widgets/controls",
            "_model_module_version": "1.5.0",
            "_model_name": "FloatProgressModel",
            "_view_count": null,
            "_view_module": "@jupyter-widgets/controls",
            "_view_module_version": "1.5.0",
            "_view_name": "ProgressView",
            "bar_style": "success",
            "description": "",
            "description_tooltip": null,
            "layout": "IPY_MODEL_daea77a8eac54aba900f57313e10240b",
            "max": 22,
            "min": 0,
            "orientation": "horizontal",
            "style": "IPY_MODEL_8a4ea804173540569249082550176e9a",
            "value": 22
          }
        },
        "35e3f5982f0d4d24b45b559dc955110a": {
          "model_module": "@jupyter-widgets/controls",
          "model_name": "HTMLModel",
          "model_module_version": "1.5.0",
          "state": {
            "_dom_classes": [],
            "_model_module": "@jupyter-widgets/controls",
            "_model_module_version": "1.5.0",
            "_model_name": "HTMLModel",
            "_view_count": null,
            "_view_module": "@jupyter-widgets/controls",
            "_view_module_version": "1.5.0",
            "_view_name": "HTMLView",
            "description": "",
            "description_tooltip": null,
            "layout": "IPY_MODEL_b3a2b7eb1d484d74bb8be915bcae7675",
            "placeholder": "​",
            "style": "IPY_MODEL_e0f502a3f7974282879d268360a4cb4f",
            "value": " 22/22 [00:09&lt;00:00,  2.44it/s]"
          }
        },
        "f966578cf4754e0fa53a8ff6f8de6211": {
          "model_module": "@jupyter-widgets/base",
          "model_name": "LayoutModel",
          "model_module_version": "1.2.0",
          "state": {
            "_model_module": "@jupyter-widgets/base",
            "_model_module_version": "1.2.0",
            "_model_name": "LayoutModel",
            "_view_count": null,
            "_view_module": "@jupyter-widgets/base",
            "_view_module_version": "1.2.0",
            "_view_name": "LayoutView",
            "align_content": null,
            "align_items": null,
            "align_self": null,
            "border": null,
            "bottom": null,
            "display": null,
            "flex": null,
            "flex_flow": null,
            "grid_area": null,
            "grid_auto_columns": null,
            "grid_auto_flow": null,
            "grid_auto_rows": null,
            "grid_column": null,
            "grid_gap": null,
            "grid_row": null,
            "grid_template_areas": null,
            "grid_template_columns": null,
            "grid_template_rows": null,
            "height": null,
            "justify_content": null,
            "justify_items": null,
            "left": null,
            "margin": null,
            "max_height": null,
            "max_width": null,
            "min_height": null,
            "min_width": null,
            "object_fit": null,
            "object_position": null,
            "order": null,
            "overflow": null,
            "overflow_x": null,
            "overflow_y": null,
            "padding": null,
            "right": null,
            "top": null,
            "visibility": null,
            "width": null
          }
        },
        "04d18e99cc7f42819986e386fcac2aca": {
          "model_module": "@jupyter-widgets/base",
          "model_name": "LayoutModel",
          "model_module_version": "1.2.0",
          "state": {
            "_model_module": "@jupyter-widgets/base",
            "_model_module_version": "1.2.0",
            "_model_name": "LayoutModel",
            "_view_count": null,
            "_view_module": "@jupyter-widgets/base",
            "_view_module_version": "1.2.0",
            "_view_name": "LayoutView",
            "align_content": null,
            "align_items": null,
            "align_self": null,
            "border": null,
            "bottom": null,
            "display": null,
            "flex": null,
            "flex_flow": null,
            "grid_area": null,
            "grid_auto_columns": null,
            "grid_auto_flow": null,
            "grid_auto_rows": null,
            "grid_column": null,
            "grid_gap": null,
            "grid_row": null,
            "grid_template_areas": null,
            "grid_template_columns": null,
            "grid_template_rows": null,
            "height": null,
            "justify_content": null,
            "justify_items": null,
            "left": null,
            "margin": null,
            "max_height": null,
            "max_width": null,
            "min_height": null,
            "min_width": null,
            "object_fit": null,
            "object_position": null,
            "order": null,
            "overflow": null,
            "overflow_x": null,
            "overflow_y": null,
            "padding": null,
            "right": null,
            "top": null,
            "visibility": null,
            "width": null
          }
        },
        "c750340a9f4e4fd0adcaa4e1488a2463": {
          "model_module": "@jupyter-widgets/controls",
          "model_name": "DescriptionStyleModel",
          "model_module_version": "1.5.0",
          "state": {
            "_model_module": "@jupyter-widgets/controls",
            "_model_module_version": "1.5.0",
            "_model_name": "DescriptionStyleModel",
            "_view_count": null,
            "_view_module": "@jupyter-widgets/base",
            "_view_module_version": "1.2.0",
            "_view_name": "StyleView",
            "description_width": ""
          }
        },
        "daea77a8eac54aba900f57313e10240b": {
          "model_module": "@jupyter-widgets/base",
          "model_name": "LayoutModel",
          "model_module_version": "1.2.0",
          "state": {
            "_model_module": "@jupyter-widgets/base",
            "_model_module_version": "1.2.0",
            "_model_name": "LayoutModel",
            "_view_count": null,
            "_view_module": "@jupyter-widgets/base",
            "_view_module_version": "1.2.0",
            "_view_name": "LayoutView",
            "align_content": null,
            "align_items": null,
            "align_self": null,
            "border": null,
            "bottom": null,
            "display": null,
            "flex": null,
            "flex_flow": null,
            "grid_area": null,
            "grid_auto_columns": null,
            "grid_auto_flow": null,
            "grid_auto_rows": null,
            "grid_column": null,
            "grid_gap": null,
            "grid_row": null,
            "grid_template_areas": null,
            "grid_template_columns": null,
            "grid_template_rows": null,
            "height": null,
            "justify_content": null,
            "justify_items": null,
            "left": null,
            "margin": null,
            "max_height": null,
            "max_width": null,
            "min_height": null,
            "min_width": null,
            "object_fit": null,
            "object_position": null,
            "order": null,
            "overflow": null,
            "overflow_x": null,
            "overflow_y": null,
            "padding": null,
            "right": null,
            "top": null,
            "visibility": null,
            "width": null
          }
        },
        "8a4ea804173540569249082550176e9a": {
          "model_module": "@jupyter-widgets/controls",
          "model_name": "ProgressStyleModel",
          "model_module_version": "1.5.0",
          "state": {
            "_model_module": "@jupyter-widgets/controls",
            "_model_module_version": "1.5.0",
            "_model_name": "ProgressStyleModel",
            "_view_count": null,
            "_view_module": "@jupyter-widgets/base",
            "_view_module_version": "1.2.0",
            "_view_name": "StyleView",
            "bar_color": null,
            "description_width": ""
          }
        },
        "b3a2b7eb1d484d74bb8be915bcae7675": {
          "model_module": "@jupyter-widgets/base",
          "model_name": "LayoutModel",
          "model_module_version": "1.2.0",
          "state": {
            "_model_module": "@jupyter-widgets/base",
            "_model_module_version": "1.2.0",
            "_model_name": "LayoutModel",
            "_view_count": null,
            "_view_module": "@jupyter-widgets/base",
            "_view_module_version": "1.2.0",
            "_view_name": "LayoutView",
            "align_content": null,
            "align_items": null,
            "align_self": null,
            "border": null,
            "bottom": null,
            "display": null,
            "flex": null,
            "flex_flow": null,
            "grid_area": null,
            "grid_auto_columns": null,
            "grid_auto_flow": null,
            "grid_auto_rows": null,
            "grid_column": null,
            "grid_gap": null,
            "grid_row": null,
            "grid_template_areas": null,
            "grid_template_columns": null,
            "grid_template_rows": null,
            "height": null,
            "justify_content": null,
            "justify_items": null,
            "left": null,
            "margin": null,
            "max_height": null,
            "max_width": null,
            "min_height": null,
            "min_width": null,
            "object_fit": null,
            "object_position": null,
            "order": null,
            "overflow": null,
            "overflow_x": null,
            "overflow_y": null,
            "padding": null,
            "right": null,
            "top": null,
            "visibility": null,
            "width": null
          }
        },
        "e0f502a3f7974282879d268360a4cb4f": {
          "model_module": "@jupyter-widgets/controls",
          "model_name": "DescriptionStyleModel",
          "model_module_version": "1.5.0",
          "state": {
            "_model_module": "@jupyter-widgets/controls",
            "_model_module_version": "1.5.0",
            "_model_name": "DescriptionStyleModel",
            "_view_count": null,
            "_view_module": "@jupyter-widgets/base",
            "_view_module_version": "1.2.0",
            "_view_name": "StyleView",
            "description_width": ""
          }
        }
      }
    }
  },
  "nbformat": 4,
  "nbformat_minor": 0
}