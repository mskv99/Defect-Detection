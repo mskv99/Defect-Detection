{
  "cells": [
    {
      "cell_type": "code",
      "execution_count": null,
      "metadata": {
        "id": "6d4da00d"
      },
      "outputs": [],
      "source": [
        "import os\n",
        "import glob as glob\n",
        "import matplotlib.pyplot as plt\n",
        "import cv2\n",
        "import requests\n",
        "import random\n",
        "import numpy as np\n",
        "import torch\n",
        "\n",
        "\n",
        "np.random.seed(42)"
      ],
      "id": "6d4da00d"
    },
    {
      "cell_type": "markdown",
      "metadata": {
        "id": "d7034839"
      },
      "source": [
        "## Hyperparameters and Constants\n",
        "\n",
        "Here, we define wether to train the model or not and for how many epochs to train for.\n",
        "\n",
        "If `TRAIN = False`, then the last trained model will be used for inference in the notebook if run end to end."
      ],
      "id": "d7034839"
    },
    {
      "cell_type": "code",
      "execution_count": null,
      "metadata": {
        "id": "db6d5dc8"
      },
      "outputs": [],
      "source": [
        "TRAIN = True\n",
        "# Number of epochs to train for.\n",
        "EPOCHS = 60"
      ],
      "id": "db6d5dc8"
    },
    {
      "cell_type": "markdown",
      "metadata": {
        "id": "ab27cc17"
      },
      "source": [
        "## Download and Prepare the Dataset\n",
        "\n",
        "We will use the <a href=\"https://public.roboflow.com/object-detection/vehicles-openimages\" target=\"_blank\">Vehicles-OpenImages</a> dataset for training the custom YOLOv5 object detector.\n",
        "\n",
        "Let's download the dataset."
      ],
      "id": "ab27cc17"
    },
    {
      "cell_type": "code",
      "execution_count": null,
      "metadata": {
        "collapsed": true,
        "id": "HF7tbvNX1wkZ"
      },
      "outputs": [],
      "source": [
        "if not os.path.exists('train'):\n",
        "    #first version of dataset\n",
        "    #!curl -L \"https://app.roboflow.com/ds/DNe4Dp0lLN?key=tGdMD4zYWH\" > roboflow.zip; unzip roboflow.zip; rm roboflow.zip\n",
        "    #second version of dataset\n",
        "    !curl -L \"https://app.roboflow.com/ds/P96heNbKCg?key=3q42JBMbnJ\" > roboflow.zip; unzip roboflow.zip; rm roboflow.zip\n",
        "    # dirs = ['train', 'valid', 'test']\n",
        "\n",
        "    # for i, dir_name in enumerate(dirs):\n",
        "    #     all_image_names = sorted(os.listdir(f\"{dir_name}/images/\"))\n",
        "    #     for j, image_name in enumerate(all_image_names):\n",
        "    #         if (j % 2) == 0:\n",
        "    #             file_name = image_name.split('.jpg')[0]\n",
        "    #             os.remove(f\"{dir_name}/images/{image_name}\")\n",
        "    #             os.remove(f\"{dir_name}/labels/{file_name}.txt\")"
      ],
      "id": "HF7tbvNX1wkZ"
    },
    {
      "cell_type": "markdown",
      "metadata": {
        "id": "rMn-0NbY1wka"
      },
      "source": [
        "The original data had two instances of each image and label file. The rest of the code in the above block deletes the duplicate image and it's corresponding text file containing the label."
      ],
      "id": "rMn-0NbY1wka"
    },
    {
      "cell_type": "markdown",
      "metadata": {
        "id": "GlnDGWyS1wka"
      },
      "source": [
        "The dataset is structured in the following manner:\n",
        "\n",
        "```\n",
        "├── data.yaml\n",
        "├── README.dataset.txt\n",
        "├── README.roboflow.txt\n",
        "├── test\n",
        "│   ├── images\n",
        "│   └── labels\n",
        "├── train\n",
        "│   ├── images\n",
        "│   └── labels\n",
        "└── valid\n",
        "    ├── images\n",
        "    └── labels\n",
        "\n",
        "```"
      ],
      "id": "GlnDGWyS1wka"
    },
    {
      "cell_type": "markdown",
      "metadata": {
        "id": "bY_O3XIk1wkc"
      },
      "source": [
        "## Helper Functions to Download Files"
      ],
      "id": "bY_O3XIk1wkc"
    },
    {
      "cell_type": "markdown",
      "metadata": {
        "id": "80017f5f"
      },
      "source": [
        "The following function is for downloading any file in the notebook. In further sections of the notebook, we will use it for downloading the inference data."
      ],
      "id": "80017f5f"
    },
    {
      "cell_type": "code",
      "execution_count": null,
      "metadata": {
        "id": "b510c4c2"
      },
      "outputs": [],
      "source": [
        "def download_file(url, save_name):\n",
        "    url = url\n",
        "    if not os.path.exists(save_name):\n",
        "        file = requests.get(url)\n",
        "        open(save_name, 'wb').write(file.content)\n",
        "    else:\n",
        "        print('File already present, skipping download...')"
      ],
      "id": "b510c4c2"
    },
    {
      "cell_type": "markdown",
      "metadata": {
        "id": "bffc5c4d"
      },
      "source": [
        "### The Dataset YAML File\n",
        "\n",
        "The dataset YAML (`data.yaml`) file containing the path to the training and validation images and labels is already provided. This file will also contain the class names from the dataset.\n",
        "\n",
        "The dataset contains 5 classes: **'Ambulance', 'Bus', 'Car', 'Motorcycle', 'Truck'**.\n",
        "\n",
        "The following block shows the contents of the `data.yaml` file."
      ],
      "id": "bffc5c4d"
    },
    {
      "cell_type": "markdown",
      "metadata": {
        "id": "f3vwmiLy1wkf"
      },
      "source": [
        "```yaml\n",
        "train: ../train/images\n",
        "val: ../valid/images\n",
        "\n",
        "nc: 5\n",
        "names: ['Ambulance', 'Bus', 'Car', 'Motorcycle', 'Truck']\n",
        "```"
      ],
      "id": "f3vwmiLy1wkf"
    },
    {
      "cell_type": "markdown",
      "metadata": {
        "id": "69105c90"
      },
      "source": [
        "### Visualize a Few Ground Truth Images\n",
        "\n",
        "Before moving forward, let's check out few of the ground truth images.\n",
        "\n",
        "The current annotations in the text files are in normalized `[x_center, y_center, width, height]` format. Let's write a function that will convert it back to `[x_min, y_min, x_max, y_max]` format."
      ],
      "id": "69105c90"
    },
    {
      "cell_type": "code",
      "execution_count": null,
      "metadata": {
        "id": "561f30fc"
      },
      "outputs": [],
      "source": [
        "#class_names=['bridge', 'collapse', 'gap', 'non-bridge', 'normal', 'sraf']\n",
        "\n",
        "class_names = ['bridge', 'collapse', 'gap', 'sraf']\n",
        "colors = np.random.uniform(0, 255, size=(len(class_names), 3))"
      ],
      "id": "561f30fc"
    },
    {
      "cell_type": "code",
      "execution_count": null,
      "metadata": {
        "id": "2edd455f"
      },
      "outputs": [],
      "source": [
        "# Function to convert bounding boxes in YOLO format to xmin, ymin, xmax, ymax.\n",
        "def yolo2bbox(bboxes):\n",
        "    xmin, ymin = bboxes[0]-bboxes[2]/2, bboxes[1]-bboxes[3]/2\n",
        "    xmax, ymax = bboxes[0]+bboxes[2]/2, bboxes[1]+bboxes[3]/2\n",
        "    return xmin, ymin, xmax, ymax"
      ],
      "id": "2edd455f"
    },
    {
      "cell_type": "code",
      "execution_count": null,
      "metadata": {
        "id": "4a6b5fc8"
      },
      "outputs": [],
      "source": [
        "def plot_box(image, bboxes, labels):\n",
        "    # Need the image height and width to denormalize\n",
        "    # the bounding box coordinates\n",
        "    h, w, _ = image.shape\n",
        "    for box_num, box in enumerate(bboxes):\n",
        "        x1, y1, x2, y2 = yolo2bbox(box)\n",
        "        # denormalize the coordinates\n",
        "        xmin = int(x1*w)\n",
        "        ymin = int(y1*h)\n",
        "        xmax = int(x2*w)\n",
        "        ymax = int(y2*h)\n",
        "        width = xmax - xmin\n",
        "        height = ymax - ymin\n",
        "\n",
        "        class_name = class_names[int(labels[box_num])]\n",
        "\n",
        "        cv2.rectangle(\n",
        "            image,\n",
        "            (xmin, ymin), (xmax, ymax),\n",
        "            color=colors[class_names.index(class_name)],\n",
        "            thickness=2\n",
        "        )\n",
        "\n",
        "        font_scale = min(1,max(3,int(w/500)))\n",
        "        font_thickness = min(2, max(10,int(w/50)))\n",
        "\n",
        "        p1, p2 = (int(xmin), int(ymin)), (int(xmax), int(ymax))\n",
        "        # Text width and height\n",
        "        tw, th = cv2.getTextSize(\n",
        "            class_name,\n",
        "            0, fontScale=font_scale, thickness=font_thickness\n",
        "        )[0]\n",
        "        p2 = p1[0] + tw, p1[1] + -th - 10\n",
        "        cv2.rectangle(\n",
        "            image,\n",
        "            p1, p2,\n",
        "            color=colors[class_names.index(class_name)],\n",
        "            thickness=-1,\n",
        "        )\n",
        "        cv2.putText(\n",
        "            image,\n",
        "            class_name,\n",
        "            (xmin+1, ymin-10),\n",
        "            cv2.FONT_HERSHEY_SIMPLEX,\n",
        "            font_scale,\n",
        "            (255, 255, 255),\n",
        "            font_thickness\n",
        "        )\n",
        "    return image"
      ],
      "id": "4a6b5fc8"
    },
    {
      "cell_type": "code",
      "execution_count": null,
      "metadata": {
        "id": "18cba619"
      },
      "outputs": [],
      "source": [
        "# Function to plot images with the bounding boxes.\n",
        "def plot(image_paths, label_paths, num_samples):\n",
        "    all_training_images = glob.glob(image_paths)\n",
        "    all_training_labels = glob.glob(label_paths)\n",
        "    all_training_images.sort()\n",
        "    all_training_labels.sort()\n",
        "\n",
        "    num_images = len(all_training_images)\n",
        "\n",
        "    plt.figure(figsize=(15, 12))\n",
        "    for i in range(num_samples):\n",
        "        j = random.randint(0,num_images-1)\n",
        "        image = cv2.imread(all_training_images[j])\n",
        "        with open(all_training_labels[j], 'r') as f:\n",
        "            bboxes = []\n",
        "            labels = []\n",
        "            label_lines = f.readlines()\n",
        "            for label_line in label_lines:\n",
        "                label = label_line[0]\n",
        "                bbox_string = label_line[2:]\n",
        "                x_c, y_c, w, h = bbox_string.split(' ')\n",
        "                x_c = float(x_c)\n",
        "                y_c = float(y_c)\n",
        "                w = float(w)\n",
        "                h = float(h)\n",
        "                bboxes.append([x_c, y_c, w, h])\n",
        "                labels.append(label)\n",
        "        result_image = plot_box(image, bboxes, labels)\n",
        "        plt.subplot(2, 4, i+1)\n",
        "        plt.imshow(result_image[:, :, ::-1])\n",
        "        plt.axis('off')\n",
        "    plt.subplots_adjust(wspace=0)\n",
        "    plt.tight_layout()\n",
        "    plt.show()"
      ],
      "id": "18cba619"
    },
    {
      "cell_type": "code",
      "execution_count": null,
      "metadata": {
        "id": "7f9d242e"
      },
      "outputs": [],
      "source": [
        "# Visualize a few training images.\n",
        "plot(\n",
        "    image_paths='train/images/*',\n",
        "    label_paths='train/labels/*',\n",
        "    num_samples=8,\n",
        ")"
      ],
      "id": "7f9d242e"
    },
    {
      "cell_type": "markdown",
      "metadata": {
        "id": "9a07c9d1"
      },
      "source": [
        "## Helper Functions for Logging\n",
        "\n",
        "Here, we write the helper functions that we need for logging of the results in the notebook while training the models.\n",
        "\n",
        "Let's create our custom result directories so that we can easily keep track of them and carry out inference using the proper model."
      ],
      "id": "9a07c9d1"
    },
    {
      "cell_type": "code",
      "execution_count": null,
      "metadata": {
        "id": "a66ba3a9"
      },
      "outputs": [],
      "source": [
        "def set_res_dir():\n",
        "    # Directory to store results\n",
        "    res_dir_count = len(glob.glob('runs/train/*'))\n",
        "    print(f\"Current number of result directories: {res_dir_count}\")\n",
        "    if TRAIN:\n",
        "        RES_DIR = f\"results_{res_dir_count+1}\"\n",
        "        print(RES_DIR)\n",
        "    else:\n",
        "        RES_DIR = f\"results_{res_dir_count}\"\n",
        "    return RES_DIR"
      ],
      "id": "a66ba3a9"
    },
    {
      "cell_type": "markdown",
      "metadata": {
        "id": "074d4784"
      },
      "source": [
        "**Function to Monitor TensorBoard logs**."
      ],
      "id": "074d4784"
    },
    {
      "cell_type": "markdown",
      "metadata": {
        "id": "20e6bd98"
      },
      "source": [
        "## Clone YOLOV5 Repository"
      ],
      "id": "20e6bd98"
    },
    {
      "cell_type": "code",
      "execution_count": null,
      "metadata": {
        "id": "c0d1d163"
      },
      "outputs": [],
      "source": [
        "if not os.path.exists('yolov5'):\n",
        "    !git clone https://github.com/ultralytics/yolov5.git"
      ],
      "id": "c0d1d163"
    },
    {
      "cell_type": "code",
      "execution_count": null,
      "metadata": {
        "id": "a5d51690"
      },
      "outputs": [],
      "source": [
        "%cd yolov5/\n",
        "!pwd"
      ],
      "id": "a5d51690"
    },
    {
      "cell_type": "code",
      "execution_count": null,
      "metadata": {
        "collapsed": true,
        "id": "5HKnG4RH4PaJ"
      },
      "outputs": [],
      "source": [
        "!pip install -r requirements.txt"
      ],
      "id": "5HKnG4RH4PaJ"
    },
    {
      "cell_type": "code",
      "execution_count": null,
      "metadata": {
        "id": "5YS5-9Be0XWA",
        "collapsed": true
      },
      "outputs": [],
      "source": [
        "!pip install wandb"
      ],
      "id": "5YS5-9Be0XWA"
    },
    {
      "cell_type": "markdown",
      "metadata": {
        "id": "43df9ad6"
      },
      "source": [
        "## Training using YOLOV5"
      ],
      "id": "43df9ad6"
    },
    {
      "cell_type": "markdown",
      "metadata": {
        "id": "95932208"
      },
      "source": [
        "The next step is to train the neural network model."
      ],
      "id": "95932208"
    },
    {
      "cell_type": "markdown",
      "metadata": {
        "id": "a26e6a48"
      },
      "source": [
        "### Train a Small (yolov5s) Model\n",
        "\n",
        "Training all the layers of the small model."
      ],
      "id": "a26e6a48"
    },
    {
      "cell_type": "code",
      "execution_count": null,
      "metadata": {
        "id": "ec9999f9"
      },
      "outputs": [],
      "source": [
        "RES_DIR = set_res_dir()\n",
        "if TRAIN:\n",
        "    !python train.py --data ../data.yaml --weights yolov5s.pt \\\n",
        "    --img 640 --epochs {EPOCHS} --batch-size 16 --name {RES_DIR}\\\n",
        "    --bbox_interval 1\n"
      ],
      "id": "ec9999f9"
    },
    {
      "cell_type": "markdown",
      "metadata": {
        "id": "c666b4f5"
      },
      "source": [
        "## Check Out the Validation Predictions and Inference\n",
        "\n",
        "In this section, we will check out the predictions of the validation images saved during training. Along with that, we will also check out inference of images and videos."
      ],
      "id": "c666b4f5"
    },
    {
      "cell_type": "markdown",
      "metadata": {
        "id": "2a9a4edc"
      },
      "source": [
        "### Visualization and Inference Utilities"
      ],
      "id": "2a9a4edc"
    },
    {
      "cell_type": "markdown",
      "metadata": {
        "id": "f7f366ae"
      },
      "source": [
        "We will visualize the validation prediction images that are saved during training. The following is the function for that."
      ],
      "id": "f7f366ae"
    },
    {
      "cell_type": "code",
      "execution_count": null,
      "metadata": {
        "id": "FVMUgoFQNWcg"
      },
      "outputs": [],
      "source": [
        "!ls runs/train/results_1/"
      ],
      "id": "FVMUgoFQNWcg"
    },
    {
      "cell_type": "code",
      "execution_count": null,
      "metadata": {
        "id": "aW5ynaDCNyIO"
      },
      "outputs": [],
      "source": [
        "search_png = glob.glob(\"runs/train/results_1/*.png\")\n",
        "print(search_png)\n"
      ],
      "id": "aW5ynaDCNyIO"
    },
    {
      "cell_type": "code",
      "execution_count": null,
      "metadata": {
        "id": "ce7d9170"
      },
      "outputs": [],
      "source": [
        "# Function to show validation predictions saved during training.\n",
        "def show_valid_results(RES_DIR):\n",
        "    !ls runs/train/{RES_DIR}\n",
        "    EXP_PATH = f\"runs/train/{RES_DIR}\"\n",
        "    validation_pred_images = glob.glob(f\"{EXP_PATH}/*_pred.jpg\")\n",
        "    print(validation_pred_images)\n",
        "    for pred_image in validation_pred_images:\n",
        "        image = cv2.imread(pred_image)\n",
        "        plt.figure(figsize=(19, 16))\n",
        "        plt.imshow(image[:, :, ::-1])\n",
        "        plt.axis('off')\n",
        "        plt.show()"
      ],
      "id": "ce7d9170"
    },
    {
      "cell_type": "markdown",
      "metadata": {
        "id": "1051c856"
      },
      "source": [
        "The following functions are for carrying out inference on images and videos."
      ],
      "id": "1051c856"
    },
    {
      "cell_type": "code",
      "execution_count": null,
      "metadata": {
        "id": "082de152"
      },
      "outputs": [],
      "source": [
        "# Helper function for inference on images.\n",
        "def inference(RES_DIR, data_path):\n",
        "    # Directory to store inference results.\n",
        "    infer_dir_count = len(glob.glob('runs/detect/*'))\n",
        "    print(f\"Current number of inference detection directories: {infer_dir_count}\")\n",
        "    INFER_DIR = f\"inference_{infer_dir_count+1}\"\n",
        "    print(INFER_DIR)\n",
        "    # Inference on images.\n",
        "    !python detect.py --weights runs/train/{RES_DIR}/weights/best.pt \\\n",
        "    --source {data_path} --name {INFER_DIR} --conf 0.5\n",
        "    return INFER_DIR"
      ],
      "id": "082de152"
    },
    {
      "cell_type": "markdown",
      "metadata": {
        "id": "2d440c92"
      },
      "source": [
        "We may also need to visualize images in any of the directories. The following function accepts a directory path and plots all the images in them."
      ],
      "id": "2d440c92"
    },
    {
      "cell_type": "code",
      "execution_count": null,
      "metadata": {
        "id": "e81a2aaf"
      },
      "outputs": [],
      "source": [
        "from IPython.display import Image, display\n",
        "\n",
        "def visualize(INFER_DIR):\n",
        "# Visualize inference images.\n",
        "    INFER_PATH = f\"runs/detect/{INFER_DIR}\"\n",
        "    infer_images = glob.glob(f\"{INFER_PATH}/*.jpg\")\n",
        "    print(infer_images)\n",
        "    for pred_image in infer_images:\n",
        "      display(Image(filename=pred_image))\n",
        "      print('\\n')\n",
        "        # image = cv2.imread(pred_image)\n",
        "        # plt.figure(figsize=(10, 10))\n",
        "        # plt.imshow(image[:, :, ::-1])\n",
        "        # plt.axis('off')\n",
        "        # plt.show()"
      ],
      "id": "e81a2aaf"
    },
    {
      "cell_type": "markdown",
      "metadata": {
        "id": "9a8fa70a"
      },
      "source": [
        "**Visualize validation prediction images.**"
      ],
      "id": "9a8fa70a"
    },
    {
      "cell_type": "code",
      "execution_count": null,
      "metadata": {
        "collapsed": true,
        "id": "deea155b"
      },
      "outputs": [],
      "source": [
        "show_valid_results(RES_DIR)"
      ],
      "id": "deea155b"
    },
    {
      "cell_type": "markdown",
      "metadata": {
        "id": "2U8j7Ni08JeZ"
      },
      "source": [
        "### Inference\n",
        "In this section, we will carry out inference on unseen images and videos from the internet.\n",
        "\n",
        "The images for inference are in the `inference_images` directory.\n",
        "\n",
        "The videos for inference are in the `inference_videos` directory."
      ],
      "id": "2U8j7Ni08JeZ"
    },
    {
      "cell_type": "markdown",
      "metadata": {
        "id": "PA3Xt-sZ9j53"
      },
      "source": [
        "### Inference on Images"
      ],
      "id": "PA3Xt-sZ9j53"
    },
    {
      "cell_type": "markdown",
      "metadata": {
        "id": "dUeb1ZdT9vaW"
      },
      "source": [
        "**To carry out inference on images, we just need to provide the directory path where all the images are stored, and inference will happen on all images automatically.**"
      ],
      "id": "dUeb1ZdT9vaW"
    },
    {
      "cell_type": "code",
      "execution_count": null,
      "metadata": {
        "id": "iS-qNzHR97Ce",
        "collapsed": true
      },
      "outputs": [],
      "source": [
        "# Inference on images.\n",
        "IMAGE_INFER_DIR = inference(RES_DIR, '/content/test/images/')"
      ],
      "id": "iS-qNzHR97Ce"
    },
    {
      "cell_type": "code",
      "execution_count": null,
      "metadata": {
        "id": "977cbb39"
      },
      "outputs": [],
      "source": [
        "visualize(IMAGE_INFER_DIR)"
      ],
      "id": "977cbb39"
    },
    {
      "cell_type": "markdown",
      "metadata": {
        "id": "6e1739ff"
      },
      "source": [
        "## Training and Inference using  Medium Model"
      ],
      "id": "6e1739ff"
    },
    {
      "cell_type": "code",
      "execution_count": null,
      "metadata": {
        "id": "0d8a4fa7"
      },
      "outputs": [],
      "source": [
        "RES_DIR = set_res_dir()\n",
        "if TRAIN:\n",
        "    !python train.py --data ../data.yaml --weights yolov5m.pt \\\n",
        "    --img 640 --epochs {60} --batch-size 16 --name {RES_DIR}\\\n",
        "    --hyp /content/yolov5/data/hyps/hyp_evolve.yaml"
      ],
      "id": "0d8a4fa7"
    },
    {
      "cell_type": "code",
      "execution_count": null,
      "metadata": {
        "id": "ORIiepDSVz53"
      },
      "outputs": [],
      "source": [
        "RES_DIR\n"
      ],
      "id": "ORIiepDSVz53"
    },
    {
      "cell_type": "code",
      "execution_count": null,
      "metadata": {
        "id": "mChZ_nx1VXmk"
      },
      "outputs": [],
      "source": [
        "show_valid_results(RES_DIR)"
      ],
      "id": "mChZ_nx1VXmk"
    },
    {
      "cell_type": "code",
      "execution_count": null,
      "metadata": {
        "id": "4039caeb",
        "collapsed": true
      },
      "outputs": [],
      "source": [
        "# Inference on images.\n",
        "IMAGE_INFER_DIR = inference(RES_DIR, '/content/test/images/')"
      ],
      "id": "4039caeb"
    },
    {
      "cell_type": "code",
      "execution_count": null,
      "metadata": {
        "id": "9356b554"
      },
      "outputs": [],
      "source": [
        "visualize(IMAGE_INFER_DIR)"
      ],
      "id": "9356b554"
    },
    {
      "cell_type": "markdown",
      "source": [
        "# Train and inference using large model"
      ],
      "metadata": {
        "id": "BmSQ0lY_qIhF"
      },
      "id": "BmSQ0lY_qIhF"
    },
    {
      "cell_type": "code",
      "source": [
        "RES_DIR = set_res_dir()\n",
        "if TRAIN:\n",
        "    !python train.py --data ../data.yaml --weights yolov5l.pt \\\n",
        "    --img 640 --epochs {EPOCHS} --batch-size 16 --name {RES_DIR}\\\n",
        "    --bbox_interval 1"
      ],
      "metadata": {
        "id": "CAKP3O-dqOlq"
      },
      "id": "CAKP3O-dqOlq",
      "execution_count": null,
      "outputs": []
    },
    {
      "cell_type": "code",
      "source": [
        "show_valid_results(RES_DIR)"
      ],
      "metadata": {
        "id": "fvop-qdirJP1"
      },
      "id": "fvop-qdirJP1",
      "execution_count": null,
      "outputs": []
    },
    {
      "cell_type": "code",
      "source": [
        "# Inference on images.\n",
        "IMAGE_INFER_DIR = inference(RES_DIR, '/content/test/images/')"
      ],
      "metadata": {
        "id": "uaBoUlr1rQGN"
      },
      "id": "uaBoUlr1rQGN",
      "execution_count": null,
      "outputs": []
    },
    {
      "cell_type": "code",
      "source": [
        "visualize(IMAGE_INFER_DIR)"
      ],
      "metadata": {
        "id": "Xnbj4KR3rklZ"
      },
      "id": "Xnbj4KR3rklZ",
      "execution_count": null,
      "outputs": []
    },
    {
      "cell_type": "markdown",
      "metadata": {
        "id": "4ef00838"
      },
      "source": [
        "## Freezing Layers and Training the Medium Model\n",
        "\n",
        "The Medium model (yolov5m) contains 25 blocks layers in total more than 20 million parameters. We need not train all the layers. Let's freeze a few layers and train again. This will result in faster iteration per epoch. Here, we freeze the first 15 blocks."
      ],
      "id": "4ef00838"
    },
    {
      "cell_type": "code",
      "execution_count": null,
      "metadata": {
        "id": "1c316bfe"
      },
      "outputs": [],
      "source": [
        "RES_DIR = set_res_dir()\n",
        "if TRAIN:\n",
        "    !python train.py --data ../data.yaml --weights yolov5m.pt \\\n",
        "    --img 640 --epochs {EPOCHS} --batch-size 16 --name {RES_DIR} \\\n",
        "    --freeze 0 1 2 3 4 5 6 7 8 9 10 11 12 13 14"
      ],
      "id": "1c316bfe"
    },
    {
      "cell_type": "markdown",
      "source": [
        "# Tuning hyperparameters\n"
      ],
      "metadata": {
        "id": "pQ4LtE25U4ic"
      },
      "id": "pQ4LtE25U4ic"
    },
    {
      "cell_type": "code",
      "source": [
        "def fitness(x):\n",
        "    # Model fitness as a weighted combination of metrics\n",
        "    w = [0.0, 0.0, 0.6, 0.4]  # weights for [P, R, mAP@0.5, mAP@0.5:0.95]\n",
        "    return (x[:, :4] * w).sum(1)\n"
      ],
      "metadata": {
        "id": "O0X-kHPjVAga"
      },
      "id": "O0X-kHPjVAga",
      "execution_count": null,
      "outputs": []
    },
    {
      "cell_type": "code",
      "source": [
        "RES_DIR = set_res_dir()"
      ],
      "metadata": {
        "id": "kxl-uY9XhnME"
      },
      "id": "kxl-uY9XhnME",
      "execution_count": null,
      "outputs": []
    },
    {
      "cell_type": "code",
      "source": [
        "!python train.py --epochs 15 --data ../data.yaml --weights yolov5m.pt --cache --evolve"
      ],
      "metadata": {
        "id": "aTl1C5KOVf6m"
      },
      "id": "aTl1C5KOVf6m",
      "execution_count": null,
      "outputs": []
    },
    {
      "cell_type": "code",
      "source": [
        "from utils import plots\n",
        "plots.plot_evolve('/content/yolov5/runs/evolve/exp/evolve.csv')"
      ],
      "metadata": {
        "id": "ngk8LgaynID1"
      },
      "id": "ngk8LgaynID1",
      "execution_count": null,
      "outputs": []
    },
    {
      "cell_type": "markdown",
      "metadata": {
        "id": "1gkrRqIp9prh"
      },
      "source": [
        "# Roboflow Inference\n"
      ],
      "id": "1gkrRqIp9prh"
    },
    {
      "cell_type": "code",
      "execution_count": null,
      "metadata": {
        "collapsed": true,
        "id": "bolBVkaU-PUU"
      },
      "outputs": [],
      "source": [
        "!pip install roboflow"
      ],
      "id": "bolBVkaU-PUU"
    },
    {
      "cell_type": "code",
      "execution_count": null,
      "metadata": {
        "id": "eFP7gtzq9xcx"
      },
      "outputs": [],
      "source": [
        "from roboflow import Roboflow\n",
        "\n",
        "from IPython.display import Image, display\n",
        "\n",
        "rf = Roboflow(api_key=\"YrBQIkPs3zPlUZ2J6fSi\")\n",
        "project = rf.workspace().project(\"defect-detection-ikxln\")\n",
        "model = project.version(1).model\n",
        "\n",
        "\n"
      ],
      "id": "eFP7gtzq9xcx"
    },
    {
      "cell_type": "code",
      "execution_count": null,
      "metadata": {
        "id": "ykLikZ519uiP"
      },
      "outputs": [],
      "source": [
        "def roboflow_inference(INFER_PATH=\"/content/test/images/\"):\n",
        "# Visualize inference images.\n",
        "    infer_images = glob.glob(f\"{INFER_PATH}/*.jpg\")\n",
        "    print(infer_images)\n",
        "    for pred_image in infer_images:\n",
        "      model.predict(pred_image, confidence=50, overlap=0).plot()\n",
        "      #display(Image(filename=pred_image))\n",
        "      print('\\n')\n",
        "\n",
        "# infer on a local image\n",
        "#print(model.predict(\"your_image.jpg\", confidence=40, overlap=30).json())\n",
        "\n",
        "# visualize your prediction\n",
        "# model.predict(\"your_image.jpg\", confidence=40, overlap=30).save(\"prediction.jpg\")\n",
        "\n",
        "# infer on an image hosted elsewhere\n",
        "# print(model.predict(\"URL_OF_YOUR_IMAGE\", hosted=True, confidence=40, overlap=30).json())"
      ],
      "id": "ykLikZ519uiP"
    },
    {
      "cell_type": "code",
      "execution_count": null,
      "metadata": {
        "id": "JESxCIBK_pQA"
      },
      "outputs": [],
      "source": [
        "roboflow_inference()"
      ],
      "id": "JESxCIBK_pQA"
    },
    {
      "cell_type": "code",
      "execution_count": null,
      "metadata": {
        "id": "mBPJXpk6_oIs"
      },
      "outputs": [],
      "source": [],
      "id": "mBPJXpk6_oIs"
    },
    {
      "cell_type": "markdown",
      "metadata": {
        "id": "snJjmQFrPKCR"
      },
      "source": [
        "# YOLOV5 medium inference\n",
        "\n"
      ],
      "id": "snJjmQFrPKCR"
    },
    {
      "cell_type": "code",
      "execution_count": null,
      "metadata": {
        "id": "P3FfzcsBSRaF"
      },
      "outputs": [],
      "source": [
        "!pip install -U ultralytics\n"
      ],
      "id": "P3FfzcsBSRaF"
    },
    {
      "cell_type": "code",
      "execution_count": null,
      "metadata": {
        "id": "pQN9fVlsQV_8"
      },
      "outputs": [],
      "source": [
        "!wandb login"
      ],
      "id": "pQN9fVlsQV_8"
    },
    {
      "cell_type": "code",
      "execution_count": null,
      "metadata": {
        "colab": {
          "background_save": true
        },
        "id": "OVR6i5kVPOnZ"
      },
      "outputs": [],
      "source": [
        "import wandb\n",
        "run = wandb.init()\n",
        "artifact = run.use_artifact('ml_team_mskv/YOLOv5/run_rq4k72tk_model:v0', type='model')\n",
        "artifact_dir = artifact.download()"
      ],
      "id": "OVR6i5kVPOnZ"
    },
    {
      "cell_type": "code",
      "execution_count": null,
      "metadata": {
        "id": "vJzDqw7sP20E"
      },
      "outputs": [],
      "source": [
        "model_path = os.path.join(artifact_dir, 'best.pt')\n",
        "model = torch.hub.load('ultralytics/yolov5', 'custom', path = model_path)\n"
      ],
      "id": "vJzDqw7sP20E"
    },
    {
      "cell_type": "code",
      "execution_count": null,
      "metadata": {
        "id": "f97HCs7RRfos"
      },
      "outputs": [],
      "source": [
        "!unzip test_images.zip"
      ],
      "id": "f97HCs7RRfos"
    },
    {
      "cell_type": "code",
      "execution_count": null,
      "metadata": {
        "id": "NPMvTE05XtSI"
      },
      "outputs": [],
      "source": [
        "!unzip new_gap_jpg_format.zip\n"
      ],
      "id": "NPMvTE05XtSI"
    },
    {
      "cell_type": "code",
      "execution_count": null,
      "metadata": {
        "id": "PpzElRcdVtVn"
      },
      "outputs": [],
      "source": [
        "from IPython.display import Image, display\n",
        "\n",
        "INFER_DIR = \"new_gap_jpg_format\"\n",
        "infer_images = glob.glob(f\"{INFER_DIR}/*.jpg\")\n",
        "print(infer_images)\n",
        "\n",
        "\n",
        "for pred_image in infer_images:\n",
        "  result = model(pred_image, size = 250)\n",
        "  pred_df = result.pandas().xyxy[0]\n",
        "  pred_df['file_name'] = pred_image.split('/')[1]\n",
        "  pred_df['directory'] = INFER_DIR\n",
        "\n",
        "  if pred_df.empty == True:\n",
        "    one_row = pd.DataFrame({\"xmin\": '0', \"ymin\": '0', \"xmax\": '0',\n",
        "       \"ymax\" : '0', \"confidence\": '0', \"class\": 'good',\n",
        "        \"name\": \"non-defect\"}, index=[0])\n",
        "    #pred_df = pred_df.append(one_row, ignore_index = True)\n",
        "    pred_df = pd.concat([pred_df, one_row])\n",
        "    pred_df['file_name'] = pred_image.split('/')[1]\n",
        "    pred_df['directory'] = INFER_DIR\n",
        "\n",
        "\n",
        "  prediction_path = pred_image.split('.')[0] + 'prediction.csv'\n",
        "  pred_df.to_csv(prediction_path)\n",
        "\n",
        "  print(pred_df)\n",
        "\n",
        "\n",
        "  #result.print()\n",
        "  #result.show()\n",
        "  print('\\n')\n"
      ],
      "id": "PpzElRcdVtVn"
    },
    {
      "cell_type": "code",
      "execution_count": null,
      "metadata": {
        "id": "PjhVFuMyWS4K"
      },
      "outputs": [],
      "source": [
        "from requests.models import DEFAULT_REDIRECT_LIMIT\n",
        "import pandas as pd\n",
        "\n",
        "\n",
        "# df.iloc[1]['xmin'] = np.nan\n",
        "# df['ymin'] = np.nan\n",
        "# df['xmax'] = np.nan\n",
        "# df['ymax'] = np.nan\n",
        "# df['confidence'] = np.nan\n",
        "# df['name'] = 'non-defect'\n",
        "df\n",
        "\n",
        "df2 = pd.DataFrame({\"xmin\": '0', \"ymin\": '0', \"xmax\": '0',\n",
        "       \"ymax\" : '0', \"confidence\": '0', \"class\": 'good',\n",
        "        \"name\": \"non-defect\"}, index=[0])\n",
        "df = df.append(df2, ignore_index = True)\n",
        "df['file_name'] = pred_image.split('/')[1]\n",
        "df['file_path'] = os.path.join(INFER_PATH)\n",
        "df"
      ],
      "id": "PjhVFuMyWS4K"
    },
    {
      "cell_type": "code",
      "execution_count": null,
      "metadata": {
        "id": "Qj4RnOn0rfhF"
      },
      "outputs": [],
      "source": [],
      "id": "Qj4RnOn0rfhF"
    }
  ],
  "metadata": {
    "colab": {
      "collapsed_sections": [
        "a26e6a48",
        "2a9a4edc",
        "PA3Xt-sZ9j53",
        "BmSQ0lY_qIhF",
        "1gkrRqIp9prh",
        "snJjmQFrPKCR"
      ],
      "provenance": []
    },
    "kernelspec": {
      "display_name": "Python 3",
      "name": "python3"
    },
    "language_info": {
      "codemirror_mode": {
        "name": "ipython",
        "version": 3
      },
      "file_extension": ".py",
      "mimetype": "text/x-python",
      "name": "python",
      "nbconvert_exporter": "python",
      "pygments_lexer": "ipython3",
      "version": "3.10.4"
    }
  },
  "nbformat": 4,
  "nbformat_minor": 5
}